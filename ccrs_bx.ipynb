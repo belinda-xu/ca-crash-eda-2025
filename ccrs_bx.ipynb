{
 "cells": [
  {
   "cell_type": "markdown",
   "id": "e14fa9a9",
   "metadata": {},
   "source": [
    "### Exploring Car Collision Patterns in California (2025 YTD)"
   ]
  },
  {
   "cell_type": "markdown",
   "id": "46455eb5",
   "metadata": {},
   "source": [
    "#### General Info\n",
    "\n",
    "Project Type: Exploratory Data Analysis (EDA)\n",
    "\n",
    "Tools: Python, Pandas, NumPy, Plotly\n",
    "\n",
    "Date: August 2025\n",
    "\n",
    "Data Source: California Crash Reporting System (CCRS)\n",
    "\n",
    "Link: https://data.ca.gov/dataset/ccrs/resource/9f4fc839-122d-4595-a146-43bc4ed16f46 \n",
    "\n",
    "\n",
    "#### Description\n",
    "This dataset is from the California Crash Reporting System (CCRS), published by the California Highway Patrol. It contains collision records for 2025 YTD, including dates, locations, involved parties, and injury counts. This data supports traffic safety and risk analysis."
   ]
  },
  {
   "cell_type": "markdown",
   "id": "7129dcde",
   "metadata": {},
   "source": [
    "#### Data Cleaning & Preparation\n",
    "\n",
    "Prior to EDA, data prep included:\n",
    "\n",
    "•\tStandardizing column names for readability\n",
    "\n",
    "•\tInspecting data types, size, and completeness\n",
    "\n",
    "•\tHandling missing values by dropping columns with >70% nulls\n",
    "\n",
    "•\tRemoving irrelevant fields (e.g., sketch notes, milepost details)\n",
    "\n",
    "•\tVerifying Collision_id as a unique identifier\n",
    "\n",
    "•\tChecking redundancy between related fields (e.g., IsHighwayRelated vs IsFreeway)"
   ]
  },
  {
   "cell_type": "code",
   "execution_count": 30,
   "id": "74ecff5f",
   "metadata": {},
   "outputs": [
    {
     "name": "stderr",
     "output_type": "stream",
     "text": [
      "/var/folders/59/kn5xzsps5mv5g30gtzx52jh40000gn/T/ipykernel_92695/2181682616.py:16: DtypeWarning:\n",
      "\n",
      "Columns (5,13,14,24,44,54,70) have mixed types. Specify dtype option on import or set low_memory=False.\n",
      "\n"
     ]
    },
    {
     "data": {
      "text/html": [
       "<div>\n",
       "<style scoped>\n",
       "    .dataframe tbody tr th:only-of-type {\n",
       "        vertical-align: middle;\n",
       "    }\n",
       "\n",
       "    .dataframe tbody tr th {\n",
       "        vertical-align: top;\n",
       "    }\n",
       "\n",
       "    .dataframe thead th {\n",
       "        text-align: right;\n",
       "    }\n",
       "</style>\n",
       "<table border=\"1\" class=\"dataframe\">\n",
       "  <thead>\n",
       "    <tr style=\"text-align: right;\">\n",
       "      <th></th>\n",
       "      <th>_id</th>\n",
       "      <th>Collision Id</th>\n",
       "      <th>Report Number</th>\n",
       "      <th>Report Version</th>\n",
       "      <th>Is Preliminary</th>\n",
       "      <th>NCIC Code</th>\n",
       "      <th>Crash Date Time</th>\n",
       "      <th>Crash Time Description</th>\n",
       "      <th>Beat</th>\n",
       "      <th>City Id</th>\n",
       "      <th>City Code</th>\n",
       "      <th>City Name</th>\n",
       "      <th>County Code</th>\n",
       "      <th>City Is Active</th>\n",
       "      <th>City Is Incorporated</th>\n",
       "      <th>Collision Type Code</th>\n",
       "      <th>Collision Type Description</th>\n",
       "      <th>Collision Type Other Desc</th>\n",
       "      <th>Day Of Week</th>\n",
       "      <th>DispatchNotified</th>\n",
       "      <th>HasPhotographs</th>\n",
       "      <th>HitRun</th>\n",
       "      <th>IsAttachmentsMailed</th>\n",
       "      <th>IsDeleted</th>\n",
       "      <th>IsHighwayRelated</th>\n",
       "      <th>IsTowAway</th>\n",
       "      <th>JudicialDistrict</th>\n",
       "      <th>MotorVehicleInvolvedWithCode</th>\n",
       "      <th>MotorVehicleInvolvedWithDesc</th>\n",
       "      <th>MotorVehicleInvolvedWithOtherDesc</th>\n",
       "      <th>NumberInjured</th>\n",
       "      <th>NumberKilled</th>\n",
       "      <th>Weather 1</th>\n",
       "      <th>Weather 2</th>\n",
       "      <th>Road Condition 1</th>\n",
       "      <th>Road Condition 2</th>\n",
       "      <th>Special Condition</th>\n",
       "      <th>LightingCode</th>\n",
       "      <th>LightingDescription</th>\n",
       "      <th>Latitude</th>\n",
       "      <th>Longitude</th>\n",
       "      <th>MilepostDirection</th>\n",
       "      <th>MilepostDistance</th>\n",
       "      <th>MilepostMarker</th>\n",
       "      <th>MilepostUnitOfMeasure</th>\n",
       "      <th>PedestrianActionCode</th>\n",
       "      <th>PedestrianActionDesc</th>\n",
       "      <th>PreparedDate</th>\n",
       "      <th>Primary Collision Factor Code</th>\n",
       "      <th>Primary Collision Factor Violation</th>\n",
       "      <th>PrimaryCollisionFactorIsCited</th>\n",
       "      <th>PrimaryCollisionPartyNumber</th>\n",
       "      <th>PrimaryRoad</th>\n",
       "      <th>ReportingDistrict</th>\n",
       "      <th>ReportingDistrictCode</th>\n",
       "      <th>ReviewedDate</th>\n",
       "      <th>RoadwaySurfaceCode</th>\n",
       "      <th>SecondaryDirection</th>\n",
       "      <th>SecondaryDistance</th>\n",
       "      <th>SecondaryRoad</th>\n",
       "      <th>SecondaryUnitOfMeasure</th>\n",
       "      <th>SketchDesc</th>\n",
       "      <th>TrafficControlDeviceCode</th>\n",
       "      <th>CreatedDate</th>\n",
       "      <th>ModifiedDate</th>\n",
       "      <th>IsCountyRoad</th>\n",
       "      <th>IsFreeway</th>\n",
       "      <th>CHP555Version</th>\n",
       "      <th>IsAdditonalObjectStruck</th>\n",
       "      <th>NotificationDate</th>\n",
       "      <th>NotificationTimeDescription</th>\n",
       "      <th>HasDigitalMediaFiles</th>\n",
       "      <th>EvidenceNumber</th>\n",
       "      <th>IsLocationReferToNarrative</th>\n",
       "      <th>IsAOIOneSameAsLocation</th>\n",
       "    </tr>\n",
       "  </thead>\n",
       "  <tbody>\n",
       "    <tr>\n",
       "      <th>0</th>\n",
       "      <td>1</td>\n",
       "      <td>4550264</td>\n",
       "      <td>250110005</td>\n",
       "      <td>1</td>\n",
       "      <td>False</td>\n",
       "      <td>4116</td>\n",
       "      <td>2025-01-10T08:28:00</td>\n",
       "      <td>828</td>\n",
       "      <td>A</td>\n",
       "      <td>1,310.00</td>\n",
       "      <td>4,116.00</td>\n",
       "      <td>San Mateo</td>\n",
       "      <td>41.00</td>\n",
       "      <td>True</td>\n",
       "      <td>True</td>\n",
       "      <td>C</td>\n",
       "      <td>REAR END</td>\n",
       "      <td>NaN</td>\n",
       "      <td>Friday</td>\n",
       "      <td>NotApplicable</td>\n",
       "      <td>True</td>\n",
       "      <td>NaN</td>\n",
       "      <td>NaN</td>\n",
       "      <td>False</td>\n",
       "      <td>False</td>\n",
       "      <td>False</td>\n",
       "      <td>NORTHERN TRAFFIC</td>\n",
       "      <td>C</td>\n",
       "      <td>OTHER MOTOR VEHICLE</td>\n",
       "      <td>NaN</td>\n",
       "      <td>1.00</td>\n",
       "      <td>0.00</td>\n",
       "      <td>CLEAR</td>\n",
       "      <td>NaN</td>\n",
       "      <td>NO UNUSUAL CONDITIONS</td>\n",
       "      <td>NaN</td>\n",
       "      <td></td>\n",
       "      <td>A</td>\n",
       "      <td>DAYLIGHT</td>\n",
       "      <td>37.57</td>\n",
       "      <td>-122.33</td>\n",
       "      <td>NaN</td>\n",
       "      <td>NaN</td>\n",
       "      <td>NaN</td>\n",
       "      <td>NaN</td>\n",
       "      <td>A</td>\n",
       "      <td>NO PEDESTRIANS INVOLVED</td>\n",
       "      <td>NaN</td>\n",
       "      <td>A</td>\n",
       "      <td>22350 VC</td>\n",
       "      <td>False</td>\n",
       "      <td>1.00</td>\n",
       "      <td>N EL CAMINO REAL</td>\n",
       "      <td>13A</td>\n",
       "      <td>NaN</td>\n",
       "      <td>NaN</td>\n",
       "      <td>A</td>\n",
       "      <td>NaN</td>\n",
       "      <td>NaN</td>\n",
       "      <td>TILTON AVENUE</td>\n",
       "      <td>NaN</td>\n",
       "      <td>NaN</td>\n",
       "      <td>A</td>\n",
       "      <td>2025-01-27T09:04:06</td>\n",
       "      <td>2025-01-27T09:04:06</td>\n",
       "      <td>NaN</td>\n",
       "      <td>NaN</td>\n",
       "      <td>4</td>\n",
       "      <td>NaN</td>\n",
       "      <td>NaN</td>\n",
       "      <td>NaN</td>\n",
       "      <td>NaN</td>\n",
       "      <td>NaN</td>\n",
       "      <td>NaN</td>\n",
       "      <td>NaN</td>\n",
       "    </tr>\n",
       "    <tr>\n",
       "      <th>1</th>\n",
       "      <td>2</td>\n",
       "      <td>4550263</td>\n",
       "      <td>9580-2025-00214</td>\n",
       "      <td>1</td>\n",
       "      <td>False</td>\n",
       "      <td>9580</td>\n",
       "      <td>2025-01-23T08:45:00</td>\n",
       "      <td>845</td>\n",
       "      <td>171</td>\n",
       "      <td>535.00</td>\n",
       "      <td>1,942.00</td>\n",
       "      <td>Los Angeles</td>\n",
       "      <td>19.00</td>\n",
       "      <td>True</td>\n",
       "      <td>True</td>\n",
       "      <td>B</td>\n",
       "      <td>SIDE SWIPE</td>\n",
       "      <td>NaN</td>\n",
       "      <td>Thursday</td>\n",
       "      <td>NotApplicable</td>\n",
       "      <td>False</td>\n",
       "      <td>M</td>\n",
       "      <td>NaN</td>\n",
       "      <td>False</td>\n",
       "      <td>True</td>\n",
       "      <td>False</td>\n",
       "      <td>LOS ANGELES SUPERIOR COURT VAN NUYS COURTHOUSE...</td>\n",
       "      <td>C</td>\n",
       "      <td>OTHER MOTOR VEHICLE</td>\n",
       "      <td>NaN</td>\n",
       "      <td>0.00</td>\n",
       "      <td>0.00</td>\n",
       "      <td>CLEAR</td>\n",
       "      <td>NaN</td>\n",
       "      <td>NO UNUSUAL CONDITIONS</td>\n",
       "      <td>NaN</td>\n",
       "      <td></td>\n",
       "      <td>A</td>\n",
       "      <td>DAYLIGHT</td>\n",
       "      <td>34.20</td>\n",
       "      <td>-118.40</td>\n",
       "      <td>NaN</td>\n",
       "      <td>NaN</td>\n",
       "      <td>NaN</td>\n",
       "      <td>NaN</td>\n",
       "      <td>A</td>\n",
       "      <td>NO PEDESTRIANS INVOLVED</td>\n",
       "      <td>2025-01-23T08:45:00</td>\n",
       "      <td>A</td>\n",
       "      <td>VC 22107</td>\n",
       "      <td>False</td>\n",
       "      <td>1.00</td>\n",
       "      <td>SR-170 S/B FROM SHERMAN WAY</td>\n",
       "      <td>NaN</td>\n",
       "      <td>NaN</td>\n",
       "      <td>2025-01-27T09:03:34</td>\n",
       "      <td>A</td>\n",
       "      <td>S</td>\n",
       "      <td>500.00</td>\n",
       "      <td>SHERMAN WAY</td>\n",
       "      <td>F</td>\n",
       "      <td>NaN</td>\n",
       "      <td>D</td>\n",
       "      <td>2025-01-27T09:03:36</td>\n",
       "      <td>2025-01-27T09:03:36</td>\n",
       "      <td>False</td>\n",
       "      <td>True</td>\n",
       "      <td>4</td>\n",
       "      <td>NaN</td>\n",
       "      <td>2025-01-23T08:47:00</td>\n",
       "      <td>0847</td>\n",
       "      <td>False</td>\n",
       "      <td>NaN</td>\n",
       "      <td>NaN</td>\n",
       "      <td>True</td>\n",
       "    </tr>\n",
       "    <tr>\n",
       "      <th>2</th>\n",
       "      <td>3</td>\n",
       "      <td>4550262</td>\n",
       "      <td>9765-2025-00066</td>\n",
       "      <td>1</td>\n",
       "      <td>False</td>\n",
       "      <td>9765</td>\n",
       "      <td>2025-01-15T12:30:00</td>\n",
       "      <td>1230</td>\n",
       "      <td>041</td>\n",
       "      <td>1,701.00</td>\n",
       "      <td>5,606.00</td>\n",
       "      <td>Santa Paula</td>\n",
       "      <td>56.00</td>\n",
       "      <td>True</td>\n",
       "      <td>True</td>\n",
       "      <td>E</td>\n",
       "      <td>HIT OBJECT</td>\n",
       "      <td>NaN</td>\n",
       "      <td>Wednesday</td>\n",
       "      <td>NotApplicable</td>\n",
       "      <td>False</td>\n",
       "      <td>NaN</td>\n",
       "      <td>NaN</td>\n",
       "      <td>False</td>\n",
       "      <td>True</td>\n",
       "      <td>False</td>\n",
       "      <td>VENTURA SUPERIOR COURT VENTURA DIVISION</td>\n",
       "      <td>J</td>\n",
       "      <td>OTHER OBJECT</td>\n",
       "      <td>METAL OBJECT</td>\n",
       "      <td>0.00</td>\n",
       "      <td>0.00</td>\n",
       "      <td>WIND</td>\n",
       "      <td>NaN</td>\n",
       "      <td>NO UNUSUAL CONDITIONS</td>\n",
       "      <td>NaN</td>\n",
       "      <td></td>\n",
       "      <td>A</td>\n",
       "      <td>DAYLIGHT</td>\n",
       "      <td>34.33</td>\n",
       "      <td>-119.09</td>\n",
       "      <td>NaN</td>\n",
       "      <td>NaN</td>\n",
       "      <td>NaN</td>\n",
       "      <td>NaN</td>\n",
       "      <td>A</td>\n",
       "      <td>NO PEDESTRIANS INVOLVED</td>\n",
       "      <td>2025-01-15T12:30:00</td>\n",
       "      <td>A</td>\n",
       "      <td>VC 22350</td>\n",
       "      <td>False</td>\n",
       "      <td>1.00</td>\n",
       "      <td>SR-126 E/B</td>\n",
       "      <td>NaN</td>\n",
       "      <td>NaN</td>\n",
       "      <td>2025-01-27T09:03:01</td>\n",
       "      <td>A</td>\n",
       "      <td>W</td>\n",
       "      <td>160.00</td>\n",
       "      <td>TODD LANE</td>\n",
       "      <td>F</td>\n",
       "      <td>NaN</td>\n",
       "      <td>D</td>\n",
       "      <td>2025-01-27T09:03:03</td>\n",
       "      <td>2025-01-27T09:03:03</td>\n",
       "      <td>False</td>\n",
       "      <td>True</td>\n",
       "      <td>4</td>\n",
       "      <td>NaN</td>\n",
       "      <td>2025-01-15T12:35:00</td>\n",
       "      <td>1235</td>\n",
       "      <td>True</td>\n",
       "      <td>EMBEDDED</td>\n",
       "      <td>NaN</td>\n",
       "      <td>True</td>\n",
       "    </tr>\n",
       "    <tr>\n",
       "      <th>3</th>\n",
       "      <td>4</td>\n",
       "      <td>4550261</td>\n",
       "      <td>9426-2025-00035</td>\n",
       "      <td>1</td>\n",
       "      <td>False</td>\n",
       "      <td>9426</td>\n",
       "      <td>2025-01-20T12:30:00</td>\n",
       "      <td>1230</td>\n",
       "      <td>460</td>\n",
       "      <td>397.00</td>\n",
       "      <td>1,500.00</td>\n",
       "      <td>Unincorporated</td>\n",
       "      <td>15.00</td>\n",
       "      <td>True</td>\n",
       "      <td>False</td>\n",
       "      <td>D</td>\n",
       "      <td>BROADSIDE</td>\n",
       "      <td>NaN</td>\n",
       "      <td>Monday</td>\n",
       "      <td>No</td>\n",
       "      <td>False</td>\n",
       "      <td>NaN</td>\n",
       "      <td>NaN</td>\n",
       "      <td>False</td>\n",
       "      <td>False</td>\n",
       "      <td>True</td>\n",
       "      <td>KERN COUNTY SUPERIOR COURT - SHAFTER (MISDEMEA...</td>\n",
       "      <td>C</td>\n",
       "      <td>OTHER MOTOR VEHICLE</td>\n",
       "      <td>NaN</td>\n",
       "      <td>3.00</td>\n",
       "      <td>0.00</td>\n",
       "      <td>CLEAR</td>\n",
       "      <td>NaN</td>\n",
       "      <td>NO UNUSUAL CONDITIONS</td>\n",
       "      <td>NaN</td>\n",
       "      <td></td>\n",
       "      <td>A</td>\n",
       "      <td>DAYLIGHT</td>\n",
       "      <td>35.62</td>\n",
       "      <td>-119.69</td>\n",
       "      <td>NaN</td>\n",
       "      <td>NaN</td>\n",
       "      <td>NaN</td>\n",
       "      <td>NaN</td>\n",
       "      <td>A</td>\n",
       "      <td>NO PEDESTRIANS INVOLVED</td>\n",
       "      <td>2025-01-20T12:30:00</td>\n",
       "      <td>A</td>\n",
       "      <td>VC 22450(a)</td>\n",
       "      <td>False</td>\n",
       "      <td>1.00</td>\n",
       "      <td>SR-46 W/B</td>\n",
       "      <td>NaN</td>\n",
       "      <td>NaN</td>\n",
       "      <td>2025-01-27T09:02:37</td>\n",
       "      <td>A</td>\n",
       "      <td>NaN</td>\n",
       "      <td>NaN</td>\n",
       "      <td>MARTIN AVE</td>\n",
       "      <td>NaN</td>\n",
       "      <td>NaN</td>\n",
       "      <td>A</td>\n",
       "      <td>2025-01-27T09:02:47</td>\n",
       "      <td>2025-01-27T09:02:47</td>\n",
       "      <td>True</td>\n",
       "      <td>False</td>\n",
       "      <td>4</td>\n",
       "      <td>NaN</td>\n",
       "      <td>2025-01-20T12:32:00</td>\n",
       "      <td>1232</td>\n",
       "      <td>False</td>\n",
       "      <td>NaN</td>\n",
       "      <td>NaN</td>\n",
       "      <td>True</td>\n",
       "    </tr>\n",
       "    <tr>\n",
       "      <th>4</th>\n",
       "      <td>5</td>\n",
       "      <td>4550260</td>\n",
       "      <td>9580-2025-00216</td>\n",
       "      <td>1</td>\n",
       "      <td>False</td>\n",
       "      <td>9580</td>\n",
       "      <td>2025-01-23T10:30:00</td>\n",
       "      <td>1030</td>\n",
       "      <td>170</td>\n",
       "      <td>535.00</td>\n",
       "      <td>1,942.00</td>\n",
       "      <td>Los Angeles</td>\n",
       "      <td>19.00</td>\n",
       "      <td>True</td>\n",
       "      <td>True</td>\n",
       "      <td>C</td>\n",
       "      <td>REAR END</td>\n",
       "      <td>NaN</td>\n",
       "      <td>Thursday</td>\n",
       "      <td>NotApplicable</td>\n",
       "      <td>False</td>\n",
       "      <td>NaN</td>\n",
       "      <td>NaN</td>\n",
       "      <td>False</td>\n",
       "      <td>True</td>\n",
       "      <td>False</td>\n",
       "      <td>VAN NUYS COURTHOUSE WEST</td>\n",
       "      <td>C</td>\n",
       "      <td>OTHER MOTOR VEHICLE</td>\n",
       "      <td>NaN</td>\n",
       "      <td>0.00</td>\n",
       "      <td>0.00</td>\n",
       "      <td>CLEAR</td>\n",
       "      <td>NaN</td>\n",
       "      <td>NO UNUSUAL CONDITIONS</td>\n",
       "      <td>NaN</td>\n",
       "      <td></td>\n",
       "      <td>A</td>\n",
       "      <td>DAYLIGHT</td>\n",
       "      <td>34.20</td>\n",
       "      <td>-118.40</td>\n",
       "      <td>NaN</td>\n",
       "      <td>NaN</td>\n",
       "      <td>NaN</td>\n",
       "      <td>NaN</td>\n",
       "      <td>A</td>\n",
       "      <td>NO PEDESTRIANS INVOLVED</td>\n",
       "      <td>2025-01-23T10:30:00</td>\n",
       "      <td>A</td>\n",
       "      <td>VC 22350</td>\n",
       "      <td>False</td>\n",
       "      <td>1.00</td>\n",
       "      <td>SR-170 N/B TO SHERMAN WAY E/B</td>\n",
       "      <td>NaN</td>\n",
       "      <td>NaN</td>\n",
       "      <td>2025-01-27T09:01:32</td>\n",
       "      <td>A</td>\n",
       "      <td>S</td>\n",
       "      <td>10.00</td>\n",
       "      <td>SHERMAN WAY</td>\n",
       "      <td>F</td>\n",
       "      <td>NaN</td>\n",
       "      <td>D</td>\n",
       "      <td>2025-01-27T09:01:36</td>\n",
       "      <td>2025-01-27T09:01:36</td>\n",
       "      <td>False</td>\n",
       "      <td>True</td>\n",
       "      <td>4</td>\n",
       "      <td>NaN</td>\n",
       "      <td>2025-01-23T10:31:00</td>\n",
       "      <td>1031</td>\n",
       "      <td>False</td>\n",
       "      <td>NaN</td>\n",
       "      <td>NaN</td>\n",
       "      <td>True</td>\n",
       "    </tr>\n",
       "  </tbody>\n",
       "</table>\n",
       "</div>"
      ],
      "text/plain": [
       "   _id  Collision Id    Report Number  Report Version  Is Preliminary  \\\n",
       "0    1       4550264        250110005               1           False   \n",
       "1    2       4550263  9580-2025-00214               1           False   \n",
       "2    3       4550262  9765-2025-00066               1           False   \n",
       "3    4       4550261  9426-2025-00035               1           False   \n",
       "4    5       4550260  9580-2025-00216               1           False   \n",
       "\n",
       "  NCIC Code      Crash Date Time  Crash Time Description Beat  City Id  \\\n",
       "0      4116  2025-01-10T08:28:00                     828    A 1,310.00   \n",
       "1      9580  2025-01-23T08:45:00                     845  171   535.00   \n",
       "2      9765  2025-01-15T12:30:00                    1230  041 1,701.00   \n",
       "3      9426  2025-01-20T12:30:00                    1230  460   397.00   \n",
       "4      9580  2025-01-23T10:30:00                    1030  170   535.00   \n",
       "\n",
       "   City Code       City Name  County Code City Is Active City Is Incorporated  \\\n",
       "0   4,116.00       San Mateo        41.00           True                 True   \n",
       "1   1,942.00     Los Angeles        19.00           True                 True   \n",
       "2   5,606.00     Santa Paula        56.00           True                 True   \n",
       "3   1,500.00  Unincorporated        15.00           True                False   \n",
       "4   1,942.00     Los Angeles        19.00           True                 True   \n",
       "\n",
       "  Collision Type Code Collision Type Description Collision Type Other Desc  \\\n",
       "0                   C                   REAR END                       NaN   \n",
       "1                   B                 SIDE SWIPE                       NaN   \n",
       "2                   E                 HIT OBJECT                       NaN   \n",
       "3                   D                  BROADSIDE                       NaN   \n",
       "4                   C                   REAR END                       NaN   \n",
       "\n",
       "  Day Of Week DispatchNotified HasPhotographs HitRun  IsAttachmentsMailed  \\\n",
       "0      Friday    NotApplicable           True    NaN                  NaN   \n",
       "1    Thursday    NotApplicable          False      M                  NaN   \n",
       "2   Wednesday    NotApplicable          False    NaN                  NaN   \n",
       "3      Monday               No          False    NaN                  NaN   \n",
       "4    Thursday    NotApplicable          False    NaN                  NaN   \n",
       "\n",
       "   IsDeleted IsHighwayRelated  IsTowAway  \\\n",
       "0      False            False      False   \n",
       "1      False             True      False   \n",
       "2      False             True      False   \n",
       "3      False            False       True   \n",
       "4      False             True      False   \n",
       "\n",
       "                                    JudicialDistrict  \\\n",
       "0                                   NORTHERN TRAFFIC   \n",
       "1  LOS ANGELES SUPERIOR COURT VAN NUYS COURTHOUSE...   \n",
       "2            VENTURA SUPERIOR COURT VENTURA DIVISION   \n",
       "3  KERN COUNTY SUPERIOR COURT - SHAFTER (MISDEMEA...   \n",
       "4                           VAN NUYS COURTHOUSE WEST   \n",
       "\n",
       "  MotorVehicleInvolvedWithCode MotorVehicleInvolvedWithDesc  \\\n",
       "0                            C          OTHER MOTOR VEHICLE   \n",
       "1                            C          OTHER MOTOR VEHICLE   \n",
       "2                            J                 OTHER OBJECT   \n",
       "3                            C          OTHER MOTOR VEHICLE   \n",
       "4                            C          OTHER MOTOR VEHICLE   \n",
       "\n",
       "  MotorVehicleInvolvedWithOtherDesc  NumberInjured  NumberKilled Weather 1  \\\n",
       "0                               NaN           1.00          0.00     CLEAR   \n",
       "1                               NaN           0.00          0.00     CLEAR   \n",
       "2                      METAL OBJECT           0.00          0.00      WIND   \n",
       "3                               NaN           3.00          0.00     CLEAR   \n",
       "4                               NaN           0.00          0.00     CLEAR   \n",
       "\n",
       "  Weather 2        Road Condition 1 Road Condition 2 Special Condition  \\\n",
       "0       NaN   NO UNUSUAL CONDITIONS              NaN                     \n",
       "1       NaN   NO UNUSUAL CONDITIONS              NaN                     \n",
       "2       NaN   NO UNUSUAL CONDITIONS              NaN                     \n",
       "3       NaN   NO UNUSUAL CONDITIONS              NaN                     \n",
       "4       NaN   NO UNUSUAL CONDITIONS              NaN                     \n",
       "\n",
       "  LightingCode LightingDescription  Latitude  Longitude MilepostDirection  \\\n",
       "0            A            DAYLIGHT     37.57    -122.33               NaN   \n",
       "1            A            DAYLIGHT     34.20    -118.40               NaN   \n",
       "2            A            DAYLIGHT     34.33    -119.09               NaN   \n",
       "3            A            DAYLIGHT     35.62    -119.69               NaN   \n",
       "4            A            DAYLIGHT     34.20    -118.40               NaN   \n",
       "\n",
       "   MilepostDistance MilepostMarker MilepostUnitOfMeasure PedestrianActionCode  \\\n",
       "0               NaN            NaN                   NaN                    A   \n",
       "1               NaN            NaN                   NaN                    A   \n",
       "2               NaN            NaN                   NaN                    A   \n",
       "3               NaN            NaN                   NaN                    A   \n",
       "4               NaN            NaN                   NaN                    A   \n",
       "\n",
       "      PedestrianActionDesc         PreparedDate Primary Collision Factor Code  \\\n",
       "0  NO PEDESTRIANS INVOLVED                  NaN                             A   \n",
       "1  NO PEDESTRIANS INVOLVED  2025-01-23T08:45:00                             A   \n",
       "2  NO PEDESTRIANS INVOLVED  2025-01-15T12:30:00                             A   \n",
       "3  NO PEDESTRIANS INVOLVED  2025-01-20T12:30:00                             A   \n",
       "4  NO PEDESTRIANS INVOLVED  2025-01-23T10:30:00                             A   \n",
       "\n",
       "  Primary Collision Factor Violation PrimaryCollisionFactorIsCited  \\\n",
       "0                           22350 VC                         False   \n",
       "1                           VC 22107                         False   \n",
       "2                           VC 22350                         False   \n",
       "3                        VC 22450(a)                         False   \n",
       "4                           VC 22350                         False   \n",
       "\n",
       "   PrimaryCollisionPartyNumber                    PrimaryRoad  \\\n",
       "0                         1.00               N EL CAMINO REAL   \n",
       "1                         1.00    SR-170 S/B FROM SHERMAN WAY   \n",
       "2                         1.00                     SR-126 E/B   \n",
       "3                         1.00                      SR-46 W/B   \n",
       "4                         1.00  SR-170 N/B TO SHERMAN WAY E/B   \n",
       "\n",
       "  ReportingDistrict ReportingDistrictCode         ReviewedDate  \\\n",
       "0               13A                   NaN                  NaN   \n",
       "1               NaN                   NaN  2025-01-27T09:03:34   \n",
       "2               NaN                   NaN  2025-01-27T09:03:01   \n",
       "3               NaN                   NaN  2025-01-27T09:02:37   \n",
       "4               NaN                   NaN  2025-01-27T09:01:32   \n",
       "\n",
       "  RoadwaySurfaceCode SecondaryDirection  SecondaryDistance  SecondaryRoad  \\\n",
       "0                  A                NaN                NaN  TILTON AVENUE   \n",
       "1                  A                  S             500.00    SHERMAN WAY   \n",
       "2                  A                  W             160.00      TODD LANE   \n",
       "3                  A                NaN                NaN     MARTIN AVE   \n",
       "4                  A                  S              10.00    SHERMAN WAY   \n",
       "\n",
       "  SecondaryUnitOfMeasure SketchDesc TrafficControlDeviceCode  \\\n",
       "0                    NaN        NaN                        A   \n",
       "1                      F        NaN                        D   \n",
       "2                      F        NaN                        D   \n",
       "3                    NaN        NaN                        A   \n",
       "4                      F        NaN                        D   \n",
       "\n",
       "           CreatedDate         ModifiedDate IsCountyRoad IsFreeway  \\\n",
       "0  2025-01-27T09:04:06  2025-01-27T09:04:06          NaN       NaN   \n",
       "1  2025-01-27T09:03:36  2025-01-27T09:03:36        False      True   \n",
       "2  2025-01-27T09:03:03  2025-01-27T09:03:03        False      True   \n",
       "3  2025-01-27T09:02:47  2025-01-27T09:02:47         True     False   \n",
       "4  2025-01-27T09:01:36  2025-01-27T09:01:36        False      True   \n",
       "\n",
       "   CHP555Version IsAdditonalObjectStruck     NotificationDate  \\\n",
       "0              4                     NaN                  NaN   \n",
       "1              4                     NaN  2025-01-23T08:47:00   \n",
       "2              4                     NaN  2025-01-15T12:35:00   \n",
       "3              4                     NaN  2025-01-20T12:32:00   \n",
       "4              4                     NaN  2025-01-23T10:31:00   \n",
       "\n",
       "  NotificationTimeDescription HasDigitalMediaFiles EvidenceNumber  \\\n",
       "0                         NaN                  NaN            NaN   \n",
       "1                        0847                False            NaN   \n",
       "2                        1235                 True       EMBEDDED   \n",
       "3                        1232                False            NaN   \n",
       "4                        1031                False            NaN   \n",
       "\n",
       "  IsLocationReferToNarrative IsAOIOneSameAsLocation  \n",
       "0                        NaN                    NaN  \n",
       "1                        NaN                   True  \n",
       "2                        NaN                   True  \n",
       "3                        NaN                   True  \n",
       "4                        NaN                   True  "
      ]
     },
     "execution_count": 30,
     "metadata": {},
     "output_type": "execute_result"
    }
   ],
   "source": [
    "# Import libraries\n",
    "import pandas as pd\n",
    "import numpy as np\n",
    "from datetime import datetime\n",
    "import matplotlib.pyplot as plt\n",
    "import plotly.express as px\n",
    "import plotly.graph_objects as go\n",
    "\n",
    "# Configure display\n",
    "pd.set_option('display.max_rows', 1000)\n",
    "pd.set_option('display.max_columns', None)\n",
    "pd.options.display.float_format = '{:,.2f}'.format\n",
    "%matplotlib inline\n",
    "\n",
    "# Read dataset\n",
    "crashes = pd.read_csv('crashes_dataset.csv')\n",
    "\n",
    "# Preview data\n",
    "crashes.head()"
   ]
  },
  {
   "cell_type": "code",
   "execution_count": 32,
   "id": "cee61953",
   "metadata": {},
   "outputs": [
    {
     "name": "stdout",
     "output_type": "stream",
     "text": [
      "# rows: 195,655\n",
      "# columns: 75\n"
     ]
    }
   ],
   "source": [
    "# Check dataset size \n",
    "print(f\"# rows: {len(crashes):,}\")\n",
    "print(f\"# columns: {crashes.shape[1]}\")"
   ]
  },
  {
   "cell_type": "code",
   "execution_count": 35,
   "id": "9f31aa75",
   "metadata": {},
   "outputs": [
    {
     "data": {
      "text/plain": [
       "Index(['_id', 'Collision Id', 'Report Number', 'Report Version',\n",
       "       'Is Preliminary', 'NCIC Code', 'Crash Date Time',\n",
       "       'Crash Time Description', 'Beat', 'City Id', 'City Code', 'City Name',\n",
       "       'County Code', 'City Is Active', 'City Is Incorporated',\n",
       "       'Collision Type Code', 'Collision Type Description',\n",
       "       'Collision Type Other Desc', 'Day Of Week', 'DispatchNotified',\n",
       "       'HasPhotographs', 'HitRun', 'IsAttachmentsMailed', 'IsDeleted',\n",
       "       'IsHighwayRelated', 'IsTowAway', 'JudicialDistrict',\n",
       "       'MotorVehicleInvolvedWithCode', 'MotorVehicleInvolvedWithDesc',\n",
       "       'MotorVehicleInvolvedWithOtherDesc', 'NumberInjured', 'NumberKilled',\n",
       "       'Weather 1', 'Weather 2', 'Road Condition 1', 'Road Condition 2',\n",
       "       'Special Condition', 'LightingCode', 'LightingDescription', 'Latitude',\n",
       "       'Longitude', 'MilepostDirection', 'MilepostDistance', 'MilepostMarker',\n",
       "       'MilepostUnitOfMeasure', 'PedestrianActionCode', 'PedestrianActionDesc',\n",
       "       'PreparedDate', 'Primary Collision Factor Code',\n",
       "       'Primary Collision Factor Violation', 'PrimaryCollisionFactorIsCited',\n",
       "       'PrimaryCollisionPartyNumber', 'PrimaryRoad', 'ReportingDistrict',\n",
       "       'ReportingDistrictCode', 'ReviewedDate', 'RoadwaySurfaceCode',\n",
       "       'SecondaryDirection', 'SecondaryDistance', 'SecondaryRoad',\n",
       "       'SecondaryUnitOfMeasure', 'SketchDesc', 'TrafficControlDeviceCode',\n",
       "       'CreatedDate', 'ModifiedDate', 'IsCountyRoad', 'IsFreeway',\n",
       "       'CHP555Version', 'IsAdditonalObjectStruck', 'NotificationDate',\n",
       "       'NotificationTimeDescription', 'HasDigitalMediaFiles', 'EvidenceNumber',\n",
       "       'IsLocationReferToNarrative', 'IsAOIOneSameAsLocation'],\n",
       "      dtype='object')"
      ]
     },
     "execution_count": 35,
     "metadata": {},
     "output_type": "execute_result"
    }
   ],
   "source": [
    "# View column names\n",
    "crashes.columns"
   ]
  },
  {
   "cell_type": "code",
   "execution_count": 36,
   "id": "af5ec089",
   "metadata": {},
   "outputs": [
    {
     "data": {
      "text/html": [
       "<div>\n",
       "<style scoped>\n",
       "    .dataframe tbody tr th:only-of-type {\n",
       "        vertical-align: middle;\n",
       "    }\n",
       "\n",
       "    .dataframe tbody tr th {\n",
       "        vertical-align: top;\n",
       "    }\n",
       "\n",
       "    .dataframe thead th {\n",
       "        text-align: right;\n",
       "    }\n",
       "</style>\n",
       "<table border=\"1\" class=\"dataframe\">\n",
       "  <thead>\n",
       "    <tr style=\"text-align: right;\">\n",
       "      <th></th>\n",
       "      <th>_id</th>\n",
       "      <th>Collision_id</th>\n",
       "      <th>Report_number</th>\n",
       "      <th>Report_version</th>\n",
       "      <th>Is_preliminary</th>\n",
       "      <th>Ncic_code</th>\n",
       "      <th>Crash_date_time</th>\n",
       "      <th>Crash_time_description</th>\n",
       "      <th>Beat</th>\n",
       "      <th>City_id</th>\n",
       "      <th>City_code</th>\n",
       "      <th>City_name</th>\n",
       "      <th>County_code</th>\n",
       "      <th>City_is_active</th>\n",
       "      <th>City_is_incorporated</th>\n",
       "      <th>Collision_type_code</th>\n",
       "      <th>Collision_type_description</th>\n",
       "      <th>Collision_type_other_desc</th>\n",
       "      <th>Day_of_week</th>\n",
       "      <th>Dispatchnotified</th>\n",
       "      <th>Hasphotographs</th>\n",
       "      <th>Hitrun</th>\n",
       "      <th>Isattachmentsmailed</th>\n",
       "      <th>Isdeleted</th>\n",
       "      <th>Ishighwayrelated</th>\n",
       "      <th>Istowaway</th>\n",
       "      <th>Judicialdistrict</th>\n",
       "      <th>Motorvehicleinvolvedwithcode</th>\n",
       "      <th>Motorvehicleinvolvedwithdesc</th>\n",
       "      <th>Motorvehicleinvolvedwithotherdesc</th>\n",
       "      <th>Numberinjured</th>\n",
       "      <th>Numberkilled</th>\n",
       "      <th>Weather_1</th>\n",
       "      <th>Weather_2</th>\n",
       "      <th>Road_condition_1</th>\n",
       "      <th>Road_condition_2</th>\n",
       "      <th>Special_condition</th>\n",
       "      <th>Lightingcode</th>\n",
       "      <th>Lightingdescription</th>\n",
       "      <th>Latitude</th>\n",
       "      <th>Longitude</th>\n",
       "      <th>Milepostdirection</th>\n",
       "      <th>Milepostdistance</th>\n",
       "      <th>Milepostmarker</th>\n",
       "      <th>Milepostunitofmeasure</th>\n",
       "      <th>Pedestrianactioncode</th>\n",
       "      <th>Pedestrianactiondesc</th>\n",
       "      <th>Prepareddate</th>\n",
       "      <th>Primary_collision_factor_code</th>\n",
       "      <th>Primary_collision_factor_violation</th>\n",
       "      <th>Primarycollisionfactoriscited</th>\n",
       "      <th>Primarycollisionpartynumber</th>\n",
       "      <th>Primaryroad</th>\n",
       "      <th>Reportingdistrict</th>\n",
       "      <th>Reportingdistrictcode</th>\n",
       "      <th>Revieweddate</th>\n",
       "      <th>Roadwaysurfacecode</th>\n",
       "      <th>Secondarydirection</th>\n",
       "      <th>Secondarydistance</th>\n",
       "      <th>Secondaryroad</th>\n",
       "      <th>Secondaryunitofmeasure</th>\n",
       "      <th>Sketchdesc</th>\n",
       "      <th>Trafficcontroldevicecode</th>\n",
       "      <th>Createddate</th>\n",
       "      <th>Modifieddate</th>\n",
       "      <th>Iscountyroad</th>\n",
       "      <th>Isfreeway</th>\n",
       "      <th>Chp555version</th>\n",
       "      <th>Isadditonalobjectstruck</th>\n",
       "      <th>Notificationdate</th>\n",
       "      <th>Notificationtimedescription</th>\n",
       "      <th>Hasdigitalmediafiles</th>\n",
       "      <th>Evidencenumber</th>\n",
       "      <th>Islocationrefertonarrative</th>\n",
       "      <th>Isaoionesameaslocation</th>\n",
       "    </tr>\n",
       "  </thead>\n",
       "  <tbody>\n",
       "    <tr>\n",
       "      <th>0</th>\n",
       "      <td>1</td>\n",
       "      <td>4550264</td>\n",
       "      <td>250110005</td>\n",
       "      <td>1</td>\n",
       "      <td>False</td>\n",
       "      <td>4116</td>\n",
       "      <td>2025-01-10T08:28:00</td>\n",
       "      <td>828</td>\n",
       "      <td>A</td>\n",
       "      <td>1,310.00</td>\n",
       "      <td>4,116.00</td>\n",
       "      <td>San Mateo</td>\n",
       "      <td>41.00</td>\n",
       "      <td>True</td>\n",
       "      <td>True</td>\n",
       "      <td>C</td>\n",
       "      <td>REAR END</td>\n",
       "      <td>NaN</td>\n",
       "      <td>Friday</td>\n",
       "      <td>NotApplicable</td>\n",
       "      <td>True</td>\n",
       "      <td>NaN</td>\n",
       "      <td>NaN</td>\n",
       "      <td>False</td>\n",
       "      <td>False</td>\n",
       "      <td>False</td>\n",
       "      <td>NORTHERN TRAFFIC</td>\n",
       "      <td>C</td>\n",
       "      <td>OTHER MOTOR VEHICLE</td>\n",
       "      <td>NaN</td>\n",
       "      <td>1.00</td>\n",
       "      <td>0.00</td>\n",
       "      <td>CLEAR</td>\n",
       "      <td>NaN</td>\n",
       "      <td>NO UNUSUAL CONDITIONS</td>\n",
       "      <td>NaN</td>\n",
       "      <td></td>\n",
       "      <td>A</td>\n",
       "      <td>DAYLIGHT</td>\n",
       "      <td>37.57</td>\n",
       "      <td>-122.33</td>\n",
       "      <td>NaN</td>\n",
       "      <td>NaN</td>\n",
       "      <td>NaN</td>\n",
       "      <td>NaN</td>\n",
       "      <td>A</td>\n",
       "      <td>NO PEDESTRIANS INVOLVED</td>\n",
       "      <td>NaN</td>\n",
       "      <td>A</td>\n",
       "      <td>22350 VC</td>\n",
       "      <td>False</td>\n",
       "      <td>1.00</td>\n",
       "      <td>N EL CAMINO REAL</td>\n",
       "      <td>13A</td>\n",
       "      <td>NaN</td>\n",
       "      <td>NaN</td>\n",
       "      <td>A</td>\n",
       "      <td>NaN</td>\n",
       "      <td>NaN</td>\n",
       "      <td>TILTON AVENUE</td>\n",
       "      <td>NaN</td>\n",
       "      <td>NaN</td>\n",
       "      <td>A</td>\n",
       "      <td>2025-01-27T09:04:06</td>\n",
       "      <td>2025-01-27T09:04:06</td>\n",
       "      <td>NaN</td>\n",
       "      <td>NaN</td>\n",
       "      <td>4</td>\n",
       "      <td>NaN</td>\n",
       "      <td>NaN</td>\n",
       "      <td>NaN</td>\n",
       "      <td>NaN</td>\n",
       "      <td>NaN</td>\n",
       "      <td>NaN</td>\n",
       "      <td>NaN</td>\n",
       "    </tr>\n",
       "    <tr>\n",
       "      <th>1</th>\n",
       "      <td>2</td>\n",
       "      <td>4550263</td>\n",
       "      <td>9580-2025-00214</td>\n",
       "      <td>1</td>\n",
       "      <td>False</td>\n",
       "      <td>9580</td>\n",
       "      <td>2025-01-23T08:45:00</td>\n",
       "      <td>845</td>\n",
       "      <td>171</td>\n",
       "      <td>535.00</td>\n",
       "      <td>1,942.00</td>\n",
       "      <td>Los Angeles</td>\n",
       "      <td>19.00</td>\n",
       "      <td>True</td>\n",
       "      <td>True</td>\n",
       "      <td>B</td>\n",
       "      <td>SIDE SWIPE</td>\n",
       "      <td>NaN</td>\n",
       "      <td>Thursday</td>\n",
       "      <td>NotApplicable</td>\n",
       "      <td>False</td>\n",
       "      <td>M</td>\n",
       "      <td>NaN</td>\n",
       "      <td>False</td>\n",
       "      <td>True</td>\n",
       "      <td>False</td>\n",
       "      <td>LOS ANGELES SUPERIOR COURT VAN NUYS COURTHOUSE...</td>\n",
       "      <td>C</td>\n",
       "      <td>OTHER MOTOR VEHICLE</td>\n",
       "      <td>NaN</td>\n",
       "      <td>0.00</td>\n",
       "      <td>0.00</td>\n",
       "      <td>CLEAR</td>\n",
       "      <td>NaN</td>\n",
       "      <td>NO UNUSUAL CONDITIONS</td>\n",
       "      <td>NaN</td>\n",
       "      <td></td>\n",
       "      <td>A</td>\n",
       "      <td>DAYLIGHT</td>\n",
       "      <td>34.20</td>\n",
       "      <td>-118.40</td>\n",
       "      <td>NaN</td>\n",
       "      <td>NaN</td>\n",
       "      <td>NaN</td>\n",
       "      <td>NaN</td>\n",
       "      <td>A</td>\n",
       "      <td>NO PEDESTRIANS INVOLVED</td>\n",
       "      <td>2025-01-23T08:45:00</td>\n",
       "      <td>A</td>\n",
       "      <td>VC 22107</td>\n",
       "      <td>False</td>\n",
       "      <td>1.00</td>\n",
       "      <td>SR-170 S/B FROM SHERMAN WAY</td>\n",
       "      <td>NaN</td>\n",
       "      <td>NaN</td>\n",
       "      <td>2025-01-27T09:03:34</td>\n",
       "      <td>A</td>\n",
       "      <td>S</td>\n",
       "      <td>500.00</td>\n",
       "      <td>SHERMAN WAY</td>\n",
       "      <td>F</td>\n",
       "      <td>NaN</td>\n",
       "      <td>D</td>\n",
       "      <td>2025-01-27T09:03:36</td>\n",
       "      <td>2025-01-27T09:03:36</td>\n",
       "      <td>False</td>\n",
       "      <td>True</td>\n",
       "      <td>4</td>\n",
       "      <td>NaN</td>\n",
       "      <td>2025-01-23T08:47:00</td>\n",
       "      <td>0847</td>\n",
       "      <td>False</td>\n",
       "      <td>NaN</td>\n",
       "      <td>NaN</td>\n",
       "      <td>True</td>\n",
       "    </tr>\n",
       "    <tr>\n",
       "      <th>2</th>\n",
       "      <td>3</td>\n",
       "      <td>4550262</td>\n",
       "      <td>9765-2025-00066</td>\n",
       "      <td>1</td>\n",
       "      <td>False</td>\n",
       "      <td>9765</td>\n",
       "      <td>2025-01-15T12:30:00</td>\n",
       "      <td>1230</td>\n",
       "      <td>041</td>\n",
       "      <td>1,701.00</td>\n",
       "      <td>5,606.00</td>\n",
       "      <td>Santa Paula</td>\n",
       "      <td>56.00</td>\n",
       "      <td>True</td>\n",
       "      <td>True</td>\n",
       "      <td>E</td>\n",
       "      <td>HIT OBJECT</td>\n",
       "      <td>NaN</td>\n",
       "      <td>Wednesday</td>\n",
       "      <td>NotApplicable</td>\n",
       "      <td>False</td>\n",
       "      <td>NaN</td>\n",
       "      <td>NaN</td>\n",
       "      <td>False</td>\n",
       "      <td>True</td>\n",
       "      <td>False</td>\n",
       "      <td>VENTURA SUPERIOR COURT VENTURA DIVISION</td>\n",
       "      <td>J</td>\n",
       "      <td>OTHER OBJECT</td>\n",
       "      <td>METAL OBJECT</td>\n",
       "      <td>0.00</td>\n",
       "      <td>0.00</td>\n",
       "      <td>WIND</td>\n",
       "      <td>NaN</td>\n",
       "      <td>NO UNUSUAL CONDITIONS</td>\n",
       "      <td>NaN</td>\n",
       "      <td></td>\n",
       "      <td>A</td>\n",
       "      <td>DAYLIGHT</td>\n",
       "      <td>34.33</td>\n",
       "      <td>-119.09</td>\n",
       "      <td>NaN</td>\n",
       "      <td>NaN</td>\n",
       "      <td>NaN</td>\n",
       "      <td>NaN</td>\n",
       "      <td>A</td>\n",
       "      <td>NO PEDESTRIANS INVOLVED</td>\n",
       "      <td>2025-01-15T12:30:00</td>\n",
       "      <td>A</td>\n",
       "      <td>VC 22350</td>\n",
       "      <td>False</td>\n",
       "      <td>1.00</td>\n",
       "      <td>SR-126 E/B</td>\n",
       "      <td>NaN</td>\n",
       "      <td>NaN</td>\n",
       "      <td>2025-01-27T09:03:01</td>\n",
       "      <td>A</td>\n",
       "      <td>W</td>\n",
       "      <td>160.00</td>\n",
       "      <td>TODD LANE</td>\n",
       "      <td>F</td>\n",
       "      <td>NaN</td>\n",
       "      <td>D</td>\n",
       "      <td>2025-01-27T09:03:03</td>\n",
       "      <td>2025-01-27T09:03:03</td>\n",
       "      <td>False</td>\n",
       "      <td>True</td>\n",
       "      <td>4</td>\n",
       "      <td>NaN</td>\n",
       "      <td>2025-01-15T12:35:00</td>\n",
       "      <td>1235</td>\n",
       "      <td>True</td>\n",
       "      <td>EMBEDDED</td>\n",
       "      <td>NaN</td>\n",
       "      <td>True</td>\n",
       "    </tr>\n",
       "    <tr>\n",
       "      <th>3</th>\n",
       "      <td>4</td>\n",
       "      <td>4550261</td>\n",
       "      <td>9426-2025-00035</td>\n",
       "      <td>1</td>\n",
       "      <td>False</td>\n",
       "      <td>9426</td>\n",
       "      <td>2025-01-20T12:30:00</td>\n",
       "      <td>1230</td>\n",
       "      <td>460</td>\n",
       "      <td>397.00</td>\n",
       "      <td>1,500.00</td>\n",
       "      <td>Unincorporated</td>\n",
       "      <td>15.00</td>\n",
       "      <td>True</td>\n",
       "      <td>False</td>\n",
       "      <td>D</td>\n",
       "      <td>BROADSIDE</td>\n",
       "      <td>NaN</td>\n",
       "      <td>Monday</td>\n",
       "      <td>No</td>\n",
       "      <td>False</td>\n",
       "      <td>NaN</td>\n",
       "      <td>NaN</td>\n",
       "      <td>False</td>\n",
       "      <td>False</td>\n",
       "      <td>True</td>\n",
       "      <td>KERN COUNTY SUPERIOR COURT - SHAFTER (MISDEMEA...</td>\n",
       "      <td>C</td>\n",
       "      <td>OTHER MOTOR VEHICLE</td>\n",
       "      <td>NaN</td>\n",
       "      <td>3.00</td>\n",
       "      <td>0.00</td>\n",
       "      <td>CLEAR</td>\n",
       "      <td>NaN</td>\n",
       "      <td>NO UNUSUAL CONDITIONS</td>\n",
       "      <td>NaN</td>\n",
       "      <td></td>\n",
       "      <td>A</td>\n",
       "      <td>DAYLIGHT</td>\n",
       "      <td>35.62</td>\n",
       "      <td>-119.69</td>\n",
       "      <td>NaN</td>\n",
       "      <td>NaN</td>\n",
       "      <td>NaN</td>\n",
       "      <td>NaN</td>\n",
       "      <td>A</td>\n",
       "      <td>NO PEDESTRIANS INVOLVED</td>\n",
       "      <td>2025-01-20T12:30:00</td>\n",
       "      <td>A</td>\n",
       "      <td>VC 22450(a)</td>\n",
       "      <td>False</td>\n",
       "      <td>1.00</td>\n",
       "      <td>SR-46 W/B</td>\n",
       "      <td>NaN</td>\n",
       "      <td>NaN</td>\n",
       "      <td>2025-01-27T09:02:37</td>\n",
       "      <td>A</td>\n",
       "      <td>NaN</td>\n",
       "      <td>NaN</td>\n",
       "      <td>MARTIN AVE</td>\n",
       "      <td>NaN</td>\n",
       "      <td>NaN</td>\n",
       "      <td>A</td>\n",
       "      <td>2025-01-27T09:02:47</td>\n",
       "      <td>2025-01-27T09:02:47</td>\n",
       "      <td>True</td>\n",
       "      <td>False</td>\n",
       "      <td>4</td>\n",
       "      <td>NaN</td>\n",
       "      <td>2025-01-20T12:32:00</td>\n",
       "      <td>1232</td>\n",
       "      <td>False</td>\n",
       "      <td>NaN</td>\n",
       "      <td>NaN</td>\n",
       "      <td>True</td>\n",
       "    </tr>\n",
       "    <tr>\n",
       "      <th>4</th>\n",
       "      <td>5</td>\n",
       "      <td>4550260</td>\n",
       "      <td>9580-2025-00216</td>\n",
       "      <td>1</td>\n",
       "      <td>False</td>\n",
       "      <td>9580</td>\n",
       "      <td>2025-01-23T10:30:00</td>\n",
       "      <td>1030</td>\n",
       "      <td>170</td>\n",
       "      <td>535.00</td>\n",
       "      <td>1,942.00</td>\n",
       "      <td>Los Angeles</td>\n",
       "      <td>19.00</td>\n",
       "      <td>True</td>\n",
       "      <td>True</td>\n",
       "      <td>C</td>\n",
       "      <td>REAR END</td>\n",
       "      <td>NaN</td>\n",
       "      <td>Thursday</td>\n",
       "      <td>NotApplicable</td>\n",
       "      <td>False</td>\n",
       "      <td>NaN</td>\n",
       "      <td>NaN</td>\n",
       "      <td>False</td>\n",
       "      <td>True</td>\n",
       "      <td>False</td>\n",
       "      <td>VAN NUYS COURTHOUSE WEST</td>\n",
       "      <td>C</td>\n",
       "      <td>OTHER MOTOR VEHICLE</td>\n",
       "      <td>NaN</td>\n",
       "      <td>0.00</td>\n",
       "      <td>0.00</td>\n",
       "      <td>CLEAR</td>\n",
       "      <td>NaN</td>\n",
       "      <td>NO UNUSUAL CONDITIONS</td>\n",
       "      <td>NaN</td>\n",
       "      <td></td>\n",
       "      <td>A</td>\n",
       "      <td>DAYLIGHT</td>\n",
       "      <td>34.20</td>\n",
       "      <td>-118.40</td>\n",
       "      <td>NaN</td>\n",
       "      <td>NaN</td>\n",
       "      <td>NaN</td>\n",
       "      <td>NaN</td>\n",
       "      <td>A</td>\n",
       "      <td>NO PEDESTRIANS INVOLVED</td>\n",
       "      <td>2025-01-23T10:30:00</td>\n",
       "      <td>A</td>\n",
       "      <td>VC 22350</td>\n",
       "      <td>False</td>\n",
       "      <td>1.00</td>\n",
       "      <td>SR-170 N/B TO SHERMAN WAY E/B</td>\n",
       "      <td>NaN</td>\n",
       "      <td>NaN</td>\n",
       "      <td>2025-01-27T09:01:32</td>\n",
       "      <td>A</td>\n",
       "      <td>S</td>\n",
       "      <td>10.00</td>\n",
       "      <td>SHERMAN WAY</td>\n",
       "      <td>F</td>\n",
       "      <td>NaN</td>\n",
       "      <td>D</td>\n",
       "      <td>2025-01-27T09:01:36</td>\n",
       "      <td>2025-01-27T09:01:36</td>\n",
       "      <td>False</td>\n",
       "      <td>True</td>\n",
       "      <td>4</td>\n",
       "      <td>NaN</td>\n",
       "      <td>2025-01-23T10:31:00</td>\n",
       "      <td>1031</td>\n",
       "      <td>False</td>\n",
       "      <td>NaN</td>\n",
       "      <td>NaN</td>\n",
       "      <td>True</td>\n",
       "    </tr>\n",
       "  </tbody>\n",
       "</table>\n",
       "</div>"
      ],
      "text/plain": [
       "   _id  Collision_id    Report_number  Report_version  Is_preliminary  \\\n",
       "0    1       4550264        250110005               1           False   \n",
       "1    2       4550263  9580-2025-00214               1           False   \n",
       "2    3       4550262  9765-2025-00066               1           False   \n",
       "3    4       4550261  9426-2025-00035               1           False   \n",
       "4    5       4550260  9580-2025-00216               1           False   \n",
       "\n",
       "  Ncic_code      Crash_date_time  Crash_time_description Beat  City_id  \\\n",
       "0      4116  2025-01-10T08:28:00                     828    A 1,310.00   \n",
       "1      9580  2025-01-23T08:45:00                     845  171   535.00   \n",
       "2      9765  2025-01-15T12:30:00                    1230  041 1,701.00   \n",
       "3      9426  2025-01-20T12:30:00                    1230  460   397.00   \n",
       "4      9580  2025-01-23T10:30:00                    1030  170   535.00   \n",
       "\n",
       "   City_code       City_name  County_code City_is_active City_is_incorporated  \\\n",
       "0   4,116.00       San Mateo        41.00           True                 True   \n",
       "1   1,942.00     Los Angeles        19.00           True                 True   \n",
       "2   5,606.00     Santa Paula        56.00           True                 True   \n",
       "3   1,500.00  Unincorporated        15.00           True                False   \n",
       "4   1,942.00     Los Angeles        19.00           True                 True   \n",
       "\n",
       "  Collision_type_code Collision_type_description Collision_type_other_desc  \\\n",
       "0                   C                   REAR END                       NaN   \n",
       "1                   B                 SIDE SWIPE                       NaN   \n",
       "2                   E                 HIT OBJECT                       NaN   \n",
       "3                   D                  BROADSIDE                       NaN   \n",
       "4                   C                   REAR END                       NaN   \n",
       "\n",
       "  Day_of_week Dispatchnotified Hasphotographs Hitrun  Isattachmentsmailed  \\\n",
       "0      Friday    NotApplicable           True    NaN                  NaN   \n",
       "1    Thursday    NotApplicable          False      M                  NaN   \n",
       "2   Wednesday    NotApplicable          False    NaN                  NaN   \n",
       "3      Monday               No          False    NaN                  NaN   \n",
       "4    Thursday    NotApplicable          False    NaN                  NaN   \n",
       "\n",
       "   Isdeleted Ishighwayrelated  Istowaway  \\\n",
       "0      False            False      False   \n",
       "1      False             True      False   \n",
       "2      False             True      False   \n",
       "3      False            False       True   \n",
       "4      False             True      False   \n",
       "\n",
       "                                    Judicialdistrict  \\\n",
       "0                                   NORTHERN TRAFFIC   \n",
       "1  LOS ANGELES SUPERIOR COURT VAN NUYS COURTHOUSE...   \n",
       "2            VENTURA SUPERIOR COURT VENTURA DIVISION   \n",
       "3  KERN COUNTY SUPERIOR COURT - SHAFTER (MISDEMEA...   \n",
       "4                           VAN NUYS COURTHOUSE WEST   \n",
       "\n",
       "  Motorvehicleinvolvedwithcode Motorvehicleinvolvedwithdesc  \\\n",
       "0                            C          OTHER MOTOR VEHICLE   \n",
       "1                            C          OTHER MOTOR VEHICLE   \n",
       "2                            J                 OTHER OBJECT   \n",
       "3                            C          OTHER MOTOR VEHICLE   \n",
       "4                            C          OTHER MOTOR VEHICLE   \n",
       "\n",
       "  Motorvehicleinvolvedwithotherdesc  Numberinjured  Numberkilled Weather_1  \\\n",
       "0                               NaN           1.00          0.00     CLEAR   \n",
       "1                               NaN           0.00          0.00     CLEAR   \n",
       "2                      METAL OBJECT           0.00          0.00      WIND   \n",
       "3                               NaN           3.00          0.00     CLEAR   \n",
       "4                               NaN           0.00          0.00     CLEAR   \n",
       "\n",
       "  Weather_2        Road_condition_1 Road_condition_2 Special_condition  \\\n",
       "0       NaN   NO UNUSUAL CONDITIONS              NaN                     \n",
       "1       NaN   NO UNUSUAL CONDITIONS              NaN                     \n",
       "2       NaN   NO UNUSUAL CONDITIONS              NaN                     \n",
       "3       NaN   NO UNUSUAL CONDITIONS              NaN                     \n",
       "4       NaN   NO UNUSUAL CONDITIONS              NaN                     \n",
       "\n",
       "  Lightingcode Lightingdescription  Latitude  Longitude Milepostdirection  \\\n",
       "0            A            DAYLIGHT     37.57    -122.33               NaN   \n",
       "1            A            DAYLIGHT     34.20    -118.40               NaN   \n",
       "2            A            DAYLIGHT     34.33    -119.09               NaN   \n",
       "3            A            DAYLIGHT     35.62    -119.69               NaN   \n",
       "4            A            DAYLIGHT     34.20    -118.40               NaN   \n",
       "\n",
       "   Milepostdistance Milepostmarker Milepostunitofmeasure Pedestrianactioncode  \\\n",
       "0               NaN            NaN                   NaN                    A   \n",
       "1               NaN            NaN                   NaN                    A   \n",
       "2               NaN            NaN                   NaN                    A   \n",
       "3               NaN            NaN                   NaN                    A   \n",
       "4               NaN            NaN                   NaN                    A   \n",
       "\n",
       "      Pedestrianactiondesc         Prepareddate Primary_collision_factor_code  \\\n",
       "0  NO PEDESTRIANS INVOLVED                  NaN                             A   \n",
       "1  NO PEDESTRIANS INVOLVED  2025-01-23T08:45:00                             A   \n",
       "2  NO PEDESTRIANS INVOLVED  2025-01-15T12:30:00                             A   \n",
       "3  NO PEDESTRIANS INVOLVED  2025-01-20T12:30:00                             A   \n",
       "4  NO PEDESTRIANS INVOLVED  2025-01-23T10:30:00                             A   \n",
       "\n",
       "  Primary_collision_factor_violation Primarycollisionfactoriscited  \\\n",
       "0                           22350 VC                         False   \n",
       "1                           VC 22107                         False   \n",
       "2                           VC 22350                         False   \n",
       "3                        VC 22450(a)                         False   \n",
       "4                           VC 22350                         False   \n",
       "\n",
       "   Primarycollisionpartynumber                    Primaryroad  \\\n",
       "0                         1.00               N EL CAMINO REAL   \n",
       "1                         1.00    SR-170 S/B FROM SHERMAN WAY   \n",
       "2                         1.00                     SR-126 E/B   \n",
       "3                         1.00                      SR-46 W/B   \n",
       "4                         1.00  SR-170 N/B TO SHERMAN WAY E/B   \n",
       "\n",
       "  Reportingdistrict Reportingdistrictcode         Revieweddate  \\\n",
       "0               13A                   NaN                  NaN   \n",
       "1               NaN                   NaN  2025-01-27T09:03:34   \n",
       "2               NaN                   NaN  2025-01-27T09:03:01   \n",
       "3               NaN                   NaN  2025-01-27T09:02:37   \n",
       "4               NaN                   NaN  2025-01-27T09:01:32   \n",
       "\n",
       "  Roadwaysurfacecode Secondarydirection  Secondarydistance  Secondaryroad  \\\n",
       "0                  A                NaN                NaN  TILTON AVENUE   \n",
       "1                  A                  S             500.00    SHERMAN WAY   \n",
       "2                  A                  W             160.00      TODD LANE   \n",
       "3                  A                NaN                NaN     MARTIN AVE   \n",
       "4                  A                  S              10.00    SHERMAN WAY   \n",
       "\n",
       "  Secondaryunitofmeasure Sketchdesc Trafficcontroldevicecode  \\\n",
       "0                    NaN        NaN                        A   \n",
       "1                      F        NaN                        D   \n",
       "2                      F        NaN                        D   \n",
       "3                    NaN        NaN                        A   \n",
       "4                      F        NaN                        D   \n",
       "\n",
       "           Createddate         Modifieddate Iscountyroad Isfreeway  \\\n",
       "0  2025-01-27T09:04:06  2025-01-27T09:04:06          NaN       NaN   \n",
       "1  2025-01-27T09:03:36  2025-01-27T09:03:36        False      True   \n",
       "2  2025-01-27T09:03:03  2025-01-27T09:03:03        False      True   \n",
       "3  2025-01-27T09:02:47  2025-01-27T09:02:47         True     False   \n",
       "4  2025-01-27T09:01:36  2025-01-27T09:01:36        False      True   \n",
       "\n",
       "   Chp555version Isadditonalobjectstruck     Notificationdate  \\\n",
       "0              4                     NaN                  NaN   \n",
       "1              4                     NaN  2025-01-23T08:47:00   \n",
       "2              4                     NaN  2025-01-15T12:35:00   \n",
       "3              4                     NaN  2025-01-20T12:32:00   \n",
       "4              4                     NaN  2025-01-23T10:31:00   \n",
       "\n",
       "  Notificationtimedescription Hasdigitalmediafiles Evidencenumber  \\\n",
       "0                         NaN                  NaN            NaN   \n",
       "1                        0847                False            NaN   \n",
       "2                        1235                 True       EMBEDDED   \n",
       "3                        1232                False            NaN   \n",
       "4                        1031                False            NaN   \n",
       "\n",
       "  Islocationrefertonarrative Isaoionesameaslocation  \n",
       "0                        NaN                    NaN  \n",
       "1                        NaN                   True  \n",
       "2                        NaN                   True  \n",
       "3                        NaN                   True  \n",
       "4                        NaN                   True  "
      ]
     },
     "execution_count": 36,
     "metadata": {},
     "output_type": "execute_result"
    }
   ],
   "source": [
    "# Rename all columns\n",
    "new_col_list = []\n",
    "for item in crashes.columns:\n",
    "\titem = item.strip()\n",
    "\titem = item.replace('/', ' ')\n",
    "\titem = item.replace(' ', '_')\n",
    "\titem = item.replace('#', 'Num')\n",
    "\titem = item.replace('__', '_')\n",
    "\titem = item.capitalize()\n",
    "\tnew_col_list.append(item)\n",
    "\t\n",
    "# Reassign column names to new column names\n",
    "crashes.columns = new_col_list\n",
    "crashes.head()"
   ]
  },
  {
   "cell_type": "code",
   "execution_count": 38,
   "id": "7ab22a39",
   "metadata": {},
   "outputs": [
    {
     "data": {
      "text/plain": [
       "_id                                     int64\n",
       "Collision_id                            int64\n",
       "Report_number                          object\n",
       "Report_version                          int64\n",
       "Is_preliminary                           bool\n",
       "Ncic_code                              object\n",
       "Crash_date_time                        object\n",
       "Crash_time_description                  int64\n",
       "Beat                                   object\n",
       "City_id                               float64\n",
       "City_code                             float64\n",
       "City_name                              object\n",
       "County_code                           float64\n",
       "City_is_active                         object\n",
       "City_is_incorporated                   object\n",
       "Collision_type_code                    object\n",
       "Collision_type_description             object\n",
       "Collision_type_other_desc              object\n",
       "Day_of_week                            object\n",
       "Dispatchnotified                       object\n",
       "Hasphotographs                         object\n",
       "Hitrun                                 object\n",
       "Isattachmentsmailed                   float64\n",
       "Isdeleted                                bool\n",
       "Ishighwayrelated                       object\n",
       "Istowaway                                bool\n",
       "Judicialdistrict                       object\n",
       "Motorvehicleinvolvedwithcode           object\n",
       "Motorvehicleinvolvedwithdesc           object\n",
       "Motorvehicleinvolvedwithotherdesc      object\n",
       "Numberinjured                         float64\n",
       "Numberkilled                          float64\n",
       "Weather_1                              object\n",
       "Weather_2                              object\n",
       "Road_condition_1                       object\n",
       "Road_condition_2                       object\n",
       "Special_condition                      object\n",
       "Lightingcode                           object\n",
       "Lightingdescription                    object\n",
       "Latitude                              float64\n",
       "Longitude                             float64\n",
       "Milepostdirection                      object\n",
       "Milepostdistance                      float64\n",
       "Milepostmarker                         object\n",
       "Milepostunitofmeasure                  object\n",
       "Pedestrianactioncode                   object\n",
       "Pedestrianactiondesc                   object\n",
       "Prepareddate                           object\n",
       "Primary_collision_factor_code          object\n",
       "Primary_collision_factor_violation     object\n",
       "Primarycollisionfactoriscited          object\n",
       "Primarycollisionpartynumber           float64\n",
       "Primaryroad                            object\n",
       "Reportingdistrict                      object\n",
       "Reportingdistrictcode                  object\n",
       "Revieweddate                           object\n",
       "Roadwaysurfacecode                     object\n",
       "Secondarydirection                     object\n",
       "Secondarydistance                     float64\n",
       "Secondaryroad                          object\n",
       "Secondaryunitofmeasure                 object\n",
       "Sketchdesc                             object\n",
       "Trafficcontroldevicecode               object\n",
       "Createddate                            object\n",
       "Modifieddate                           object\n",
       "Iscountyroad                           object\n",
       "Isfreeway                              object\n",
       "Chp555version                           int64\n",
       "Isadditonalobjectstruck                object\n",
       "Notificationdate                       object\n",
       "Notificationtimedescription            object\n",
       "Hasdigitalmediafiles                   object\n",
       "Evidencenumber                         object\n",
       "Islocationrefertonarrative             object\n",
       "Isaoionesameaslocation                 object\n",
       "dtype: object"
      ]
     },
     "execution_count": 38,
     "metadata": {},
     "output_type": "execute_result"
    }
   ],
   "source": [
    "# View data types\n",
    "crashes.dtypes"
   ]
  },
  {
   "cell_type": "code",
   "execution_count": null,
   "id": "54ae8a44",
   "metadata": {},
   "outputs": [
    {
     "name": "stdout",
     "output_type": "stream",
     "text": [
      "<class 'pandas.core.frame.DataFrame'>\n",
      "RangeIndex: 195655 entries, 0 to 195654\n",
      "Data columns (total 75 columns):\n",
      " #   Column                              Non-Null Count   Dtype  \n",
      "---  ------                              --------------   -----  \n",
      " 0   _id                                 195655 non-null  int64  \n",
      " 1   Collision_id                        195655 non-null  int64  \n",
      " 2   Report_number                       195617 non-null  object \n",
      " 3   Report_version                      195655 non-null  int64  \n",
      " 4   Is_preliminary                      195655 non-null  bool   \n",
      " 5   Ncic_code                           195655 non-null  object \n",
      " 6   Crash_date_time                     195655 non-null  object \n",
      " 7   Crash_time_description              195655 non-null  int64  \n",
      " 8   Beat                                186144 non-null  object \n",
      " 9   City_id                             195627 non-null  float64\n",
      " 10  City_code                           195627 non-null  float64\n",
      " 11  City_name                           195627 non-null  object \n",
      " 12  County_code                         195627 non-null  float64\n",
      " 13  City_is_active                      195627 non-null  object \n",
      " 14  City_is_incorporated                195627 non-null  object \n",
      " 15  Collision_type_code                 195226 non-null  object \n",
      " 16  Collision_type_description          195226 non-null  object \n",
      " 17  Collision_type_other_desc           3073 non-null    object \n",
      " 18  Day_of_week                         195655 non-null  object \n",
      " 19  Dispatchnotified                    149535 non-null  object \n",
      " 20  Hasphotographs                      146303 non-null  object \n",
      " 21  Hitrun                              45982 non-null   object \n",
      " 22  Isattachmentsmailed                 0 non-null       float64\n",
      " 23  Isdeleted                           195655 non-null  bool   \n",
      " 24  Ishighwayrelated                    195654 non-null  object \n",
      " 25  Istowaway                           195655 non-null  bool   \n",
      " 26  Judicialdistrict                    149182 non-null  object \n",
      " 27  Motorvehicleinvolvedwithcode        195151 non-null  object \n",
      " 28  Motorvehicleinvolvedwithdesc        195151 non-null  object \n",
      " 29  Motorvehicleinvolvedwithotherdesc   33998 non-null   object \n",
      " 30  Numberinjured                       195484 non-null  float64\n",
      " 31  Numberkilled                        195140 non-null  float64\n",
      " 32  Weather_1                           194989 non-null  object \n",
      " 33  Weather_2                           4987 non-null    object \n",
      " 34  Road_condition_1                    195655 non-null  object \n",
      " 35  Road_condition_2                    529 non-null     object \n",
      " 36  Special_condition                   195655 non-null  object \n",
      " 37  Lightingcode                        195332 non-null  object \n",
      " 38  Lightingdescription                 195332 non-null  object \n",
      " 39  Latitude                            157427 non-null  float64\n",
      " 40  Longitude                           157434 non-null  float64\n",
      " 41  Milepostdirection                   414 non-null     object \n",
      " 42  Milepostdistance                    445 non-null     float64\n",
      " 43  Milepostmarker                      445 non-null     object \n",
      " 44  Milepostunitofmeasure               286 non-null     object \n",
      " 45  Pedestrianactioncode                194700 non-null  object \n",
      " 46  Pedestrianactiondesc                194700 non-null  object \n",
      " 47  Prepareddate                        118039 non-null  object \n",
      " 48  Primary_collision_factor_code       195500 non-null  object \n",
      " 49  Primary_collision_factor_violation  185479 non-null  object \n",
      " 50  Primarycollisionfactoriscited       147421 non-null  object \n",
      " 51  Primarycollisionpartynumber         180417 non-null  float64\n",
      " 52  Primaryroad                         195655 non-null  object \n",
      " 53  Reportingdistrict                   56592 non-null   object \n",
      " 54  Reportingdistrictcode               59 non-null      object \n",
      " 55  Revieweddate                        155878 non-null  object \n",
      " 56  Roadwaysurfacecode                  195235 non-null  object \n",
      " 57  Secondarydirection                  151244 non-null  object \n",
      " 58  Secondarydistance                   152628 non-null  float64\n",
      " 59  Secondaryroad                       195557 non-null  object \n",
      " 60  Secondaryunitofmeasure              152628 non-null  object \n",
      " 61  Sketchdesc                          388 non-null     object \n",
      " 62  Trafficcontroldevicecode            195219 non-null  object \n",
      " 63  Createddate                         195655 non-null  object \n",
      " 64  Modifieddate                        195655 non-null  object \n",
      " 65  Iscountyroad                        114074 non-null  object \n",
      " 66  Isfreeway                           114074 non-null  object \n",
      " 67  Chp555version                       195655 non-null  int64  \n",
      " 68  Isadditonalobjectstruck             12685 non-null   object \n",
      " 69  Notificationdate                    114314 non-null  object \n",
      " 70  Notificationtimedescription         114311 non-null  object \n",
      " 71  Hasdigitalmediafiles                114347 non-null  object \n",
      " 72  Evidencenumber                      23809 non-null   object \n",
      " 73  Islocationrefertonarrative          6300 non-null    object \n",
      " 74  Isaoionesameaslocation              105216 non-null  object \n",
      "dtypes: bool(3), float64(11), int64(5), object(56)\n",
      "memory usage: 108.0+ MB\n"
     ]
    }
   ],
   "source": [
    "# Overview: length, non-null count, dtypes\n",
    "crashes.info()"
   ]
  },
  {
   "cell_type": "code",
   "execution_count": null,
   "id": "c4abbf8b",
   "metadata": {},
   "outputs": [
    {
     "data": {
      "text/plain": [
       "Isattachmentsmailed                   195655\n",
       "Reportingdistrictcode                 195596\n",
       "Milepostunitofmeasure                 195369\n",
       "Sketchdesc                            195267\n",
       "Milepostdirection                     195241\n",
       "Milepostdistance                      195210\n",
       "Milepostmarker                        195210\n",
       "Road_condition_2                      195126\n",
       "Collision_type_other_desc             192582\n",
       "Weather_2                             190668\n",
       "Islocationrefertonarrative            189355\n",
       "Isadditonalobjectstruck               182970\n",
       "Evidencenumber                        171846\n",
       "Motorvehicleinvolvedwithotherdesc     161657\n",
       "Hitrun                                149673\n",
       "Reportingdistrict                     139063\n",
       "Isaoionesameaslocation                 90439\n",
       "Iscountyroad                           81581\n",
       "Isfreeway                              81581\n",
       "Notificationtimedescription            81344\n",
       "Notificationdate                       81341\n",
       "Hasdigitalmediafiles                   81308\n",
       "Prepareddate                           77616\n",
       "Hasphotographs                         49352\n",
       "Primarycollisionfactoriscited          48234\n",
       "Judicialdistrict                       46473\n",
       "Dispatchnotified                       46120\n",
       "Secondarydirection                     44411\n",
       "Secondaryunitofmeasure                 43027\n",
       "Secondarydistance                      43027\n",
       "Revieweddate                           39777\n",
       "Latitude                               38228\n",
       "Longitude                              38221\n",
       "Primarycollisionpartynumber            15238\n",
       "Primary_collision_factor_violation     10176\n",
       "Beat                                    9511\n",
       "Pedestrianactioncode                     955\n",
       "Pedestrianactiondesc                     955\n",
       "Weather_1                                666\n",
       "Numberkilled                             515\n",
       "Motorvehicleinvolvedwithdesc             504\n",
       "Motorvehicleinvolvedwithcode             504\n",
       "Trafficcontroldevicecode                 436\n",
       "Collision_type_description               429\n",
       "Collision_type_code                      429\n",
       "Roadwaysurfacecode                       420\n",
       "Lightingcode                             323\n",
       "Lightingdescription                      323\n",
       "Numberinjured                            171\n",
       "Primary_collision_factor_code            155\n",
       "Secondaryroad                             98\n",
       "Report_number                             38\n",
       "City_is_incorporated                      28\n",
       "City_id                                   28\n",
       "City_code                                 28\n",
       "City_name                                 28\n",
       "City_is_active                            28\n",
       "County_code                               28\n",
       "Ishighwayrelated                           1\n",
       "Day_of_week                                0\n",
       "Chp555version                              0\n",
       "Collision_id                               0\n",
       "Report_version                             0\n",
       "Is_preliminary                             0\n",
       "Ncic_code                                  0\n",
       "Crash_date_time                            0\n",
       "Crash_time_description                     0\n",
       "Special_condition                          0\n",
       "Isdeleted                                  0\n",
       "Road_condition_1                           0\n",
       "Modifieddate                               0\n",
       "Createddate                                0\n",
       "Primaryroad                                0\n",
       "Istowaway                                  0\n",
       "_id                                        0\n",
       "dtype: int64"
      ]
     },
     "execution_count": 39,
     "metadata": {},
     "output_type": "execute_result"
    }
   ],
   "source": [
    "# Review columns with most missing values\n",
    "crashes.isnull().sum().sort_values(ascending=False)"
   ]
  },
  {
   "cell_type": "code",
   "execution_count": 43,
   "id": "1daa4054",
   "metadata": {},
   "outputs": [
    {
     "data": {
      "text/plain": [
       "(195655, 51)"
      ]
     },
     "execution_count": 43,
     "metadata": {},
     "output_type": "execute_result"
    }
   ],
   "source": [
    "# Drop 17 columns with excessive missing values (>70% null)\n",
    "crashes_bx = crashes.drop(['Isattachmentsmailed', 'Reportingdistrictcode', 'Milepostunitofmeasure', 'Sketchdesc', \n",
    "                            'Milepostdirection', 'Milepostmarker', 'Hitrun', 'Reportingdistrict', 'Isaoionesameaslocation',\n",
    "                            'Milepostdistance', 'Road_condition_2', 'Collision_type_other_desc', 'Weather_2', 'Islocationrefertonarrative', \n",
    "                            'Isadditonalobjectstruck', 'Evidencenumber', 'Motorvehicleinvolvedwithotherdesc'],\n",
    "                            axis=1, errors='ignore')\n",
    "\n",
    "# Further drop 8 irrelevant columns\n",
    "crashes_bx.drop(['Isaoionesameaslocation', 'Iscountyroad', 'Hasdigitalmediafiles', 'Beat', \n",
    "                 'Secondarydirection', 'Secondarydistance', 'Secondaryunitofmeasure', 'Secondaryroad'],\n",
    "                    axis=1, inplace=True, errors='ignore')\n",
    "\n",
    "# Check resulting dataset shape\n",
    "crashes_bx.shape"
   ]
  },
  {
   "cell_type": "code",
   "execution_count": 41,
   "id": "ee776a87",
   "metadata": {},
   "outputs": [
    {
     "name": "stdout",
     "output_type": "stream",
     "text": [
      "0\n",
      "Empty DataFrame\n",
      "Columns: [_id, Collision_id, Report_number, Report_version, Is_preliminary, Ncic_code, Crash_date_time, Crash_time_description, City_id, City_code, City_name, County_code, City_is_active, City_is_incorporated, Collision_type_code, Collision_type_description, Day_of_week, Dispatchnotified, Hasphotographs, Isdeleted, Ishighwayrelated, Istowaway, Judicialdistrict, Motorvehicleinvolvedwithcode, Motorvehicleinvolvedwithdesc, Numberinjured, Numberkilled, Weather_1, Road_condition_1, Special_condition, Lightingcode, Lightingdescription, Latitude, Longitude, Pedestrianactioncode, Pedestrianactiondesc, Prepareddate, Primary_collision_factor_code, Primary_collision_factor_violation, Primarycollisionfactoriscited, Primarycollisionpartynumber, Primaryroad, Revieweddate, Roadwaysurfacecode, Trafficcontroldevicecode, Createddate, Modifieddate, Isfreeway, Chp555version, Notificationdate, Notificationtimedescription]\n",
      "Index: []\n"
     ]
    }
   ],
   "source": [
    "# Verify that collision_id is a good unique identifier\n",
    "col_id_dupes = crashes_bx['Collision_id'].duplicated().sum()\n",
    "print(col_id_dupes)\n",
    "\n",
    "# Investigate duplicates (none)\n",
    "col_dupe_rows = crashes_bx[crashes_bx['Collision_id'].duplicated(keep=False)]\n",
    "print(col_dupe_rows.sort_values('Collision_id'))\n"
   ]
  },
  {
   "cell_type": "code",
   "execution_count": 42,
   "id": "b6e78f17",
   "metadata": {},
   "outputs": [
    {
     "name": "stdout",
     "output_type": "stream",
     "text": [
      "Ishighwayrelated has:  195654 \n",
      "Isfreeway has:  114074\n"
     ]
    }
   ],
   "source": [
    "# Investigate IsFreeWay vs IsHighwayRelated\n",
    "print(\"Ishighwayrelated has: \", crashes_bx['Ishighwayrelated'].count(), \"\\nIsfreeway has: \", \n",
    "crashes_bx['Isfreeway'].count())"
   ]
  },
  {
   "cell_type": "markdown",
   "id": "60c1abd9",
   "metadata": {},
   "source": [
    "Based on above, disregard IsFreeWay column."
   ]
  },
  {
   "cell_type": "markdown",
   "id": "8f41df7c",
   "metadata": {},
   "source": [
    "## Exploratory Data Analysis (EDA)\n",
    "\n",
    "This section explores crash patterns in the 2025 YTD California Collision Data, focusing on both **frequency** (which events happen most often) and **severity** (which events result in the most injuries). \n",
    "\n",
    "The analysis is organized into two main sections:\n",
    "\n",
    "- **Involved Party Analysis**: Identifies the most common collision partners (e.g., other motor vehicles, pedestrians, bicycles) and compares them by both number of crashes and average injuries \n",
    "- **Collision Type Analysis**: Examines the most frequent collision types (rear-end, sideswipe, broadside, etc.) and compares their injury severity\n",
    "\n",
    "Both frequency and severity are visualized side by side to highlight important tradeoffs, such as:  \n",
    "- Common but lower-risk events (e.g., parked vehicle crashes)\n",
    "- Less common but higher-risk events (e.g., pedestrian, motorcycle, or broadside collisions)  \n",
    "\n",
    "The goal of this EDA is not only to quantify patterns but also to **identify high-risk scenarios** that warrant further attention from traffic safety and vehicle design perspectives."
   ]
  },
  {
   "cell_type": "markdown",
   "id": "2cef4cb7",
   "metadata": {},
   "source": [
    "##### What is the most common involved party type in a collision, and how does this impact the average number of injuries per collision?"
   ]
  },
  {
   "cell_type": "code",
   "execution_count": null,
   "id": "c9c35b61",
   "metadata": {},
   "outputs": [
    {
     "data": {
      "text/plain": [
       "Motorvehicleinvolvedwithdesc\n",
       "OTHER MOTOR VEHICLE               123962\n",
       "FIXED OBJECT                       32969\n",
       "PARKED MOTOR VEHICLE               16106\n",
       "OTHER OBJECT                        5404\n",
       "PEDESTRIAN                          5191\n",
       "BICYCLE                             4335\n",
       "NON-COLLISION                       4305\n",
       "MOTOR VEHICLE ON OTHER ROADWAY      1688\n",
       "ANIMAL                              1128\n",
       "TRAIN                                 63\n",
       "Name: count, dtype: int64"
      ]
     },
     "execution_count": 17,
     "metadata": {},
     "output_type": "execute_result"
    }
   ],
   "source": [
    "# Collision count frequency of each involved party type \n",
    "crashes_bx['Motorvehicleinvolvedwithdesc'].value_counts()"
   ]
  },
  {
   "cell_type": "code",
   "execution_count": 44,
   "id": "8688f83b",
   "metadata": {},
   "outputs": [
    {
     "data": {
      "application/vnd.plotly.v1+json": {
       "config": {
        "plotlyServerURL": "https://plot.ly"
       },
       "data": [
        {
         "alignmentgroup": "True",
         "hovertemplate": "Involved Party=%{y}<br># of Collisions=%{x}<extra></extra>",
         "legendgroup": "OTHER MOTOR VEHICLE",
         "marker": {
          "color": "#636efa",
          "pattern": {
           "shape": ""
          }
         },
         "name": "OTHER MOTOR VEHICLE",
         "offsetgroup": "OTHER MOTOR VEHICLE",
         "orientation": "h",
         "showlegend": true,
         "textposition": "auto",
         "type": "bar",
         "x": [
          123962
         ],
         "xaxis": "x",
         "y": [
          "OTHER MOTOR VEHICLE"
         ],
         "yaxis": "y"
        },
        {
         "alignmentgroup": "True",
         "hovertemplate": "Involved Party=%{y}<br># of Collisions=%{x}<extra></extra>",
         "legendgroup": "OTHER OBJECT",
         "marker": {
          "color": "#EF553B",
          "pattern": {
           "shape": ""
          }
         },
         "name": "OTHER OBJECT",
         "offsetgroup": "OTHER OBJECT",
         "orientation": "h",
         "showlegend": true,
         "textposition": "auto",
         "type": "bar",
         "x": [
          5404
         ],
         "xaxis": "x",
         "y": [
          "OTHER OBJECT"
         ],
         "yaxis": "y"
        },
        {
         "alignmentgroup": "True",
         "hovertemplate": "Involved Party=%{y}<br># of Collisions=%{x}<extra></extra>",
         "legendgroup": "FIXED OBJECT",
         "marker": {
          "color": "#00cc96",
          "pattern": {
           "shape": ""
          }
         },
         "name": "FIXED OBJECT",
         "offsetgroup": "FIXED OBJECT",
         "orientation": "h",
         "showlegend": true,
         "textposition": "auto",
         "type": "bar",
         "x": [
          32969
         ],
         "xaxis": "x",
         "y": [
          "FIXED OBJECT"
         ],
         "yaxis": "y"
        },
        {
         "alignmentgroup": "True",
         "hovertemplate": "Involved Party=%{y}<br># of Collisions=%{x}<extra></extra>",
         "legendgroup": "PARKED MOTOR VEHICLE",
         "marker": {
          "color": "#ab63fa",
          "pattern": {
           "shape": ""
          }
         },
         "name": "PARKED MOTOR VEHICLE",
         "offsetgroup": "PARKED MOTOR VEHICLE",
         "orientation": "h",
         "showlegend": true,
         "textposition": "auto",
         "type": "bar",
         "x": [
          16106
         ],
         "xaxis": "x",
         "y": [
          "PARKED MOTOR VEHICLE"
         ],
         "yaxis": "y"
        },
        {
         "alignmentgroup": "True",
         "hovertemplate": "Involved Party=%{y}<br># of Collisions=%{x}<extra></extra>",
         "legendgroup": "NON-COLLISION",
         "marker": {
          "color": "#FFA15A",
          "pattern": {
           "shape": ""
          }
         },
         "name": "NON-COLLISION",
         "offsetgroup": "NON-COLLISION",
         "orientation": "h",
         "showlegend": true,
         "textposition": "auto",
         "type": "bar",
         "x": [
          4305
         ],
         "xaxis": "x",
         "y": [
          "NON-COLLISION"
         ],
         "yaxis": "y"
        },
        {
         "alignmentgroup": "True",
         "hovertemplate": "Involved Party=%{y}<br># of Collisions=%{x}<extra></extra>",
         "legendgroup": "BICYCLE",
         "marker": {
          "color": "#19d3f3",
          "pattern": {
           "shape": ""
          }
         },
         "name": "BICYCLE",
         "offsetgroup": "BICYCLE",
         "orientation": "h",
         "showlegend": true,
         "textposition": "auto",
         "type": "bar",
         "x": [
          4335
         ],
         "xaxis": "x",
         "y": [
          "BICYCLE"
         ],
         "yaxis": "y"
        },
        {
         "alignmentgroup": "True",
         "hovertemplate": "Involved Party=%{y}<br># of Collisions=%{x}<extra></extra>",
         "legendgroup": "PEDESTRIAN",
         "marker": {
          "color": "#FF6692",
          "pattern": {
           "shape": ""
          }
         },
         "name": "PEDESTRIAN",
         "offsetgroup": "PEDESTRIAN",
         "orientation": "h",
         "showlegend": true,
         "textposition": "auto",
         "type": "bar",
         "x": [
          5191
         ],
         "xaxis": "x",
         "y": [
          "PEDESTRIAN"
         ],
         "yaxis": "y"
        },
        {
         "alignmentgroup": "True",
         "hovertemplate": "Involved Party=%{y}<br># of Collisions=%{x}<extra></extra>",
         "legendgroup": "ANIMAL",
         "marker": {
          "color": "#B6E880",
          "pattern": {
           "shape": ""
          }
         },
         "name": "ANIMAL",
         "offsetgroup": "ANIMAL",
         "orientation": "h",
         "showlegend": true,
         "textposition": "auto",
         "type": "bar",
         "x": [
          1128
         ],
         "xaxis": "x",
         "y": [
          "ANIMAL"
         ],
         "yaxis": "y"
        },
        {
         "alignmentgroup": "True",
         "hovertemplate": "Involved Party=%{y}<br># of Collisions=%{x}<extra></extra>",
         "legendgroup": "MOTOR VEHICLE ON OTHER ROADWAY",
         "marker": {
          "color": "#FF97FF",
          "pattern": {
           "shape": ""
          }
         },
         "name": "MOTOR VEHICLE ON OTHER ROADWAY",
         "offsetgroup": "MOTOR VEHICLE ON OTHER ROADWAY",
         "orientation": "h",
         "showlegend": true,
         "textposition": "auto",
         "type": "bar",
         "x": [
          1688
         ],
         "xaxis": "x",
         "y": [
          "MOTOR VEHICLE ON OTHER ROADWAY"
         ],
         "yaxis": "y"
        },
        {
         "alignmentgroup": "True",
         "hovertemplate": "Involved Party=%{y}<br># of Collisions=%{x}<extra></extra>",
         "legendgroup": "TRAIN",
         "marker": {
          "color": "#636efa",
          "pattern": {
           "shape": ""
          }
         },
         "name": "TRAIN",
         "offsetgroup": "TRAIN",
         "orientation": "h",
         "showlegend": true,
         "textposition": "auto",
         "type": "bar",
         "x": [
          63
         ],
         "xaxis": "x",
         "y": [
          "TRAIN"
         ],
         "yaxis": "y"
        }
       ],
       "layout": {
        "barmode": "relative",
        "height": 600,
        "legend": {
         "title": {
          "text": "Involved Party"
         },
         "tracegroupgap": 0
        },
        "showlegend": false,
        "template": {
         "data": {
          "bar": [
           {
            "error_x": {
             "color": "#2a3f5f"
            },
            "error_y": {
             "color": "#2a3f5f"
            },
            "marker": {
             "line": {
              "color": "#E5ECF6",
              "width": 0.5
             },
             "pattern": {
              "fillmode": "overlay",
              "size": 10,
              "solidity": 0.2
             }
            },
            "type": "bar"
           }
          ],
          "barpolar": [
           {
            "marker": {
             "line": {
              "color": "#E5ECF6",
              "width": 0.5
             },
             "pattern": {
              "fillmode": "overlay",
              "size": 10,
              "solidity": 0.2
             }
            },
            "type": "barpolar"
           }
          ],
          "carpet": [
           {
            "aaxis": {
             "endlinecolor": "#2a3f5f",
             "gridcolor": "white",
             "linecolor": "white",
             "minorgridcolor": "white",
             "startlinecolor": "#2a3f5f"
            },
            "baxis": {
             "endlinecolor": "#2a3f5f",
             "gridcolor": "white",
             "linecolor": "white",
             "minorgridcolor": "white",
             "startlinecolor": "#2a3f5f"
            },
            "type": "carpet"
           }
          ],
          "choropleth": [
           {
            "colorbar": {
             "outlinewidth": 0,
             "ticks": ""
            },
            "type": "choropleth"
           }
          ],
          "contour": [
           {
            "colorbar": {
             "outlinewidth": 0,
             "ticks": ""
            },
            "colorscale": [
             [
              0,
              "#0d0887"
             ],
             [
              0.1111111111111111,
              "#46039f"
             ],
             [
              0.2222222222222222,
              "#7201a8"
             ],
             [
              0.3333333333333333,
              "#9c179e"
             ],
             [
              0.4444444444444444,
              "#bd3786"
             ],
             [
              0.5555555555555556,
              "#d8576b"
             ],
             [
              0.6666666666666666,
              "#ed7953"
             ],
             [
              0.7777777777777778,
              "#fb9f3a"
             ],
             [
              0.8888888888888888,
              "#fdca26"
             ],
             [
              1,
              "#f0f921"
             ]
            ],
            "type": "contour"
           }
          ],
          "contourcarpet": [
           {
            "colorbar": {
             "outlinewidth": 0,
             "ticks": ""
            },
            "type": "contourcarpet"
           }
          ],
          "heatmap": [
           {
            "colorbar": {
             "outlinewidth": 0,
             "ticks": ""
            },
            "colorscale": [
             [
              0,
              "#0d0887"
             ],
             [
              0.1111111111111111,
              "#46039f"
             ],
             [
              0.2222222222222222,
              "#7201a8"
             ],
             [
              0.3333333333333333,
              "#9c179e"
             ],
             [
              0.4444444444444444,
              "#bd3786"
             ],
             [
              0.5555555555555556,
              "#d8576b"
             ],
             [
              0.6666666666666666,
              "#ed7953"
             ],
             [
              0.7777777777777778,
              "#fb9f3a"
             ],
             [
              0.8888888888888888,
              "#fdca26"
             ],
             [
              1,
              "#f0f921"
             ]
            ],
            "type": "heatmap"
           }
          ],
          "heatmapgl": [
           {
            "colorbar": {
             "outlinewidth": 0,
             "ticks": ""
            },
            "colorscale": [
             [
              0,
              "#0d0887"
             ],
             [
              0.1111111111111111,
              "#46039f"
             ],
             [
              0.2222222222222222,
              "#7201a8"
             ],
             [
              0.3333333333333333,
              "#9c179e"
             ],
             [
              0.4444444444444444,
              "#bd3786"
             ],
             [
              0.5555555555555556,
              "#d8576b"
             ],
             [
              0.6666666666666666,
              "#ed7953"
             ],
             [
              0.7777777777777778,
              "#fb9f3a"
             ],
             [
              0.8888888888888888,
              "#fdca26"
             ],
             [
              1,
              "#f0f921"
             ]
            ],
            "type": "heatmapgl"
           }
          ],
          "histogram": [
           {
            "marker": {
             "pattern": {
              "fillmode": "overlay",
              "size": 10,
              "solidity": 0.2
             }
            },
            "type": "histogram"
           }
          ],
          "histogram2d": [
           {
            "colorbar": {
             "outlinewidth": 0,
             "ticks": ""
            },
            "colorscale": [
             [
              0,
              "#0d0887"
             ],
             [
              0.1111111111111111,
              "#46039f"
             ],
             [
              0.2222222222222222,
              "#7201a8"
             ],
             [
              0.3333333333333333,
              "#9c179e"
             ],
             [
              0.4444444444444444,
              "#bd3786"
             ],
             [
              0.5555555555555556,
              "#d8576b"
             ],
             [
              0.6666666666666666,
              "#ed7953"
             ],
             [
              0.7777777777777778,
              "#fb9f3a"
             ],
             [
              0.8888888888888888,
              "#fdca26"
             ],
             [
              1,
              "#f0f921"
             ]
            ],
            "type": "histogram2d"
           }
          ],
          "histogram2dcontour": [
           {
            "colorbar": {
             "outlinewidth": 0,
             "ticks": ""
            },
            "colorscale": [
             [
              0,
              "#0d0887"
             ],
             [
              0.1111111111111111,
              "#46039f"
             ],
             [
              0.2222222222222222,
              "#7201a8"
             ],
             [
              0.3333333333333333,
              "#9c179e"
             ],
             [
              0.4444444444444444,
              "#bd3786"
             ],
             [
              0.5555555555555556,
              "#d8576b"
             ],
             [
              0.6666666666666666,
              "#ed7953"
             ],
             [
              0.7777777777777778,
              "#fb9f3a"
             ],
             [
              0.8888888888888888,
              "#fdca26"
             ],
             [
              1,
              "#f0f921"
             ]
            ],
            "type": "histogram2dcontour"
           }
          ],
          "mesh3d": [
           {
            "colorbar": {
             "outlinewidth": 0,
             "ticks": ""
            },
            "type": "mesh3d"
           }
          ],
          "parcoords": [
           {
            "line": {
             "colorbar": {
              "outlinewidth": 0,
              "ticks": ""
             }
            },
            "type": "parcoords"
           }
          ],
          "pie": [
           {
            "automargin": true,
            "type": "pie"
           }
          ],
          "scatter": [
           {
            "fillpattern": {
             "fillmode": "overlay",
             "size": 10,
             "solidity": 0.2
            },
            "type": "scatter"
           }
          ],
          "scatter3d": [
           {
            "line": {
             "colorbar": {
              "outlinewidth": 0,
              "ticks": ""
             }
            },
            "marker": {
             "colorbar": {
              "outlinewidth": 0,
              "ticks": ""
             }
            },
            "type": "scatter3d"
           }
          ],
          "scattercarpet": [
           {
            "marker": {
             "colorbar": {
              "outlinewidth": 0,
              "ticks": ""
             }
            },
            "type": "scattercarpet"
           }
          ],
          "scattergeo": [
           {
            "marker": {
             "colorbar": {
              "outlinewidth": 0,
              "ticks": ""
             }
            },
            "type": "scattergeo"
           }
          ],
          "scattergl": [
           {
            "marker": {
             "colorbar": {
              "outlinewidth": 0,
              "ticks": ""
             }
            },
            "type": "scattergl"
           }
          ],
          "scattermapbox": [
           {
            "marker": {
             "colorbar": {
              "outlinewidth": 0,
              "ticks": ""
             }
            },
            "type": "scattermapbox"
           }
          ],
          "scatterpolar": [
           {
            "marker": {
             "colorbar": {
              "outlinewidth": 0,
              "ticks": ""
             }
            },
            "type": "scatterpolar"
           }
          ],
          "scatterpolargl": [
           {
            "marker": {
             "colorbar": {
              "outlinewidth": 0,
              "ticks": ""
             }
            },
            "type": "scatterpolargl"
           }
          ],
          "scatterternary": [
           {
            "marker": {
             "colorbar": {
              "outlinewidth": 0,
              "ticks": ""
             }
            },
            "type": "scatterternary"
           }
          ],
          "surface": [
           {
            "colorbar": {
             "outlinewidth": 0,
             "ticks": ""
            },
            "colorscale": [
             [
              0,
              "#0d0887"
             ],
             [
              0.1111111111111111,
              "#46039f"
             ],
             [
              0.2222222222222222,
              "#7201a8"
             ],
             [
              0.3333333333333333,
              "#9c179e"
             ],
             [
              0.4444444444444444,
              "#bd3786"
             ],
             [
              0.5555555555555556,
              "#d8576b"
             ],
             [
              0.6666666666666666,
              "#ed7953"
             ],
             [
              0.7777777777777778,
              "#fb9f3a"
             ],
             [
              0.8888888888888888,
              "#fdca26"
             ],
             [
              1,
              "#f0f921"
             ]
            ],
            "type": "surface"
           }
          ],
          "table": [
           {
            "cells": {
             "fill": {
              "color": "#EBF0F8"
             },
             "line": {
              "color": "white"
             }
            },
            "header": {
             "fill": {
              "color": "#C8D4E3"
             },
             "line": {
              "color": "white"
             }
            },
            "type": "table"
           }
          ]
         },
         "layout": {
          "annotationdefaults": {
           "arrowcolor": "#2a3f5f",
           "arrowhead": 0,
           "arrowwidth": 1
          },
          "autotypenumbers": "strict",
          "coloraxis": {
           "colorbar": {
            "outlinewidth": 0,
            "ticks": ""
           }
          },
          "colorscale": {
           "diverging": [
            [
             0,
             "#8e0152"
            ],
            [
             0.1,
             "#c51b7d"
            ],
            [
             0.2,
             "#de77ae"
            ],
            [
             0.3,
             "#f1b6da"
            ],
            [
             0.4,
             "#fde0ef"
            ],
            [
             0.5,
             "#f7f7f7"
            ],
            [
             0.6,
             "#e6f5d0"
            ],
            [
             0.7,
             "#b8e186"
            ],
            [
             0.8,
             "#7fbc41"
            ],
            [
             0.9,
             "#4d9221"
            ],
            [
             1,
             "#276419"
            ]
           ],
           "sequential": [
            [
             0,
             "#0d0887"
            ],
            [
             0.1111111111111111,
             "#46039f"
            ],
            [
             0.2222222222222222,
             "#7201a8"
            ],
            [
             0.3333333333333333,
             "#9c179e"
            ],
            [
             0.4444444444444444,
             "#bd3786"
            ],
            [
             0.5555555555555556,
             "#d8576b"
            ],
            [
             0.6666666666666666,
             "#ed7953"
            ],
            [
             0.7777777777777778,
             "#fb9f3a"
            ],
            [
             0.8888888888888888,
             "#fdca26"
            ],
            [
             1,
             "#f0f921"
            ]
           ],
           "sequentialminus": [
            [
             0,
             "#0d0887"
            ],
            [
             0.1111111111111111,
             "#46039f"
            ],
            [
             0.2222222222222222,
             "#7201a8"
            ],
            [
             0.3333333333333333,
             "#9c179e"
            ],
            [
             0.4444444444444444,
             "#bd3786"
            ],
            [
             0.5555555555555556,
             "#d8576b"
            ],
            [
             0.6666666666666666,
             "#ed7953"
            ],
            [
             0.7777777777777778,
             "#fb9f3a"
            ],
            [
             0.8888888888888888,
             "#fdca26"
            ],
            [
             1,
             "#f0f921"
            ]
           ]
          },
          "colorway": [
           "#636efa",
           "#EF553B",
           "#00cc96",
           "#ab63fa",
           "#FFA15A",
           "#19d3f3",
           "#FF6692",
           "#B6E880",
           "#FF97FF",
           "#FECB52"
          ],
          "font": {
           "color": "#2a3f5f"
          },
          "geo": {
           "bgcolor": "white",
           "lakecolor": "white",
           "landcolor": "#E5ECF6",
           "showlakes": true,
           "showland": true,
           "subunitcolor": "white"
          },
          "hoverlabel": {
           "align": "left"
          },
          "hovermode": "closest",
          "mapbox": {
           "style": "light"
          },
          "paper_bgcolor": "white",
          "plot_bgcolor": "#E5ECF6",
          "polar": {
           "angularaxis": {
            "gridcolor": "white",
            "linecolor": "white",
            "ticks": ""
           },
           "bgcolor": "#E5ECF6",
           "radialaxis": {
            "gridcolor": "white",
            "linecolor": "white",
            "ticks": ""
           }
          },
          "scene": {
           "xaxis": {
            "backgroundcolor": "#E5ECF6",
            "gridcolor": "white",
            "gridwidth": 2,
            "linecolor": "white",
            "showbackground": true,
            "ticks": "",
            "zerolinecolor": "white"
           },
           "yaxis": {
            "backgroundcolor": "#E5ECF6",
            "gridcolor": "white",
            "gridwidth": 2,
            "linecolor": "white",
            "showbackground": true,
            "ticks": "",
            "zerolinecolor": "white"
           },
           "zaxis": {
            "backgroundcolor": "#E5ECF6",
            "gridcolor": "white",
            "gridwidth": 2,
            "linecolor": "white",
            "showbackground": true,
            "ticks": "",
            "zerolinecolor": "white"
           }
          },
          "shapedefaults": {
           "line": {
            "color": "#2a3f5f"
           }
          },
          "ternary": {
           "aaxis": {
            "gridcolor": "white",
            "linecolor": "white",
            "ticks": ""
           },
           "baxis": {
            "gridcolor": "white",
            "linecolor": "white",
            "ticks": ""
           },
           "bgcolor": "#E5ECF6",
           "caxis": {
            "gridcolor": "white",
            "linecolor": "white",
            "ticks": ""
           }
          },
          "title": {
           "x": 0.05
          },
          "xaxis": {
           "automargin": true,
           "gridcolor": "white",
           "linecolor": "white",
           "ticks": "",
           "title": {
            "standoff": 15
           },
           "zerolinecolor": "white",
           "zerolinewidth": 2
          },
          "yaxis": {
           "automargin": true,
           "gridcolor": "white",
           "linecolor": "white",
           "ticks": "",
           "title": {
            "standoff": 15
           },
           "zerolinecolor": "white",
           "zerolinewidth": 2
          }
         }
        },
        "title": {
         "text": "Involved Party in Collisions - CA 2025 YTD Data From CCSR"
        },
        "width": 800,
        "xaxis": {
         "anchor": "y",
         "domain": [
          0,
          1
         ],
         "title": {
          "text": "# of Collisions"
         }
        },
        "yaxis": {
         "anchor": "x",
         "categoryarray": [
          "TRAIN",
          "ANIMAL",
          "MOTOR VEHICLE ON OTHER ROADWAY",
          "NON-COLLISION",
          "BICYCLE",
          "PEDESTRIAN",
          "OTHER OBJECT",
          "PARKED MOTOR VEHICLE",
          "FIXED OBJECT",
          "OTHER MOTOR VEHICLE"
         ],
         "categoryorder": "array",
         "domain": [
          0,
          1
         ],
         "title": {
          "text": "Involved Party"
         }
        }
       }
      }
     },
     "metadata": {},
     "output_type": "display_data"
    }
   ],
   "source": [
    "# Bar chart: Frequency of involved party types in collisions\n",
    "\n",
    "# Define color order to ensure consistent colors across plots\n",
    "color_order = crashes_bx['Motorvehicleinvolvedwithdesc'].unique().tolist()\n",
    "\n",
    "# Count involved party types\n",
    "involved_type_counts = (\n",
    "    crashes_bx['Motorvehicleinvolvedwithdesc']\n",
    "    .value_counts(ascending=True)\n",
    "    .reset_index()\n",
    ")\n",
    "\n",
    "involved_type_counts.columns = ['Involved Party', '# of Collisions']\n",
    "\n",
    "# Create horizontal bar chart with Plotly\n",
    "fig = px.bar(\n",
    "    involved_type_counts,\n",
    "    x='# of Collisions',\n",
    "    y='Involved Party',\n",
    "    orientation='h',\n",
    "    title=\"Involved Party in Collisions - CA 2025 YTD Data From CCSR\",\n",
    "    labels={'# of Collisions': '# of Collisions', 'Involved Party': 'Involved Party'},\n",
    "    color='Involved Party',\n",
    "    category_orders={'Involved Party': color_order},\n",
    "    width=800,\n",
    "    height=600\n",
    ")\n",
    "\n",
    "fig.update_layout(yaxis={'categoryorder': 'array', 'categoryarray': involved_type_counts['Involved Party']}, showlegend=False)\n",
    "\n",
    "fig.show()"
   ]
  },
  {
   "cell_type": "markdown",
   "id": "ee532233",
   "metadata": {},
   "source": [
    "This chart shows the distribution of 'Involved Party Type', which refers to the other party in the collision. \n",
    "\n",
    "The category of 'Other motor vehicles' is, by a wide margin, the most common category. The next three largest categories involve stationary objects: fixed object, parked motor vehicle, and other object. \n",
    "\n",
    "This highlights that while moving vehicles dominate collisions, stationary obstacles also play a significant role.  \n",
    "\n",
    "Next, we explore how the average number of injuries varies by involved party type."
   ]
  },
  {
   "cell_type": "code",
   "execution_count": 45,
   "id": "eae31597",
   "metadata": {},
   "outputs": [
    {
     "data": {
      "application/vnd.plotly.v1+json": {
       "config": {
        "plotlyServerURL": "https://plot.ly"
       },
       "data": [
        {
         "alignmentgroup": "True",
         "hovertemplate": "Involved Party=%{x}<br>Avg Injured=%{text}<extra></extra>",
         "legendgroup": "OTHER MOTOR VEHICLE",
         "marker": {
          "color": "#636efa",
          "pattern": {
           "shape": ""
          }
         },
         "name": "OTHER MOTOR VEHICLE",
         "offsetgroup": "OTHER MOTOR VEHICLE",
         "orientation": "v",
         "showlegend": true,
         "text": [
          0.6350449221430243
         ],
         "textposition": "auto",
         "texttemplate": "%{text:.2f}",
         "type": "bar",
         "x": [
          "OTHER MOTOR VEHICLE"
         ],
         "xaxis": "x",
         "y": [
          0.6350449221430243
         ],
         "yaxis": "y"
        },
        {
         "alignmentgroup": "True",
         "hovertemplate": "Involved Party=%{x}<br>Avg Injured=%{text}<extra></extra>",
         "legendgroup": "OTHER OBJECT",
         "marker": {
          "color": "#EF553B",
          "pattern": {
           "shape": ""
          }
         },
         "name": "OTHER OBJECT",
         "offsetgroup": "OTHER OBJECT",
         "orientation": "v",
         "showlegend": true,
         "text": [
          0.27245786256714205
         ],
         "textposition": "auto",
         "texttemplate": "%{text:.2f}",
         "type": "bar",
         "x": [
          "OTHER OBJECT"
         ],
         "xaxis": "x",
         "y": [
          0.27245786256714205
         ],
         "yaxis": "y"
        },
        {
         "alignmentgroup": "True",
         "hovertemplate": "Involved Party=%{x}<br>Avg Injured=%{text}<extra></extra>",
         "legendgroup": "FIXED OBJECT",
         "marker": {
          "color": "#00cc96",
          "pattern": {
           "shape": ""
          }
         },
         "name": "FIXED OBJECT",
         "offsetgroup": "FIXED OBJECT",
         "orientation": "v",
         "showlegend": true,
         "text": [
          0.39047416671726065
         ],
         "textposition": "auto",
         "texttemplate": "%{text:.2f}",
         "type": "bar",
         "x": [
          "FIXED OBJECT"
         ],
         "xaxis": "x",
         "y": [
          0.39047416671726065
         ],
         "yaxis": "y"
        },
        {
         "alignmentgroup": "True",
         "hovertemplate": "Involved Party=%{x}<br>Avg Injured=%{text}<extra></extra>",
         "legendgroup": "PARKED MOTOR VEHICLE",
         "marker": {
          "color": "#ab63fa",
          "pattern": {
           "shape": ""
          }
         },
         "name": "PARKED MOTOR VEHICLE",
         "offsetgroup": "PARKED MOTOR VEHICLE",
         "orientation": "v",
         "showlegend": true,
         "text": [
          0.18679950186799502
         ],
         "textposition": "auto",
         "texttemplate": "%{text:.2f}",
         "type": "bar",
         "x": [
          "PARKED MOTOR VEHICLE"
         ],
         "xaxis": "x",
         "y": [
          0.18679950186799502
         ],
         "yaxis": "y"
        },
        {
         "alignmentgroup": "True",
         "hovertemplate": "Involved Party=%{x}<br>Avg Injured=%{text}<extra></extra>",
         "legendgroup": "NON-COLLISION",
         "marker": {
          "color": "#FFA15A",
          "pattern": {
           "shape": ""
          }
         },
         "name": "NON-COLLISION",
         "offsetgroup": "NON-COLLISION",
         "orientation": "v",
         "showlegend": true,
         "text": [
          0.7495934959349594
         ],
         "textposition": "auto",
         "texttemplate": "%{text:.2f}",
         "type": "bar",
         "x": [
          "NON-COLLISION"
         ],
         "xaxis": "x",
         "y": [
          0.7495934959349594
         ],
         "yaxis": "y"
        },
        {
         "alignmentgroup": "True",
         "hovertemplate": "Involved Party=%{x}<br>Avg Injured=%{text}<extra></extra>",
         "legendgroup": "BICYCLE",
         "marker": {
          "color": "#19d3f3",
          "pattern": {
           "shape": ""
          }
         },
         "name": "BICYCLE",
         "offsetgroup": "BICYCLE",
         "orientation": "v",
         "showlegend": true,
         "text": [
          0.9136856681283175
         ],
         "textposition": "auto",
         "texttemplate": "%{text:.2f}",
         "type": "bar",
         "x": [
          "BICYCLE"
         ],
         "xaxis": "x",
         "y": [
          0.9136856681283175
         ],
         "yaxis": "y"
        },
        {
         "alignmentgroup": "True",
         "hovertemplate": "Involved Party=%{x}<br>Avg Injured=%{text}<extra></extra>",
         "legendgroup": "PEDESTRIAN",
         "marker": {
          "color": "#FF6692",
          "pattern": {
           "shape": ""
          }
         },
         "name": "PEDESTRIAN",
         "offsetgroup": "PEDESTRIAN",
         "orientation": "v",
         "showlegend": true,
         "text": [
          0.9685873964154943
         ],
         "textposition": "auto",
         "texttemplate": "%{text:.2f}",
         "type": "bar",
         "x": [
          "PEDESTRIAN"
         ],
         "xaxis": "x",
         "y": [
          0.9685873964154943
         ],
         "yaxis": "y"
        },
        {
         "alignmentgroup": "True",
         "hovertemplate": "Involved Party=%{x}<br>Avg Injured=%{text}<extra></extra>",
         "legendgroup": "ANIMAL",
         "marker": {
          "color": "#B6E880",
          "pattern": {
           "shape": ""
          }
         },
         "name": "ANIMAL",
         "offsetgroup": "ANIMAL",
         "orientation": "v",
         "showlegend": true,
         "text": [
          0.16578014184397163
         ],
         "textposition": "auto",
         "texttemplate": "%{text:.2f}",
         "type": "bar",
         "x": [
          "ANIMAL"
         ],
         "xaxis": "x",
         "y": [
          0.16578014184397163
         ],
         "yaxis": "y"
        },
        {
         "alignmentgroup": "True",
         "hovertemplate": "Involved Party=%{x}<br>Avg Injured=%{text}<extra></extra>",
         "legendgroup": "MOTOR VEHICLE ON OTHER ROADWAY",
         "marker": {
          "color": "#FF97FF",
          "pattern": {
           "shape": ""
          }
         },
         "name": "MOTOR VEHICLE ON OTHER ROADWAY",
         "offsetgroup": "MOTOR VEHICLE ON OTHER ROADWAY",
         "orientation": "v",
         "showlegend": true,
         "text": [
          0.8099762470308789
         ],
         "textposition": "auto",
         "texttemplate": "%{text:.2f}",
         "type": "bar",
         "x": [
          "MOTOR VEHICLE ON OTHER ROADWAY"
         ],
         "xaxis": "x",
         "y": [
          0.8099762470308789
         ],
         "yaxis": "y"
        },
        {
         "alignmentgroup": "True",
         "hovertemplate": "Involved Party=%{x}<br>Avg Injured=%{text}<extra></extra>",
         "legendgroup": "TRAIN",
         "marker": {
          "color": "#636efa",
          "pattern": {
           "shape": ""
          }
         },
         "name": "TRAIN",
         "offsetgroup": "TRAIN",
         "orientation": "v",
         "showlegend": true,
         "text": [
          0.746031746031746
         ],
         "textposition": "auto",
         "texttemplate": "%{text:.2f}",
         "type": "bar",
         "x": [
          "TRAIN"
         ],
         "xaxis": "x",
         "y": [
          0.746031746031746
         ],
         "yaxis": "y"
        }
       ],
       "layout": {
        "barmode": "relative",
        "legend": {
         "title": {
          "text": "Involved Party"
         },
         "tracegroupgap": 0
        },
        "showlegend": false,
        "template": {
         "data": {
          "bar": [
           {
            "error_x": {
             "color": "#2a3f5f"
            },
            "error_y": {
             "color": "#2a3f5f"
            },
            "marker": {
             "line": {
              "color": "#E5ECF6",
              "width": 0.5
             },
             "pattern": {
              "fillmode": "overlay",
              "size": 10,
              "solidity": 0.2
             }
            },
            "type": "bar"
           }
          ],
          "barpolar": [
           {
            "marker": {
             "line": {
              "color": "#E5ECF6",
              "width": 0.5
             },
             "pattern": {
              "fillmode": "overlay",
              "size": 10,
              "solidity": 0.2
             }
            },
            "type": "barpolar"
           }
          ],
          "carpet": [
           {
            "aaxis": {
             "endlinecolor": "#2a3f5f",
             "gridcolor": "white",
             "linecolor": "white",
             "minorgridcolor": "white",
             "startlinecolor": "#2a3f5f"
            },
            "baxis": {
             "endlinecolor": "#2a3f5f",
             "gridcolor": "white",
             "linecolor": "white",
             "minorgridcolor": "white",
             "startlinecolor": "#2a3f5f"
            },
            "type": "carpet"
           }
          ],
          "choropleth": [
           {
            "colorbar": {
             "outlinewidth": 0,
             "ticks": ""
            },
            "type": "choropleth"
           }
          ],
          "contour": [
           {
            "colorbar": {
             "outlinewidth": 0,
             "ticks": ""
            },
            "colorscale": [
             [
              0,
              "#0d0887"
             ],
             [
              0.1111111111111111,
              "#46039f"
             ],
             [
              0.2222222222222222,
              "#7201a8"
             ],
             [
              0.3333333333333333,
              "#9c179e"
             ],
             [
              0.4444444444444444,
              "#bd3786"
             ],
             [
              0.5555555555555556,
              "#d8576b"
             ],
             [
              0.6666666666666666,
              "#ed7953"
             ],
             [
              0.7777777777777778,
              "#fb9f3a"
             ],
             [
              0.8888888888888888,
              "#fdca26"
             ],
             [
              1,
              "#f0f921"
             ]
            ],
            "type": "contour"
           }
          ],
          "contourcarpet": [
           {
            "colorbar": {
             "outlinewidth": 0,
             "ticks": ""
            },
            "type": "contourcarpet"
           }
          ],
          "heatmap": [
           {
            "colorbar": {
             "outlinewidth": 0,
             "ticks": ""
            },
            "colorscale": [
             [
              0,
              "#0d0887"
             ],
             [
              0.1111111111111111,
              "#46039f"
             ],
             [
              0.2222222222222222,
              "#7201a8"
             ],
             [
              0.3333333333333333,
              "#9c179e"
             ],
             [
              0.4444444444444444,
              "#bd3786"
             ],
             [
              0.5555555555555556,
              "#d8576b"
             ],
             [
              0.6666666666666666,
              "#ed7953"
             ],
             [
              0.7777777777777778,
              "#fb9f3a"
             ],
             [
              0.8888888888888888,
              "#fdca26"
             ],
             [
              1,
              "#f0f921"
             ]
            ],
            "type": "heatmap"
           }
          ],
          "heatmapgl": [
           {
            "colorbar": {
             "outlinewidth": 0,
             "ticks": ""
            },
            "colorscale": [
             [
              0,
              "#0d0887"
             ],
             [
              0.1111111111111111,
              "#46039f"
             ],
             [
              0.2222222222222222,
              "#7201a8"
             ],
             [
              0.3333333333333333,
              "#9c179e"
             ],
             [
              0.4444444444444444,
              "#bd3786"
             ],
             [
              0.5555555555555556,
              "#d8576b"
             ],
             [
              0.6666666666666666,
              "#ed7953"
             ],
             [
              0.7777777777777778,
              "#fb9f3a"
             ],
             [
              0.8888888888888888,
              "#fdca26"
             ],
             [
              1,
              "#f0f921"
             ]
            ],
            "type": "heatmapgl"
           }
          ],
          "histogram": [
           {
            "marker": {
             "pattern": {
              "fillmode": "overlay",
              "size": 10,
              "solidity": 0.2
             }
            },
            "type": "histogram"
           }
          ],
          "histogram2d": [
           {
            "colorbar": {
             "outlinewidth": 0,
             "ticks": ""
            },
            "colorscale": [
             [
              0,
              "#0d0887"
             ],
             [
              0.1111111111111111,
              "#46039f"
             ],
             [
              0.2222222222222222,
              "#7201a8"
             ],
             [
              0.3333333333333333,
              "#9c179e"
             ],
             [
              0.4444444444444444,
              "#bd3786"
             ],
             [
              0.5555555555555556,
              "#d8576b"
             ],
             [
              0.6666666666666666,
              "#ed7953"
             ],
             [
              0.7777777777777778,
              "#fb9f3a"
             ],
             [
              0.8888888888888888,
              "#fdca26"
             ],
             [
              1,
              "#f0f921"
             ]
            ],
            "type": "histogram2d"
           }
          ],
          "histogram2dcontour": [
           {
            "colorbar": {
             "outlinewidth": 0,
             "ticks": ""
            },
            "colorscale": [
             [
              0,
              "#0d0887"
             ],
             [
              0.1111111111111111,
              "#46039f"
             ],
             [
              0.2222222222222222,
              "#7201a8"
             ],
             [
              0.3333333333333333,
              "#9c179e"
             ],
             [
              0.4444444444444444,
              "#bd3786"
             ],
             [
              0.5555555555555556,
              "#d8576b"
             ],
             [
              0.6666666666666666,
              "#ed7953"
             ],
             [
              0.7777777777777778,
              "#fb9f3a"
             ],
             [
              0.8888888888888888,
              "#fdca26"
             ],
             [
              1,
              "#f0f921"
             ]
            ],
            "type": "histogram2dcontour"
           }
          ],
          "mesh3d": [
           {
            "colorbar": {
             "outlinewidth": 0,
             "ticks": ""
            },
            "type": "mesh3d"
           }
          ],
          "parcoords": [
           {
            "line": {
             "colorbar": {
              "outlinewidth": 0,
              "ticks": ""
             }
            },
            "type": "parcoords"
           }
          ],
          "pie": [
           {
            "automargin": true,
            "type": "pie"
           }
          ],
          "scatter": [
           {
            "fillpattern": {
             "fillmode": "overlay",
             "size": 10,
             "solidity": 0.2
            },
            "type": "scatter"
           }
          ],
          "scatter3d": [
           {
            "line": {
             "colorbar": {
              "outlinewidth": 0,
              "ticks": ""
             }
            },
            "marker": {
             "colorbar": {
              "outlinewidth": 0,
              "ticks": ""
             }
            },
            "type": "scatter3d"
           }
          ],
          "scattercarpet": [
           {
            "marker": {
             "colorbar": {
              "outlinewidth": 0,
              "ticks": ""
             }
            },
            "type": "scattercarpet"
           }
          ],
          "scattergeo": [
           {
            "marker": {
             "colorbar": {
              "outlinewidth": 0,
              "ticks": ""
             }
            },
            "type": "scattergeo"
           }
          ],
          "scattergl": [
           {
            "marker": {
             "colorbar": {
              "outlinewidth": 0,
              "ticks": ""
             }
            },
            "type": "scattergl"
           }
          ],
          "scattermapbox": [
           {
            "marker": {
             "colorbar": {
              "outlinewidth": 0,
              "ticks": ""
             }
            },
            "type": "scattermapbox"
           }
          ],
          "scatterpolar": [
           {
            "marker": {
             "colorbar": {
              "outlinewidth": 0,
              "ticks": ""
             }
            },
            "type": "scatterpolar"
           }
          ],
          "scatterpolargl": [
           {
            "marker": {
             "colorbar": {
              "outlinewidth": 0,
              "ticks": ""
             }
            },
            "type": "scatterpolargl"
           }
          ],
          "scatterternary": [
           {
            "marker": {
             "colorbar": {
              "outlinewidth": 0,
              "ticks": ""
             }
            },
            "type": "scatterternary"
           }
          ],
          "surface": [
           {
            "colorbar": {
             "outlinewidth": 0,
             "ticks": ""
            },
            "colorscale": [
             [
              0,
              "#0d0887"
             ],
             [
              0.1111111111111111,
              "#46039f"
             ],
             [
              0.2222222222222222,
              "#7201a8"
             ],
             [
              0.3333333333333333,
              "#9c179e"
             ],
             [
              0.4444444444444444,
              "#bd3786"
             ],
             [
              0.5555555555555556,
              "#d8576b"
             ],
             [
              0.6666666666666666,
              "#ed7953"
             ],
             [
              0.7777777777777778,
              "#fb9f3a"
             ],
             [
              0.8888888888888888,
              "#fdca26"
             ],
             [
              1,
              "#f0f921"
             ]
            ],
            "type": "surface"
           }
          ],
          "table": [
           {
            "cells": {
             "fill": {
              "color": "#EBF0F8"
             },
             "line": {
              "color": "white"
             }
            },
            "header": {
             "fill": {
              "color": "#C8D4E3"
             },
             "line": {
              "color": "white"
             }
            },
            "type": "table"
           }
          ]
         },
         "layout": {
          "annotationdefaults": {
           "arrowcolor": "#2a3f5f",
           "arrowhead": 0,
           "arrowwidth": 1
          },
          "autotypenumbers": "strict",
          "coloraxis": {
           "colorbar": {
            "outlinewidth": 0,
            "ticks": ""
           }
          },
          "colorscale": {
           "diverging": [
            [
             0,
             "#8e0152"
            ],
            [
             0.1,
             "#c51b7d"
            ],
            [
             0.2,
             "#de77ae"
            ],
            [
             0.3,
             "#f1b6da"
            ],
            [
             0.4,
             "#fde0ef"
            ],
            [
             0.5,
             "#f7f7f7"
            ],
            [
             0.6,
             "#e6f5d0"
            ],
            [
             0.7,
             "#b8e186"
            ],
            [
             0.8,
             "#7fbc41"
            ],
            [
             0.9,
             "#4d9221"
            ],
            [
             1,
             "#276419"
            ]
           ],
           "sequential": [
            [
             0,
             "#0d0887"
            ],
            [
             0.1111111111111111,
             "#46039f"
            ],
            [
             0.2222222222222222,
             "#7201a8"
            ],
            [
             0.3333333333333333,
             "#9c179e"
            ],
            [
             0.4444444444444444,
             "#bd3786"
            ],
            [
             0.5555555555555556,
             "#d8576b"
            ],
            [
             0.6666666666666666,
             "#ed7953"
            ],
            [
             0.7777777777777778,
             "#fb9f3a"
            ],
            [
             0.8888888888888888,
             "#fdca26"
            ],
            [
             1,
             "#f0f921"
            ]
           ],
           "sequentialminus": [
            [
             0,
             "#0d0887"
            ],
            [
             0.1111111111111111,
             "#46039f"
            ],
            [
             0.2222222222222222,
             "#7201a8"
            ],
            [
             0.3333333333333333,
             "#9c179e"
            ],
            [
             0.4444444444444444,
             "#bd3786"
            ],
            [
             0.5555555555555556,
             "#d8576b"
            ],
            [
             0.6666666666666666,
             "#ed7953"
            ],
            [
             0.7777777777777778,
             "#fb9f3a"
            ],
            [
             0.8888888888888888,
             "#fdca26"
            ],
            [
             1,
             "#f0f921"
            ]
           ]
          },
          "colorway": [
           "#636efa",
           "#EF553B",
           "#00cc96",
           "#ab63fa",
           "#FFA15A",
           "#19d3f3",
           "#FF6692",
           "#B6E880",
           "#FF97FF",
           "#FECB52"
          ],
          "font": {
           "color": "#2a3f5f"
          },
          "geo": {
           "bgcolor": "white",
           "lakecolor": "white",
           "landcolor": "#E5ECF6",
           "showlakes": true,
           "showland": true,
           "subunitcolor": "white"
          },
          "hoverlabel": {
           "align": "left"
          },
          "hovermode": "closest",
          "mapbox": {
           "style": "light"
          },
          "paper_bgcolor": "white",
          "plot_bgcolor": "#E5ECF6",
          "polar": {
           "angularaxis": {
            "gridcolor": "white",
            "linecolor": "white",
            "ticks": ""
           },
           "bgcolor": "#E5ECF6",
           "radialaxis": {
            "gridcolor": "white",
            "linecolor": "white",
            "ticks": ""
           }
          },
          "scene": {
           "xaxis": {
            "backgroundcolor": "#E5ECF6",
            "gridcolor": "white",
            "gridwidth": 2,
            "linecolor": "white",
            "showbackground": true,
            "ticks": "",
            "zerolinecolor": "white"
           },
           "yaxis": {
            "backgroundcolor": "#E5ECF6",
            "gridcolor": "white",
            "gridwidth": 2,
            "linecolor": "white",
            "showbackground": true,
            "ticks": "",
            "zerolinecolor": "white"
           },
           "zaxis": {
            "backgroundcolor": "#E5ECF6",
            "gridcolor": "white",
            "gridwidth": 2,
            "linecolor": "white",
            "showbackground": true,
            "ticks": "",
            "zerolinecolor": "white"
           }
          },
          "shapedefaults": {
           "line": {
            "color": "#2a3f5f"
           }
          },
          "ternary": {
           "aaxis": {
            "gridcolor": "white",
            "linecolor": "white",
            "ticks": ""
           },
           "baxis": {
            "gridcolor": "white",
            "linecolor": "white",
            "ticks": ""
           },
           "bgcolor": "#E5ECF6",
           "caxis": {
            "gridcolor": "white",
            "linecolor": "white",
            "ticks": ""
           }
          },
          "title": {
           "x": 0.05
          },
          "xaxis": {
           "automargin": true,
           "gridcolor": "white",
           "linecolor": "white",
           "ticks": "",
           "title": {
            "standoff": 15
           },
           "zerolinecolor": "white",
           "zerolinewidth": 2
          },
          "yaxis": {
           "automargin": true,
           "gridcolor": "white",
           "linecolor": "white",
           "ticks": "",
           "title": {
            "standoff": 15
           },
           "zerolinecolor": "white",
           "zerolinewidth": 2
          }
         }
        },
        "title": {
         "text": "Average Number Injured by Involved Party"
        },
        "xaxis": {
         "anchor": "y",
         "categoryarray": [
          "PEDESTRIAN",
          "BICYCLE",
          "MOTOR VEHICLE ON OTHER ROADWAY",
          "NON-COLLISION",
          "TRAIN",
          "OTHER MOTOR VEHICLE",
          "FIXED OBJECT",
          "OTHER OBJECT",
          "PARKED MOTOR VEHICLE",
          "ANIMAL"
         ],
         "categoryorder": "array",
         "domain": [
          0,
          1
         ],
         "title": {
          "text": "Involved Party"
         }
        },
        "yaxis": {
         "anchor": "x",
         "domain": [
          0,
          1
         ],
         "title": {
          "text": "Average Number Injured"
         }
        }
       }
      }
     },
     "metadata": {},
     "output_type": "display_data"
    }
   ],
   "source": [
    "# Average number of injuries per involved party type\n",
    "avg_injured_involved_party = (\n",
    "    crashes_bx.groupby('Motorvehicleinvolvedwithdesc')['Numberinjured']\n",
    "    .mean()\n",
    "    .sort_values(ascending=False)\n",
    "    .reset_index()\n",
    "    .rename(columns={'Motorvehicleinvolvedwithdesc': 'Involved Party',\n",
    "                     'Numberinjured': 'Avg Injured'})\n",
    ")\n",
    "\n",
    "# Bar chart of average injuries by involved party type\n",
    "fig = px.bar(\n",
    "    avg_injured_involved_party,\n",
    "    x = 'Involved Party',\n",
    "    y = 'Avg Injured',\n",
    "    title = 'Average Number Injured by Involved Party',\n",
    "    text = 'Avg Injured',\n",
    "    color = 'Involved Party',\n",
    "    category_orders={'Involved Party': color_order},\n",
    ")\n",
    "\n",
    "# Format text labels and axis\n",
    "fig.update_traces(texttemplate='%{text:.2f}')\n",
    "fig.update_layout(\n",
    "    xaxis_title = 'Involved Party',\n",
    "    yaxis_title = 'Average Number Injured',\n",
    "    showlegend=False,\n",
    "    xaxis={'categoryorder': 'array', 'categoryarray': avg_injured_involved_party['Involved Party']}\n",
    "\n",
    ")\n",
    "\n",
    "fig.show()"
   ]
  },
  {
   "cell_type": "markdown",
   "id": "c45263ae",
   "metadata": {},
   "source": [
    "Pedestrians and bicycles account for the two highest average numbers of injuries per collision.  \n",
    "\n",
    "In contrast, fixed objects, other objects, and parked motor vehicles — which were among the most common involved party types — fall into the bottom four for average injuries.  "
   ]
  },
  {
   "cell_type": "code",
   "execution_count": null,
   "id": "602ceac4",
   "metadata": {},
   "outputs": [
    {
     "data": {
      "text/html": [
       "<div>\n",
       "<style scoped>\n",
       "    .dataframe tbody tr th:only-of-type {\n",
       "        vertical-align: middle;\n",
       "    }\n",
       "\n",
       "    .dataframe tbody tr th {\n",
       "        vertical-align: top;\n",
       "    }\n",
       "\n",
       "    .dataframe thead th {\n",
       "        text-align: right;\n",
       "    }\n",
       "</style>\n",
       "<table border=\"1\" class=\"dataframe\">\n",
       "  <thead>\n",
       "    <tr style=\"text-align: right;\">\n",
       "      <th></th>\n",
       "      <th>Avg Injured</th>\n",
       "    </tr>\n",
       "    <tr>\n",
       "      <th>Motorvehicleinvolvedwithdesc</th>\n",
       "      <th></th>\n",
       "    </tr>\n",
       "  </thead>\n",
       "  <tbody>\n",
       "    <tr>\n",
       "      <th>PEDESTRIAN</th>\n",
       "      <td>0.97</td>\n",
       "    </tr>\n",
       "    <tr>\n",
       "      <th>BICYCLE</th>\n",
       "      <td>0.91</td>\n",
       "    </tr>\n",
       "    <tr>\n",
       "      <th>MOTOR VEHICLE ON OTHER ROADWAY</th>\n",
       "      <td>0.81</td>\n",
       "    </tr>\n",
       "    <tr>\n",
       "      <th>NON-COLLISION</th>\n",
       "      <td>0.75</td>\n",
       "    </tr>\n",
       "    <tr>\n",
       "      <th>TRAIN</th>\n",
       "      <td>0.75</td>\n",
       "    </tr>\n",
       "    <tr>\n",
       "      <th>OTHER MOTOR VEHICLE</th>\n",
       "      <td>0.64</td>\n",
       "    </tr>\n",
       "    <tr>\n",
       "      <th>FIXED OBJECT</th>\n",
       "      <td>0.39</td>\n",
       "    </tr>\n",
       "    <tr>\n",
       "      <th>OTHER OBJECT</th>\n",
       "      <td>0.27</td>\n",
       "    </tr>\n",
       "    <tr>\n",
       "      <th>PARKED MOTOR VEHICLE</th>\n",
       "      <td>0.19</td>\n",
       "    </tr>\n",
       "    <tr>\n",
       "      <th>ANIMAL</th>\n",
       "      <td>0.17</td>\n",
       "    </tr>\n",
       "  </tbody>\n",
       "</table>\n",
       "</div>"
      ],
      "text/plain": [
       "                                Avg Injured\n",
       "Motorvehicleinvolvedwithdesc               \n",
       "PEDESTRIAN                             0.97\n",
       "BICYCLE                                0.91\n",
       "MOTOR VEHICLE ON OTHER ROADWAY         0.81\n",
       "NON-COLLISION                          0.75\n",
       "TRAIN                                  0.75\n",
       "OTHER MOTOR VEHICLE                    0.64\n",
       "FIXED OBJECT                           0.39\n",
       "OTHER OBJECT                           0.27\n",
       "PARKED MOTOR VEHICLE                   0.19\n",
       "ANIMAL                                 0.17"
      ]
     },
     "execution_count": 20,
     "metadata": {},
     "output_type": "execute_result"
    }
   ],
   "source": [
    "# Create summary table of average injuries by involved party type\n",
    "avg_injured_involved_party_table = (\n",
    "    crashes_bx\n",
    "    .pivot_table(\n",
    "        index='Motorvehicleinvolvedwithdesc',\n",
    "        values='Numberinjured',\n",
    "        aggfunc='mean'\n",
    "    )\n",
    "    .fillna(0)\n",
    "    .rename(columns={'Numberinjured': 'Avg Injured'})\n",
    "    .sort_values('Avg Injured', ascending=False)\n",
    "\n",
    ")\n",
    "\n",
    "avg_injured_involved_party_table.columns = ['Avg Injured']\n",
    "\n",
    "avg_injured_involved_party_table"
   ]
  },
  {
   "cell_type": "code",
   "execution_count": 47,
   "id": "d302cd24",
   "metadata": {},
   "outputs": [
    {
     "data": {
      "text/html": [
       "<div>\n",
       "<style scoped>\n",
       "    .dataframe tbody tr th:only-of-type {\n",
       "        vertical-align: middle;\n",
       "    }\n",
       "\n",
       "    .dataframe tbody tr th {\n",
       "        vertical-align: top;\n",
       "    }\n",
       "\n",
       "    .dataframe thead th {\n",
       "        text-align: right;\n",
       "    }\n",
       "</style>\n",
       "<table border=\"1\" class=\"dataframe\">\n",
       "  <thead>\n",
       "    <tr style=\"text-align: right;\">\n",
       "      <th></th>\n",
       "      <th>Involved Party</th>\n",
       "      <th>Avg Injured</th>\n",
       "      <th>Num Collisions</th>\n",
       "    </tr>\n",
       "  </thead>\n",
       "  <tbody>\n",
       "    <tr>\n",
       "      <th>0</th>\n",
       "      <td>PEDESTRIAN</td>\n",
       "      <td>0.97</td>\n",
       "      <td>5191</td>\n",
       "    </tr>\n",
       "    <tr>\n",
       "      <th>1</th>\n",
       "      <td>BICYCLE</td>\n",
       "      <td>0.91</td>\n",
       "      <td>4335</td>\n",
       "    </tr>\n",
       "    <tr>\n",
       "      <th>2</th>\n",
       "      <td>MOTOR VEHICLE ON OTHER ROADWAY</td>\n",
       "      <td>0.81</td>\n",
       "      <td>1688</td>\n",
       "    </tr>\n",
       "    <tr>\n",
       "      <th>3</th>\n",
       "      <td>NON-COLLISION</td>\n",
       "      <td>0.75</td>\n",
       "      <td>4305</td>\n",
       "    </tr>\n",
       "    <tr>\n",
       "      <th>4</th>\n",
       "      <td>TRAIN</td>\n",
       "      <td>0.75</td>\n",
       "      <td>63</td>\n",
       "    </tr>\n",
       "  </tbody>\n",
       "</table>\n",
       "</div>"
      ],
      "text/plain": [
       "                   Involved Party  Avg Injured  Num Collisions\n",
       "0                      PEDESTRIAN         0.97            5191\n",
       "1                         BICYCLE         0.91            4335\n",
       "2  MOTOR VEHICLE ON OTHER ROADWAY         0.81            1688\n",
       "3                   NON-COLLISION         0.75            4305\n",
       "4                           TRAIN         0.75              63"
      ]
     },
     "execution_count": 47,
     "metadata": {},
     "output_type": "execute_result"
    }
   ],
   "source": [
    "# Combine collision counts with average injuries by involved party type\n",
    "\n",
    "# Collision count per involved party \n",
    "num_involved_type = (\n",
    "    crashes_bx['Motorvehicleinvolvedwithdesc']\n",
    "    .value_counts()\n",
    "    .reset_index(name='Num Collisions')\n",
    "    .rename(columns={\n",
    "        'Motorvehicleinvolvedwithdesc' : 'Involved Party'})\n",
    ")\n",
    "\n",
    "# Merge with avg injuries table \n",
    "involved_type = avg_injured_involved_party.merge(num_involved_type, on='Involved Party')\n",
    "\n",
    "involved_type.head()"
   ]
  },
  {
   "cell_type": "code",
   "execution_count": 49,
   "id": "6cd8f20d",
   "metadata": {},
   "outputs": [
    {
     "data": {
      "text/html": [
       "<div>\n",
       "<style scoped>\n",
       "    .dataframe tbody tr th:only-of-type {\n",
       "        vertical-align: middle;\n",
       "    }\n",
       "\n",
       "    .dataframe tbody tr th {\n",
       "        vertical-align: top;\n",
       "    }\n",
       "\n",
       "    .dataframe thead th {\n",
       "        text-align: right;\n",
       "    }\n",
       "</style>\n",
       "<table border=\"1\" class=\"dataframe\">\n",
       "  <thead>\n",
       "    <tr style=\"text-align: right;\">\n",
       "      <th></th>\n",
       "      <th>Involved Party</th>\n",
       "      <th>Avg Injured</th>\n",
       "      <th>Num Collisions</th>\n",
       "    </tr>\n",
       "  </thead>\n",
       "  <tbody>\n",
       "    <tr>\n",
       "      <th>5</th>\n",
       "      <td>OTHER MOTOR VEHICLE</td>\n",
       "      <td>0.64</td>\n",
       "      <td>123962</td>\n",
       "    </tr>\n",
       "    <tr>\n",
       "      <th>6</th>\n",
       "      <td>FIXED OBJECT</td>\n",
       "      <td>0.39</td>\n",
       "      <td>32969</td>\n",
       "    </tr>\n",
       "    <tr>\n",
       "      <th>8</th>\n",
       "      <td>PARKED MOTOR VEHICLE</td>\n",
       "      <td>0.19</td>\n",
       "      <td>16106</td>\n",
       "    </tr>\n",
       "    <tr>\n",
       "      <th>7</th>\n",
       "      <td>OTHER OBJECT</td>\n",
       "      <td>0.27</td>\n",
       "      <td>5404</td>\n",
       "    </tr>\n",
       "    <tr>\n",
       "      <th>0</th>\n",
       "      <td>PEDESTRIAN</td>\n",
       "      <td>0.97</td>\n",
       "      <td>5191</td>\n",
       "    </tr>\n",
       "  </tbody>\n",
       "</table>\n",
       "</div>"
      ],
      "text/plain": [
       "         Involved Party  Avg Injured  Num Collisions\n",
       "5   OTHER MOTOR VEHICLE         0.64          123962\n",
       "6          FIXED OBJECT         0.39           32969\n",
       "8  PARKED MOTOR VEHICLE         0.19           16106\n",
       "7          OTHER OBJECT         0.27            5404\n",
       "0            PEDESTRIAN         0.97            5191"
      ]
     },
     "execution_count": 49,
     "metadata": {},
     "output_type": "execute_result"
    }
   ],
   "source": [
    "# Top involved party types by number of collisions\n",
    "involved_type.sort_values(ascending=False, by='Num Collisions').head()"
   ]
  },
  {
   "cell_type": "code",
   "execution_count": 50,
   "id": "eefb1e0f",
   "metadata": {},
   "outputs": [
    {
     "data": {
      "application/vnd.plotly.v1+json": {
       "config": {
        "plotlyServerURL": "https://plot.ly"
       },
       "data": [
        {
         "hovertemplate": "<b>%{hovertext}</b><br><br>Involved Party=OTHER MOTOR VEHICLE<br>Num Collisions=%{marker.size}<br>Avg Injured=%{y}<extra></extra>",
         "hovertext": [
          "OTHER MOTOR VEHICLE"
         ],
         "legendgroup": "OTHER MOTOR VEHICLE",
         "marker": {
          "color": "#636efa",
          "size": [
           123962
          ],
          "sizemode": "area",
          "sizeref": 12.3962,
          "symbol": "circle"
         },
         "mode": "markers",
         "name": "OTHER MOTOR VEHICLE",
         "orientation": "v",
         "showlegend": true,
         "type": "scatter",
         "x": [
          123962
         ],
         "xaxis": "x",
         "y": [
          0.6350449221430243
         ],
         "yaxis": "y"
        },
        {
         "hovertemplate": "<b>%{hovertext}</b><br><br>Involved Party=OTHER OBJECT<br>Num Collisions=%{marker.size}<br>Avg Injured=%{y}<extra></extra>",
         "hovertext": [
          "OTHER OBJECT"
         ],
         "legendgroup": "OTHER OBJECT",
         "marker": {
          "color": "#EF553B",
          "size": [
           5404
          ],
          "sizemode": "area",
          "sizeref": 12.3962,
          "symbol": "circle"
         },
         "mode": "markers",
         "name": "OTHER OBJECT",
         "orientation": "v",
         "showlegend": true,
         "type": "scatter",
         "x": [
          5404
         ],
         "xaxis": "x",
         "y": [
          0.27245786256714205
         ],
         "yaxis": "y"
        },
        {
         "hovertemplate": "<b>%{hovertext}</b><br><br>Involved Party=FIXED OBJECT<br>Num Collisions=%{marker.size}<br>Avg Injured=%{y}<extra></extra>",
         "hovertext": [
          "FIXED OBJECT"
         ],
         "legendgroup": "FIXED OBJECT",
         "marker": {
          "color": "#00cc96",
          "size": [
           32969
          ],
          "sizemode": "area",
          "sizeref": 12.3962,
          "symbol": "circle"
         },
         "mode": "markers",
         "name": "FIXED OBJECT",
         "orientation": "v",
         "showlegend": true,
         "type": "scatter",
         "x": [
          32969
         ],
         "xaxis": "x",
         "y": [
          0.39047416671726065
         ],
         "yaxis": "y"
        },
        {
         "hovertemplate": "<b>%{hovertext}</b><br><br>Involved Party=PARKED MOTOR VEHICLE<br>Num Collisions=%{marker.size}<br>Avg Injured=%{y}<extra></extra>",
         "hovertext": [
          "PARKED MOTOR VEHICLE"
         ],
         "legendgroup": "PARKED MOTOR VEHICLE",
         "marker": {
          "color": "#ab63fa",
          "size": [
           16106
          ],
          "sizemode": "area",
          "sizeref": 12.3962,
          "symbol": "circle"
         },
         "mode": "markers",
         "name": "PARKED MOTOR VEHICLE",
         "orientation": "v",
         "showlegend": true,
         "type": "scatter",
         "x": [
          16106
         ],
         "xaxis": "x",
         "y": [
          0.18679950186799502
         ],
         "yaxis": "y"
        },
        {
         "hovertemplate": "<b>%{hovertext}</b><br><br>Involved Party=NON-COLLISION<br>Num Collisions=%{marker.size}<br>Avg Injured=%{y}<extra></extra>",
         "hovertext": [
          "NON-COLLISION"
         ],
         "legendgroup": "NON-COLLISION",
         "marker": {
          "color": "#FFA15A",
          "size": [
           4305
          ],
          "sizemode": "area",
          "sizeref": 12.3962,
          "symbol": "circle"
         },
         "mode": "markers",
         "name": "NON-COLLISION",
         "orientation": "v",
         "showlegend": true,
         "type": "scatter",
         "x": [
          4305
         ],
         "xaxis": "x",
         "y": [
          0.7495934959349594
         ],
         "yaxis": "y"
        },
        {
         "hovertemplate": "<b>%{hovertext}</b><br><br>Involved Party=BICYCLE<br>Num Collisions=%{marker.size}<br>Avg Injured=%{y}<extra></extra>",
         "hovertext": [
          "BICYCLE"
         ],
         "legendgroup": "BICYCLE",
         "marker": {
          "color": "#19d3f3",
          "size": [
           4335
          ],
          "sizemode": "area",
          "sizeref": 12.3962,
          "symbol": "circle"
         },
         "mode": "markers",
         "name": "BICYCLE",
         "orientation": "v",
         "showlegend": true,
         "type": "scatter",
         "x": [
          4335
         ],
         "xaxis": "x",
         "y": [
          0.9136856681283175
         ],
         "yaxis": "y"
        },
        {
         "hovertemplate": "<b>%{hovertext}</b><br><br>Involved Party=PEDESTRIAN<br>Num Collisions=%{marker.size}<br>Avg Injured=%{y}<extra></extra>",
         "hovertext": [
          "PEDESTRIAN"
         ],
         "legendgroup": "PEDESTRIAN",
         "marker": {
          "color": "#FF6692",
          "size": [
           5191
          ],
          "sizemode": "area",
          "sizeref": 12.3962,
          "symbol": "circle"
         },
         "mode": "markers",
         "name": "PEDESTRIAN",
         "orientation": "v",
         "showlegend": true,
         "type": "scatter",
         "x": [
          5191
         ],
         "xaxis": "x",
         "y": [
          0.9685873964154943
         ],
         "yaxis": "y"
        },
        {
         "hovertemplate": "<b>%{hovertext}</b><br><br>Involved Party=ANIMAL<br>Num Collisions=%{marker.size}<br>Avg Injured=%{y}<extra></extra>",
         "hovertext": [
          "ANIMAL"
         ],
         "legendgroup": "ANIMAL",
         "marker": {
          "color": "#B6E880",
          "size": [
           1128
          ],
          "sizemode": "area",
          "sizeref": 12.3962,
          "symbol": "circle"
         },
         "mode": "markers",
         "name": "ANIMAL",
         "orientation": "v",
         "showlegend": true,
         "type": "scatter",
         "x": [
          1128
         ],
         "xaxis": "x",
         "y": [
          0.16578014184397163
         ],
         "yaxis": "y"
        },
        {
         "hovertemplate": "<b>%{hovertext}</b><br><br>Involved Party=MOTOR VEHICLE ON OTHER ROADWAY<br>Num Collisions=%{marker.size}<br>Avg Injured=%{y}<extra></extra>",
         "hovertext": [
          "MOTOR VEHICLE ON OTHER ROADWAY"
         ],
         "legendgroup": "MOTOR VEHICLE ON OTHER ROADWAY",
         "marker": {
          "color": "#FF97FF",
          "size": [
           1688
          ],
          "sizemode": "area",
          "sizeref": 12.3962,
          "symbol": "circle"
         },
         "mode": "markers",
         "name": "MOTOR VEHICLE ON OTHER ROADWAY",
         "orientation": "v",
         "showlegend": true,
         "type": "scatter",
         "x": [
          1688
         ],
         "xaxis": "x",
         "y": [
          0.8099762470308789
         ],
         "yaxis": "y"
        },
        {
         "hovertemplate": "<b>%{hovertext}</b><br><br>Involved Party=TRAIN<br>Num Collisions=%{marker.size}<br>Avg Injured=%{y}<extra></extra>",
         "hovertext": [
          "TRAIN"
         ],
         "legendgroup": "TRAIN",
         "marker": {
          "color": "#636efa",
          "size": [
           63
          ],
          "sizemode": "area",
          "sizeref": 12.3962,
          "symbol": "circle"
         },
         "mode": "markers",
         "name": "TRAIN",
         "orientation": "v",
         "showlegend": true,
         "type": "scatter",
         "x": [
          63
         ],
         "xaxis": "x",
         "y": [
          0.746031746031746
         ],
         "yaxis": "y"
        }
       ],
       "layout": {
        "height": 500,
        "legend": {
         "itemsizing": "constant",
         "title": {
          "text": "Involved Party"
         },
         "tracegroupgap": 0
        },
        "template": {
         "data": {
          "bar": [
           {
            "error_x": {
             "color": "#2a3f5f"
            },
            "error_y": {
             "color": "#2a3f5f"
            },
            "marker": {
             "line": {
              "color": "#E5ECF6",
              "width": 0.5
             },
             "pattern": {
              "fillmode": "overlay",
              "size": 10,
              "solidity": 0.2
             }
            },
            "type": "bar"
           }
          ],
          "barpolar": [
           {
            "marker": {
             "line": {
              "color": "#E5ECF6",
              "width": 0.5
             },
             "pattern": {
              "fillmode": "overlay",
              "size": 10,
              "solidity": 0.2
             }
            },
            "type": "barpolar"
           }
          ],
          "carpet": [
           {
            "aaxis": {
             "endlinecolor": "#2a3f5f",
             "gridcolor": "white",
             "linecolor": "white",
             "minorgridcolor": "white",
             "startlinecolor": "#2a3f5f"
            },
            "baxis": {
             "endlinecolor": "#2a3f5f",
             "gridcolor": "white",
             "linecolor": "white",
             "minorgridcolor": "white",
             "startlinecolor": "#2a3f5f"
            },
            "type": "carpet"
           }
          ],
          "choropleth": [
           {
            "colorbar": {
             "outlinewidth": 0,
             "ticks": ""
            },
            "type": "choropleth"
           }
          ],
          "contour": [
           {
            "colorbar": {
             "outlinewidth": 0,
             "ticks": ""
            },
            "colorscale": [
             [
              0,
              "#0d0887"
             ],
             [
              0.1111111111111111,
              "#46039f"
             ],
             [
              0.2222222222222222,
              "#7201a8"
             ],
             [
              0.3333333333333333,
              "#9c179e"
             ],
             [
              0.4444444444444444,
              "#bd3786"
             ],
             [
              0.5555555555555556,
              "#d8576b"
             ],
             [
              0.6666666666666666,
              "#ed7953"
             ],
             [
              0.7777777777777778,
              "#fb9f3a"
             ],
             [
              0.8888888888888888,
              "#fdca26"
             ],
             [
              1,
              "#f0f921"
             ]
            ],
            "type": "contour"
           }
          ],
          "contourcarpet": [
           {
            "colorbar": {
             "outlinewidth": 0,
             "ticks": ""
            },
            "type": "contourcarpet"
           }
          ],
          "heatmap": [
           {
            "colorbar": {
             "outlinewidth": 0,
             "ticks": ""
            },
            "colorscale": [
             [
              0,
              "#0d0887"
             ],
             [
              0.1111111111111111,
              "#46039f"
             ],
             [
              0.2222222222222222,
              "#7201a8"
             ],
             [
              0.3333333333333333,
              "#9c179e"
             ],
             [
              0.4444444444444444,
              "#bd3786"
             ],
             [
              0.5555555555555556,
              "#d8576b"
             ],
             [
              0.6666666666666666,
              "#ed7953"
             ],
             [
              0.7777777777777778,
              "#fb9f3a"
             ],
             [
              0.8888888888888888,
              "#fdca26"
             ],
             [
              1,
              "#f0f921"
             ]
            ],
            "type": "heatmap"
           }
          ],
          "heatmapgl": [
           {
            "colorbar": {
             "outlinewidth": 0,
             "ticks": ""
            },
            "colorscale": [
             [
              0,
              "#0d0887"
             ],
             [
              0.1111111111111111,
              "#46039f"
             ],
             [
              0.2222222222222222,
              "#7201a8"
             ],
             [
              0.3333333333333333,
              "#9c179e"
             ],
             [
              0.4444444444444444,
              "#bd3786"
             ],
             [
              0.5555555555555556,
              "#d8576b"
             ],
             [
              0.6666666666666666,
              "#ed7953"
             ],
             [
              0.7777777777777778,
              "#fb9f3a"
             ],
             [
              0.8888888888888888,
              "#fdca26"
             ],
             [
              1,
              "#f0f921"
             ]
            ],
            "type": "heatmapgl"
           }
          ],
          "histogram": [
           {
            "marker": {
             "pattern": {
              "fillmode": "overlay",
              "size": 10,
              "solidity": 0.2
             }
            },
            "type": "histogram"
           }
          ],
          "histogram2d": [
           {
            "colorbar": {
             "outlinewidth": 0,
             "ticks": ""
            },
            "colorscale": [
             [
              0,
              "#0d0887"
             ],
             [
              0.1111111111111111,
              "#46039f"
             ],
             [
              0.2222222222222222,
              "#7201a8"
             ],
             [
              0.3333333333333333,
              "#9c179e"
             ],
             [
              0.4444444444444444,
              "#bd3786"
             ],
             [
              0.5555555555555556,
              "#d8576b"
             ],
             [
              0.6666666666666666,
              "#ed7953"
             ],
             [
              0.7777777777777778,
              "#fb9f3a"
             ],
             [
              0.8888888888888888,
              "#fdca26"
             ],
             [
              1,
              "#f0f921"
             ]
            ],
            "type": "histogram2d"
           }
          ],
          "histogram2dcontour": [
           {
            "colorbar": {
             "outlinewidth": 0,
             "ticks": ""
            },
            "colorscale": [
             [
              0,
              "#0d0887"
             ],
             [
              0.1111111111111111,
              "#46039f"
             ],
             [
              0.2222222222222222,
              "#7201a8"
             ],
             [
              0.3333333333333333,
              "#9c179e"
             ],
             [
              0.4444444444444444,
              "#bd3786"
             ],
             [
              0.5555555555555556,
              "#d8576b"
             ],
             [
              0.6666666666666666,
              "#ed7953"
             ],
             [
              0.7777777777777778,
              "#fb9f3a"
             ],
             [
              0.8888888888888888,
              "#fdca26"
             ],
             [
              1,
              "#f0f921"
             ]
            ],
            "type": "histogram2dcontour"
           }
          ],
          "mesh3d": [
           {
            "colorbar": {
             "outlinewidth": 0,
             "ticks": ""
            },
            "type": "mesh3d"
           }
          ],
          "parcoords": [
           {
            "line": {
             "colorbar": {
              "outlinewidth": 0,
              "ticks": ""
             }
            },
            "type": "parcoords"
           }
          ],
          "pie": [
           {
            "automargin": true,
            "type": "pie"
           }
          ],
          "scatter": [
           {
            "fillpattern": {
             "fillmode": "overlay",
             "size": 10,
             "solidity": 0.2
            },
            "type": "scatter"
           }
          ],
          "scatter3d": [
           {
            "line": {
             "colorbar": {
              "outlinewidth": 0,
              "ticks": ""
             }
            },
            "marker": {
             "colorbar": {
              "outlinewidth": 0,
              "ticks": ""
             }
            },
            "type": "scatter3d"
           }
          ],
          "scattercarpet": [
           {
            "marker": {
             "colorbar": {
              "outlinewidth": 0,
              "ticks": ""
             }
            },
            "type": "scattercarpet"
           }
          ],
          "scattergeo": [
           {
            "marker": {
             "colorbar": {
              "outlinewidth": 0,
              "ticks": ""
             }
            },
            "type": "scattergeo"
           }
          ],
          "scattergl": [
           {
            "marker": {
             "colorbar": {
              "outlinewidth": 0,
              "ticks": ""
             }
            },
            "type": "scattergl"
           }
          ],
          "scattermapbox": [
           {
            "marker": {
             "colorbar": {
              "outlinewidth": 0,
              "ticks": ""
             }
            },
            "type": "scattermapbox"
           }
          ],
          "scatterpolar": [
           {
            "marker": {
             "colorbar": {
              "outlinewidth": 0,
              "ticks": ""
             }
            },
            "type": "scatterpolar"
           }
          ],
          "scatterpolargl": [
           {
            "marker": {
             "colorbar": {
              "outlinewidth": 0,
              "ticks": ""
             }
            },
            "type": "scatterpolargl"
           }
          ],
          "scatterternary": [
           {
            "marker": {
             "colorbar": {
              "outlinewidth": 0,
              "ticks": ""
             }
            },
            "type": "scatterternary"
           }
          ],
          "surface": [
           {
            "colorbar": {
             "outlinewidth": 0,
             "ticks": ""
            },
            "colorscale": [
             [
              0,
              "#0d0887"
             ],
             [
              0.1111111111111111,
              "#46039f"
             ],
             [
              0.2222222222222222,
              "#7201a8"
             ],
             [
              0.3333333333333333,
              "#9c179e"
             ],
             [
              0.4444444444444444,
              "#bd3786"
             ],
             [
              0.5555555555555556,
              "#d8576b"
             ],
             [
              0.6666666666666666,
              "#ed7953"
             ],
             [
              0.7777777777777778,
              "#fb9f3a"
             ],
             [
              0.8888888888888888,
              "#fdca26"
             ],
             [
              1,
              "#f0f921"
             ]
            ],
            "type": "surface"
           }
          ],
          "table": [
           {
            "cells": {
             "fill": {
              "color": "#EBF0F8"
             },
             "line": {
              "color": "white"
             }
            },
            "header": {
             "fill": {
              "color": "#C8D4E3"
             },
             "line": {
              "color": "white"
             }
            },
            "type": "table"
           }
          ]
         },
         "layout": {
          "annotationdefaults": {
           "arrowcolor": "#2a3f5f",
           "arrowhead": 0,
           "arrowwidth": 1
          },
          "autotypenumbers": "strict",
          "coloraxis": {
           "colorbar": {
            "outlinewidth": 0,
            "ticks": ""
           }
          },
          "colorscale": {
           "diverging": [
            [
             0,
             "#8e0152"
            ],
            [
             0.1,
             "#c51b7d"
            ],
            [
             0.2,
             "#de77ae"
            ],
            [
             0.3,
             "#f1b6da"
            ],
            [
             0.4,
             "#fde0ef"
            ],
            [
             0.5,
             "#f7f7f7"
            ],
            [
             0.6,
             "#e6f5d0"
            ],
            [
             0.7,
             "#b8e186"
            ],
            [
             0.8,
             "#7fbc41"
            ],
            [
             0.9,
             "#4d9221"
            ],
            [
             1,
             "#276419"
            ]
           ],
           "sequential": [
            [
             0,
             "#0d0887"
            ],
            [
             0.1111111111111111,
             "#46039f"
            ],
            [
             0.2222222222222222,
             "#7201a8"
            ],
            [
             0.3333333333333333,
             "#9c179e"
            ],
            [
             0.4444444444444444,
             "#bd3786"
            ],
            [
             0.5555555555555556,
             "#d8576b"
            ],
            [
             0.6666666666666666,
             "#ed7953"
            ],
            [
             0.7777777777777778,
             "#fb9f3a"
            ],
            [
             0.8888888888888888,
             "#fdca26"
            ],
            [
             1,
             "#f0f921"
            ]
           ],
           "sequentialminus": [
            [
             0,
             "#0d0887"
            ],
            [
             0.1111111111111111,
             "#46039f"
            ],
            [
             0.2222222222222222,
             "#7201a8"
            ],
            [
             0.3333333333333333,
             "#9c179e"
            ],
            [
             0.4444444444444444,
             "#bd3786"
            ],
            [
             0.5555555555555556,
             "#d8576b"
            ],
            [
             0.6666666666666666,
             "#ed7953"
            ],
            [
             0.7777777777777778,
             "#fb9f3a"
            ],
            [
             0.8888888888888888,
             "#fdca26"
            ],
            [
             1,
             "#f0f921"
            ]
           ]
          },
          "colorway": [
           "#636efa",
           "#EF553B",
           "#00cc96",
           "#ab63fa",
           "#FFA15A",
           "#19d3f3",
           "#FF6692",
           "#B6E880",
           "#FF97FF",
           "#FECB52"
          ],
          "font": {
           "color": "#2a3f5f"
          },
          "geo": {
           "bgcolor": "white",
           "lakecolor": "white",
           "landcolor": "#E5ECF6",
           "showlakes": true,
           "showland": true,
           "subunitcolor": "white"
          },
          "hoverlabel": {
           "align": "left"
          },
          "hovermode": "closest",
          "mapbox": {
           "style": "light"
          },
          "paper_bgcolor": "white",
          "plot_bgcolor": "#E5ECF6",
          "polar": {
           "angularaxis": {
            "gridcolor": "white",
            "linecolor": "white",
            "ticks": ""
           },
           "bgcolor": "#E5ECF6",
           "radialaxis": {
            "gridcolor": "white",
            "linecolor": "white",
            "ticks": ""
           }
          },
          "scene": {
           "xaxis": {
            "backgroundcolor": "#E5ECF6",
            "gridcolor": "white",
            "gridwidth": 2,
            "linecolor": "white",
            "showbackground": true,
            "ticks": "",
            "zerolinecolor": "white"
           },
           "yaxis": {
            "backgroundcolor": "#E5ECF6",
            "gridcolor": "white",
            "gridwidth": 2,
            "linecolor": "white",
            "showbackground": true,
            "ticks": "",
            "zerolinecolor": "white"
           },
           "zaxis": {
            "backgroundcolor": "#E5ECF6",
            "gridcolor": "white",
            "gridwidth": 2,
            "linecolor": "white",
            "showbackground": true,
            "ticks": "",
            "zerolinecolor": "white"
           }
          },
          "shapedefaults": {
           "line": {
            "color": "#2a3f5f"
           }
          },
          "ternary": {
           "aaxis": {
            "gridcolor": "white",
            "linecolor": "white",
            "ticks": ""
           },
           "baxis": {
            "gridcolor": "white",
            "linecolor": "white",
            "ticks": ""
           },
           "bgcolor": "#E5ECF6",
           "caxis": {
            "gridcolor": "white",
            "linecolor": "white",
            "ticks": ""
           }
          },
          "title": {
           "x": 0.05
          },
          "xaxis": {
           "automargin": true,
           "gridcolor": "white",
           "linecolor": "white",
           "ticks": "",
           "title": {
            "standoff": 15
           },
           "zerolinecolor": "white",
           "zerolinewidth": 2
          },
          "yaxis": {
           "automargin": true,
           "gridcolor": "white",
           "linecolor": "white",
           "ticks": "",
           "title": {
            "standoff": 15
           },
           "zerolinecolor": "white",
           "zerolinewidth": 2
          }
         }
        },
        "title": {
         "text": "Average Injured vs Number of Collisions by Involved Party"
        },
        "width": 1000,
        "xaxis": {
         "anchor": "y",
         "domain": [
          0,
          1
         ],
         "title": {
          "text": "Number of Collisions"
         }
        },
        "yaxis": {
         "anchor": "x",
         "domain": [
          0,
          1
         ],
         "title": {
          "text": "Average Number Injured"
         }
        }
       }
      }
     },
     "metadata": {},
     "output_type": "display_data"
    }
   ],
   "source": [
    "# Scatter plot: collision frequency vs average injuries by involved party type\n",
    "fig = px.scatter(\n",
    "    involved_type,\n",
    "    x='Num Collisions',\n",
    "    y='Avg Injured',\n",
    "    color='Involved Party',\n",
    "    hover_name='Involved Party',\n",
    "    title = 'Average Injured vs Number of Collisions by Involved Party',\n",
    "    category_orders={'Involved Party': color_order},\n",
    "    size='Num Collisions',\n",
    "    size_max=100,\n",
    "    width=1000,\n",
    "    height=500\n",
    ")\n",
    "\n",
    "fig.update_layout(\n",
    "    xaxis_title='Number of Collisions',\n",
    "    yaxis_title='Average Number Injured',\n",
    "    legend_title='Involved Party'\n",
    ")\n",
    "\n",
    "fig.show()"
   ]
  },
  {
   "cell_type": "markdown",
   "id": "11f0ae16",
   "metadata": {},
   "source": [
    "Previously, we examined involved party types separately using two bar charts: one for **number of collisions** and another for **average injuries**.  \n",
    "This scatterplot brings both measures together:  \n",
    "- **X-axis** = number of collisions  \n",
    "- **Y-axis** = average number of injuries  \n",
    "- **Dot size** = number of collisions (scaled)  \n",
    "\n",
    "Key takeaways:  \n",
    "- **Trains** rank in the top three for average injuries but occur very rarely.  \n",
    "- **Pedestrians** are more concerning: they show the highest average injuries and also fall in the top five for collision frequency.  \n",
    "- **Other motor vehicles** remain by far the most common involved party type, consistent with earlier charts.  "
   ]
  },
  {
   "cell_type": "markdown",
   "id": "78c04df9",
   "metadata": {},
   "source": [
    "##### What is the most common collision type, and how does that impact average injuries per collision?  "
   ]
  },
  {
   "cell_type": "code",
   "execution_count": 53,
   "id": "5f24277c",
   "metadata": {},
   "outputs": [
    {
     "data": {
      "text/plain": [
       "Ishighwayrelated\n",
       "False    111698\n",
       "True      83956\n",
       "Name: count, dtype: int64"
      ]
     },
     "execution_count": 53,
     "metadata": {},
     "output_type": "execute_result"
    }
   ],
   "source": [
    "# How many collisions were highway related vs not? \n",
    "crashes_bx['Ishighwayrelated'].value_counts()"
   ]
  },
  {
   "cell_type": "markdown",
   "id": "c1806f06",
   "metadata": {},
   "source": [
    "How many collisions were highway related vs not? \n",
    "\n",
    "Not Highway Related: 98,817\n",
    "\n",
    "Highway Related: 76, 123"
   ]
  },
  {
   "cell_type": "code",
   "execution_count": 25,
   "id": "173cbb9f",
   "metadata": {},
   "outputs": [
    {
     "data": {
      "text/plain": [
       "Collision_type_description\n",
       "REAR END              59476\n",
       "SIDE SWIPE            44290\n",
       "HIT OBJECT            35640\n",
       "BROADSIDE             32670\n",
       "HEAD-ON                8217\n",
       "OTHER                  5559\n",
       "VEHICLE/PEDESTRAIN     4954\n",
       "OVERTURNED             4420\n",
       "Name: count, dtype: int64"
      ]
     },
     "execution_count": 25,
     "metadata": {},
     "output_type": "execute_result"
    }
   ],
   "source": [
    "# What was the most common collision type?\n",
    "crashes_bx['Collision_type_description'].value_counts()"
   ]
  },
  {
   "cell_type": "code",
   "execution_count": 54,
   "id": "f986d9ac",
   "metadata": {},
   "outputs": [
    {
     "data": {
      "application/vnd.plotly.v1+json": {
       "config": {
        "plotlyServerURL": "https://plot.ly"
       },
       "data": [
        {
         "alignmentgroup": "True",
         "hovertemplate": "Collision Type=%{y}<br># of Collisions=%{x}<extra></extra>",
         "legendgroup": "REAR END",
         "marker": {
          "color": "#636efa",
          "pattern": {
           "shape": ""
          }
         },
         "name": "REAR END",
         "offsetgroup": "REAR END",
         "orientation": "h",
         "showlegend": true,
         "textposition": "auto",
         "type": "bar",
         "x": [
          59476
         ],
         "xaxis": "x",
         "y": [
          "REAR END"
         ],
         "yaxis": "y"
        },
        {
         "alignmentgroup": "True",
         "hovertemplate": "Collision Type=%{y}<br># of Collisions=%{x}<extra></extra>",
         "legendgroup": "SIDE SWIPE",
         "marker": {
          "color": "#EF553B",
          "pattern": {
           "shape": ""
          }
         },
         "name": "SIDE SWIPE",
         "offsetgroup": "SIDE SWIPE",
         "orientation": "h",
         "showlegend": true,
         "textposition": "auto",
         "type": "bar",
         "x": [
          44290
         ],
         "xaxis": "x",
         "y": [
          "SIDE SWIPE"
         ],
         "yaxis": "y"
        },
        {
         "alignmentgroup": "True",
         "hovertemplate": "Collision Type=%{y}<br># of Collisions=%{x}<extra></extra>",
         "legendgroup": "HIT OBJECT",
         "marker": {
          "color": "#00cc96",
          "pattern": {
           "shape": ""
          }
         },
         "name": "HIT OBJECT",
         "offsetgroup": "HIT OBJECT",
         "orientation": "h",
         "showlegend": true,
         "textposition": "auto",
         "type": "bar",
         "x": [
          35640
         ],
         "xaxis": "x",
         "y": [
          "HIT OBJECT"
         ],
         "yaxis": "y"
        },
        {
         "alignmentgroup": "True",
         "hovertemplate": "Collision Type=%{y}<br># of Collisions=%{x}<extra></extra>",
         "legendgroup": "BROADSIDE",
         "marker": {
          "color": "#ab63fa",
          "pattern": {
           "shape": ""
          }
         },
         "name": "BROADSIDE",
         "offsetgroup": "BROADSIDE",
         "orientation": "h",
         "showlegend": true,
         "textposition": "auto",
         "type": "bar",
         "x": [
          32670
         ],
         "xaxis": "x",
         "y": [
          "BROADSIDE"
         ],
         "yaxis": "y"
        },
        {
         "alignmentgroup": "True",
         "hovertemplate": "Collision Type=%{y}<br># of Collisions=%{x}<extra></extra>",
         "legendgroup": "OVERTURNED",
         "marker": {
          "color": "#FFA15A",
          "pattern": {
           "shape": ""
          }
         },
         "name": "OVERTURNED",
         "offsetgroup": "OVERTURNED",
         "orientation": "h",
         "showlegend": true,
         "textposition": "auto",
         "type": "bar",
         "x": [
          4420
         ],
         "xaxis": "x",
         "y": [
          "OVERTURNED"
         ],
         "yaxis": "y"
        },
        {
         "alignmentgroup": "True",
         "hovertemplate": "Collision Type=%{y}<br># of Collisions=%{x}<extra></extra>",
         "legendgroup": "HEAD-ON",
         "marker": {
          "color": "#19d3f3",
          "pattern": {
           "shape": ""
          }
         },
         "name": "HEAD-ON",
         "offsetgroup": "HEAD-ON",
         "orientation": "h",
         "showlegend": true,
         "textposition": "auto",
         "type": "bar",
         "x": [
          8217
         ],
         "xaxis": "x",
         "y": [
          "HEAD-ON"
         ],
         "yaxis": "y"
        },
        {
         "alignmentgroup": "True",
         "hovertemplate": "Collision Type=%{y}<br># of Collisions=%{x}<extra></extra>",
         "legendgroup": "OTHER",
         "marker": {
          "color": "#FF6692",
          "pattern": {
           "shape": ""
          }
         },
         "name": "OTHER",
         "offsetgroup": "OTHER",
         "orientation": "h",
         "showlegend": true,
         "textposition": "auto",
         "type": "bar",
         "x": [
          5559
         ],
         "xaxis": "x",
         "y": [
          "OTHER"
         ],
         "yaxis": "y"
        },
        {
         "alignmentgroup": "True",
         "hovertemplate": "Collision Type=%{y}<br># of Collisions=%{x}<extra></extra>",
         "legendgroup": "VEHICLE/PEDESTRAIN",
         "marker": {
          "color": "#B6E880",
          "pattern": {
           "shape": ""
          }
         },
         "name": "VEHICLE/PEDESTRAIN",
         "offsetgroup": "VEHICLE/PEDESTRAIN",
         "orientation": "h",
         "showlegend": true,
         "textposition": "auto",
         "type": "bar",
         "x": [
          4954
         ],
         "xaxis": "x",
         "y": [
          "VEHICLE/PEDESTRAIN"
         ],
         "yaxis": "y"
        }
       ],
       "layout": {
        "barmode": "relative",
        "height": 600,
        "legend": {
         "title": {
          "text": "Collision Type"
         },
         "tracegroupgap": 0
        },
        "showlegend": false,
        "template": {
         "data": {
          "bar": [
           {
            "error_x": {
             "color": "#2a3f5f"
            },
            "error_y": {
             "color": "#2a3f5f"
            },
            "marker": {
             "line": {
              "color": "#E5ECF6",
              "width": 0.5
             },
             "pattern": {
              "fillmode": "overlay",
              "size": 10,
              "solidity": 0.2
             }
            },
            "type": "bar"
           }
          ],
          "barpolar": [
           {
            "marker": {
             "line": {
              "color": "#E5ECF6",
              "width": 0.5
             },
             "pattern": {
              "fillmode": "overlay",
              "size": 10,
              "solidity": 0.2
             }
            },
            "type": "barpolar"
           }
          ],
          "carpet": [
           {
            "aaxis": {
             "endlinecolor": "#2a3f5f",
             "gridcolor": "white",
             "linecolor": "white",
             "minorgridcolor": "white",
             "startlinecolor": "#2a3f5f"
            },
            "baxis": {
             "endlinecolor": "#2a3f5f",
             "gridcolor": "white",
             "linecolor": "white",
             "minorgridcolor": "white",
             "startlinecolor": "#2a3f5f"
            },
            "type": "carpet"
           }
          ],
          "choropleth": [
           {
            "colorbar": {
             "outlinewidth": 0,
             "ticks": ""
            },
            "type": "choropleth"
           }
          ],
          "contour": [
           {
            "colorbar": {
             "outlinewidth": 0,
             "ticks": ""
            },
            "colorscale": [
             [
              0,
              "#0d0887"
             ],
             [
              0.1111111111111111,
              "#46039f"
             ],
             [
              0.2222222222222222,
              "#7201a8"
             ],
             [
              0.3333333333333333,
              "#9c179e"
             ],
             [
              0.4444444444444444,
              "#bd3786"
             ],
             [
              0.5555555555555556,
              "#d8576b"
             ],
             [
              0.6666666666666666,
              "#ed7953"
             ],
             [
              0.7777777777777778,
              "#fb9f3a"
             ],
             [
              0.8888888888888888,
              "#fdca26"
             ],
             [
              1,
              "#f0f921"
             ]
            ],
            "type": "contour"
           }
          ],
          "contourcarpet": [
           {
            "colorbar": {
             "outlinewidth": 0,
             "ticks": ""
            },
            "type": "contourcarpet"
           }
          ],
          "heatmap": [
           {
            "colorbar": {
             "outlinewidth": 0,
             "ticks": ""
            },
            "colorscale": [
             [
              0,
              "#0d0887"
             ],
             [
              0.1111111111111111,
              "#46039f"
             ],
             [
              0.2222222222222222,
              "#7201a8"
             ],
             [
              0.3333333333333333,
              "#9c179e"
             ],
             [
              0.4444444444444444,
              "#bd3786"
             ],
             [
              0.5555555555555556,
              "#d8576b"
             ],
             [
              0.6666666666666666,
              "#ed7953"
             ],
             [
              0.7777777777777778,
              "#fb9f3a"
             ],
             [
              0.8888888888888888,
              "#fdca26"
             ],
             [
              1,
              "#f0f921"
             ]
            ],
            "type": "heatmap"
           }
          ],
          "heatmapgl": [
           {
            "colorbar": {
             "outlinewidth": 0,
             "ticks": ""
            },
            "colorscale": [
             [
              0,
              "#0d0887"
             ],
             [
              0.1111111111111111,
              "#46039f"
             ],
             [
              0.2222222222222222,
              "#7201a8"
             ],
             [
              0.3333333333333333,
              "#9c179e"
             ],
             [
              0.4444444444444444,
              "#bd3786"
             ],
             [
              0.5555555555555556,
              "#d8576b"
             ],
             [
              0.6666666666666666,
              "#ed7953"
             ],
             [
              0.7777777777777778,
              "#fb9f3a"
             ],
             [
              0.8888888888888888,
              "#fdca26"
             ],
             [
              1,
              "#f0f921"
             ]
            ],
            "type": "heatmapgl"
           }
          ],
          "histogram": [
           {
            "marker": {
             "pattern": {
              "fillmode": "overlay",
              "size": 10,
              "solidity": 0.2
             }
            },
            "type": "histogram"
           }
          ],
          "histogram2d": [
           {
            "colorbar": {
             "outlinewidth": 0,
             "ticks": ""
            },
            "colorscale": [
             [
              0,
              "#0d0887"
             ],
             [
              0.1111111111111111,
              "#46039f"
             ],
             [
              0.2222222222222222,
              "#7201a8"
             ],
             [
              0.3333333333333333,
              "#9c179e"
             ],
             [
              0.4444444444444444,
              "#bd3786"
             ],
             [
              0.5555555555555556,
              "#d8576b"
             ],
             [
              0.6666666666666666,
              "#ed7953"
             ],
             [
              0.7777777777777778,
              "#fb9f3a"
             ],
             [
              0.8888888888888888,
              "#fdca26"
             ],
             [
              1,
              "#f0f921"
             ]
            ],
            "type": "histogram2d"
           }
          ],
          "histogram2dcontour": [
           {
            "colorbar": {
             "outlinewidth": 0,
             "ticks": ""
            },
            "colorscale": [
             [
              0,
              "#0d0887"
             ],
             [
              0.1111111111111111,
              "#46039f"
             ],
             [
              0.2222222222222222,
              "#7201a8"
             ],
             [
              0.3333333333333333,
              "#9c179e"
             ],
             [
              0.4444444444444444,
              "#bd3786"
             ],
             [
              0.5555555555555556,
              "#d8576b"
             ],
             [
              0.6666666666666666,
              "#ed7953"
             ],
             [
              0.7777777777777778,
              "#fb9f3a"
             ],
             [
              0.8888888888888888,
              "#fdca26"
             ],
             [
              1,
              "#f0f921"
             ]
            ],
            "type": "histogram2dcontour"
           }
          ],
          "mesh3d": [
           {
            "colorbar": {
             "outlinewidth": 0,
             "ticks": ""
            },
            "type": "mesh3d"
           }
          ],
          "parcoords": [
           {
            "line": {
             "colorbar": {
              "outlinewidth": 0,
              "ticks": ""
             }
            },
            "type": "parcoords"
           }
          ],
          "pie": [
           {
            "automargin": true,
            "type": "pie"
           }
          ],
          "scatter": [
           {
            "fillpattern": {
             "fillmode": "overlay",
             "size": 10,
             "solidity": 0.2
            },
            "type": "scatter"
           }
          ],
          "scatter3d": [
           {
            "line": {
             "colorbar": {
              "outlinewidth": 0,
              "ticks": ""
             }
            },
            "marker": {
             "colorbar": {
              "outlinewidth": 0,
              "ticks": ""
             }
            },
            "type": "scatter3d"
           }
          ],
          "scattercarpet": [
           {
            "marker": {
             "colorbar": {
              "outlinewidth": 0,
              "ticks": ""
             }
            },
            "type": "scattercarpet"
           }
          ],
          "scattergeo": [
           {
            "marker": {
             "colorbar": {
              "outlinewidth": 0,
              "ticks": ""
             }
            },
            "type": "scattergeo"
           }
          ],
          "scattergl": [
           {
            "marker": {
             "colorbar": {
              "outlinewidth": 0,
              "ticks": ""
             }
            },
            "type": "scattergl"
           }
          ],
          "scattermapbox": [
           {
            "marker": {
             "colorbar": {
              "outlinewidth": 0,
              "ticks": ""
             }
            },
            "type": "scattermapbox"
           }
          ],
          "scatterpolar": [
           {
            "marker": {
             "colorbar": {
              "outlinewidth": 0,
              "ticks": ""
             }
            },
            "type": "scatterpolar"
           }
          ],
          "scatterpolargl": [
           {
            "marker": {
             "colorbar": {
              "outlinewidth": 0,
              "ticks": ""
             }
            },
            "type": "scatterpolargl"
           }
          ],
          "scatterternary": [
           {
            "marker": {
             "colorbar": {
              "outlinewidth": 0,
              "ticks": ""
             }
            },
            "type": "scatterternary"
           }
          ],
          "surface": [
           {
            "colorbar": {
             "outlinewidth": 0,
             "ticks": ""
            },
            "colorscale": [
             [
              0,
              "#0d0887"
             ],
             [
              0.1111111111111111,
              "#46039f"
             ],
             [
              0.2222222222222222,
              "#7201a8"
             ],
             [
              0.3333333333333333,
              "#9c179e"
             ],
             [
              0.4444444444444444,
              "#bd3786"
             ],
             [
              0.5555555555555556,
              "#d8576b"
             ],
             [
              0.6666666666666666,
              "#ed7953"
             ],
             [
              0.7777777777777778,
              "#fb9f3a"
             ],
             [
              0.8888888888888888,
              "#fdca26"
             ],
             [
              1,
              "#f0f921"
             ]
            ],
            "type": "surface"
           }
          ],
          "table": [
           {
            "cells": {
             "fill": {
              "color": "#EBF0F8"
             },
             "line": {
              "color": "white"
             }
            },
            "header": {
             "fill": {
              "color": "#C8D4E3"
             },
             "line": {
              "color": "white"
             }
            },
            "type": "table"
           }
          ]
         },
         "layout": {
          "annotationdefaults": {
           "arrowcolor": "#2a3f5f",
           "arrowhead": 0,
           "arrowwidth": 1
          },
          "autotypenumbers": "strict",
          "coloraxis": {
           "colorbar": {
            "outlinewidth": 0,
            "ticks": ""
           }
          },
          "colorscale": {
           "diverging": [
            [
             0,
             "#8e0152"
            ],
            [
             0.1,
             "#c51b7d"
            ],
            [
             0.2,
             "#de77ae"
            ],
            [
             0.3,
             "#f1b6da"
            ],
            [
             0.4,
             "#fde0ef"
            ],
            [
             0.5,
             "#f7f7f7"
            ],
            [
             0.6,
             "#e6f5d0"
            ],
            [
             0.7,
             "#b8e186"
            ],
            [
             0.8,
             "#7fbc41"
            ],
            [
             0.9,
             "#4d9221"
            ],
            [
             1,
             "#276419"
            ]
           ],
           "sequential": [
            [
             0,
             "#0d0887"
            ],
            [
             0.1111111111111111,
             "#46039f"
            ],
            [
             0.2222222222222222,
             "#7201a8"
            ],
            [
             0.3333333333333333,
             "#9c179e"
            ],
            [
             0.4444444444444444,
             "#bd3786"
            ],
            [
             0.5555555555555556,
             "#d8576b"
            ],
            [
             0.6666666666666666,
             "#ed7953"
            ],
            [
             0.7777777777777778,
             "#fb9f3a"
            ],
            [
             0.8888888888888888,
             "#fdca26"
            ],
            [
             1,
             "#f0f921"
            ]
           ],
           "sequentialminus": [
            [
             0,
             "#0d0887"
            ],
            [
             0.1111111111111111,
             "#46039f"
            ],
            [
             0.2222222222222222,
             "#7201a8"
            ],
            [
             0.3333333333333333,
             "#9c179e"
            ],
            [
             0.4444444444444444,
             "#bd3786"
            ],
            [
             0.5555555555555556,
             "#d8576b"
            ],
            [
             0.6666666666666666,
             "#ed7953"
            ],
            [
             0.7777777777777778,
             "#fb9f3a"
            ],
            [
             0.8888888888888888,
             "#fdca26"
            ],
            [
             1,
             "#f0f921"
            ]
           ]
          },
          "colorway": [
           "#636efa",
           "#EF553B",
           "#00cc96",
           "#ab63fa",
           "#FFA15A",
           "#19d3f3",
           "#FF6692",
           "#B6E880",
           "#FF97FF",
           "#FECB52"
          ],
          "font": {
           "color": "#2a3f5f"
          },
          "geo": {
           "bgcolor": "white",
           "lakecolor": "white",
           "landcolor": "#E5ECF6",
           "showlakes": true,
           "showland": true,
           "subunitcolor": "white"
          },
          "hoverlabel": {
           "align": "left"
          },
          "hovermode": "closest",
          "mapbox": {
           "style": "light"
          },
          "paper_bgcolor": "white",
          "plot_bgcolor": "#E5ECF6",
          "polar": {
           "angularaxis": {
            "gridcolor": "white",
            "linecolor": "white",
            "ticks": ""
           },
           "bgcolor": "#E5ECF6",
           "radialaxis": {
            "gridcolor": "white",
            "linecolor": "white",
            "ticks": ""
           }
          },
          "scene": {
           "xaxis": {
            "backgroundcolor": "#E5ECF6",
            "gridcolor": "white",
            "gridwidth": 2,
            "linecolor": "white",
            "showbackground": true,
            "ticks": "",
            "zerolinecolor": "white"
           },
           "yaxis": {
            "backgroundcolor": "#E5ECF6",
            "gridcolor": "white",
            "gridwidth": 2,
            "linecolor": "white",
            "showbackground": true,
            "ticks": "",
            "zerolinecolor": "white"
           },
           "zaxis": {
            "backgroundcolor": "#E5ECF6",
            "gridcolor": "white",
            "gridwidth": 2,
            "linecolor": "white",
            "showbackground": true,
            "ticks": "",
            "zerolinecolor": "white"
           }
          },
          "shapedefaults": {
           "line": {
            "color": "#2a3f5f"
           }
          },
          "ternary": {
           "aaxis": {
            "gridcolor": "white",
            "linecolor": "white",
            "ticks": ""
           },
           "baxis": {
            "gridcolor": "white",
            "linecolor": "white",
            "ticks": ""
           },
           "bgcolor": "#E5ECF6",
           "caxis": {
            "gridcolor": "white",
            "linecolor": "white",
            "ticks": ""
           }
          },
          "title": {
           "x": 0.05
          },
          "xaxis": {
           "automargin": true,
           "gridcolor": "white",
           "linecolor": "white",
           "ticks": "",
           "title": {
            "standoff": 15
           },
           "zerolinecolor": "white",
           "zerolinewidth": 2
          },
          "yaxis": {
           "automargin": true,
           "gridcolor": "white",
           "linecolor": "white",
           "ticks": "",
           "title": {
            "standoff": 15
           },
           "zerolinecolor": "white",
           "zerolinewidth": 2
          }
         }
        },
        "title": {
         "text": "Collision Type - CA 2025 YTD Data From CCSR"
        },
        "width": 800,
        "xaxis": {
         "anchor": "y",
         "domain": [
          0,
          1
         ],
         "title": {
          "text": "# of Collisions"
         }
        },
        "yaxis": {
         "anchor": "x",
         "categoryarray": [
          "OVERTURNED",
          "VEHICLE/PEDESTRAIN",
          "OTHER",
          "HEAD-ON",
          "BROADSIDE",
          "HIT OBJECT",
          "SIDE SWIPE",
          "REAR END"
         ],
         "categoryorder": "array",
         "domain": [
          0,
          1
         ],
         "title": {
          "text": "Collision Type"
         }
        }
       }
      }
     },
     "metadata": {},
     "output_type": "display_data"
    }
   ],
   "source": [
    "# Bar chart: count by collision types\n",
    "\n",
    "# Define color order to ensure consistent colors across plots\n",
    "col_order = crashes_bx['Collision_type_description'].unique().tolist()\n",
    "\n",
    "# Count by collision types \n",
    "collision_type_counts = (\n",
    "    crashes_bx['Collision_type_description']\n",
    "    .value_counts(ascending=True)\n",
    "    .reset_index()\n",
    ")\n",
    "\n",
    "collision_type_counts.columns = ['Collision Type', '# of Collisions']\n",
    "\n",
    "# Horizontal bar chart of collision types\n",
    "fig = px.bar(\n",
    "    collision_type_counts,\n",
    "    x='# of Collisions',\n",
    "    y='Collision Type',\n",
    "    orientation='h',\n",
    "    title=\"Collision Type - CA 2025 YTD Data From CCSR\",\n",
    "    labels={'# of Collisions': '# of Collisions', 'Collision Type': 'Collision Type'},\n",
    "    color='Collision Type',\n",
    "    category_orders={'Collision Type': col_order},\n",
    "    width=800,\n",
    "    height=600\n",
    ")\n",
    "\n",
    "fig.update_layout(yaxis={'categoryorder': 'array', 'categoryarray': collision_type_counts['Collision Type']}, showlegend=False)\n",
    "\n",
    "fig.show()"
   ]
  },
  {
   "cell_type": "markdown",
   "id": "87cb3213",
   "metadata": {},
   "source": [
    "**Most common collision types:** rear end (highest), side swipe, hit object, and broadside.\n",
    "\n",
    "**What is a “broadside”?** A crash where the front of one vehicle strikes the side of another, forming a “T” (also called a T-bone or side-impact collision). Broadsides often occur at intersections when:  \n",
    "1) a driver runs a red light or stop sign,  \n",
    "2) a vehicle turns across oncoming traffic, or  \n",
    "3) a driver fails to yield\n",
    "\n",
    "Because the sides of vehicles typically offer less structural protection than the front or rear, broadsides can be more dangerous. In the next section, we examine **average injuries by collision type** to see whether broadsides exhibit a relatively higher injury rate."
   ]
  },
  {
   "cell_type": "code",
   "execution_count": 55,
   "id": "499706b8",
   "metadata": {},
   "outputs": [
    {
     "data": {
      "application/vnd.plotly.v1+json": {
       "config": {
        "plotlyServerURL": "https://plot.ly"
       },
       "data": [
        {
         "alignmentgroup": "True",
         "hovertemplate": "Collision Type=%{x}<br>Avg Injured=%{text}<extra></extra>",
         "legendgroup": "REAR END",
         "marker": {
          "color": "#636efa",
          "pattern": {
           "shape": ""
          }
         },
         "name": "REAR END",
         "offsetgroup": "REAR END",
         "orientation": "v",
         "showlegend": true,
         "text": [
          0.6038221489494138
         ],
         "textposition": "auto",
         "texttemplate": "%{text:.2f}",
         "type": "bar",
         "x": [
          "REAR END"
         ],
         "xaxis": "x",
         "y": [
          0.6038221489494138
         ],
         "yaxis": "y"
        },
        {
         "alignmentgroup": "True",
         "hovertemplate": "Collision Type=%{x}<br>Avg Injured=%{text}<extra></extra>",
         "legendgroup": "SIDE SWIPE",
         "marker": {
          "color": "#EF553B",
          "pattern": {
           "shape": ""
          }
         },
         "name": "SIDE SWIPE",
         "offsetgroup": "SIDE SWIPE",
         "orientation": "v",
         "showlegend": true,
         "text": [
          0.2814513394370973
         ],
         "textposition": "auto",
         "texttemplate": "%{text:.2f}",
         "type": "bar",
         "x": [
          "SIDE SWIPE"
         ],
         "xaxis": "x",
         "y": [
          0.2814513394370973
         ],
         "yaxis": "y"
        },
        {
         "alignmentgroup": "True",
         "hovertemplate": "Collision Type=%{x}<br>Avg Injured=%{text}<extra></extra>",
         "legendgroup": "HIT OBJECT",
         "marker": {
          "color": "#00cc96",
          "pattern": {
           "shape": ""
          }
         },
         "name": "HIT OBJECT",
         "offsetgroup": "HIT OBJECT",
         "orientation": "v",
         "showlegend": true,
         "text": [
          0.36149957877000843
         ],
         "textposition": "auto",
         "texttemplate": "%{text:.2f}",
         "type": "bar",
         "x": [
          "HIT OBJECT"
         ],
         "xaxis": "x",
         "y": [
          0.36149957877000843
         ],
         "yaxis": "y"
        },
        {
         "alignmentgroup": "True",
         "hovertemplate": "Collision Type=%{x}<br>Avg Injured=%{text}<extra></extra>",
         "legendgroup": "BROADSIDE",
         "marker": {
          "color": "#ab63fa",
          "pattern": {
           "shape": ""
          }
         },
         "name": "BROADSIDE",
         "offsetgroup": "BROADSIDE",
         "orientation": "v",
         "showlegend": true,
         "text": [
          0.93832909530958
         ],
         "textposition": "auto",
         "texttemplate": "%{text:.2f}",
         "type": "bar",
         "x": [
          "BROADSIDE"
         ],
         "xaxis": "x",
         "y": [
          0.93832909530958
         ],
         "yaxis": "y"
        },
        {
         "alignmentgroup": "True",
         "hovertemplate": "Collision Type=%{x}<br>Avg Injured=%{text}<extra></extra>",
         "legendgroup": "OVERTURNED",
         "marker": {
          "color": "#FFA15A",
          "pattern": {
           "shape": ""
          }
         },
         "name": "OVERTURNED",
         "offsetgroup": "OVERTURNED",
         "orientation": "v",
         "showlegend": true,
         "text": [
          0.8169683257918552
         ],
         "textposition": "auto",
         "texttemplate": "%{text:.2f}",
         "type": "bar",
         "x": [
          "OVERTURNED"
         ],
         "xaxis": "x",
         "y": [
          0.8169683257918552
         ],
         "yaxis": "y"
        },
        {
         "alignmentgroup": "True",
         "hovertemplate": "Collision Type=%{x}<br>Avg Injured=%{text}<extra></extra>",
         "legendgroup": "HEAD-ON",
         "marker": {
          "color": "#19d3f3",
          "pattern": {
           "shape": ""
          }
         },
         "name": "HEAD-ON",
         "offsetgroup": "HEAD-ON",
         "orientation": "v",
         "showlegend": true,
         "text": [
          0.9278752436647173
         ],
         "textposition": "auto",
         "texttemplate": "%{text:.2f}",
         "type": "bar",
         "x": [
          "HEAD-ON"
         ],
         "xaxis": "x",
         "y": [
          0.9278752436647173
         ],
         "yaxis": "y"
        },
        {
         "alignmentgroup": "True",
         "hovertemplate": "Collision Type=%{x}<br>Avg Injured=%{text}<extra></extra>",
         "legendgroup": "OTHER",
         "marker": {
          "color": "#FF6692",
          "pattern": {
           "shape": ""
          }
         },
         "name": "OTHER",
         "offsetgroup": "OTHER",
         "orientation": "v",
         "showlegend": true,
         "text": [
          0.38551612322104123
         ],
         "textposition": "auto",
         "texttemplate": "%{text:.2f}",
         "type": "bar",
         "x": [
          "OTHER"
         ],
         "xaxis": "x",
         "y": [
          0.38551612322104123
         ],
         "yaxis": "y"
        },
        {
         "alignmentgroup": "True",
         "hovertemplate": "Collision Type=%{x}<br>Avg Injured=%{text}<extra></extra>",
         "legendgroup": "VEHICLE/PEDESTRAIN",
         "marker": {
          "color": "#B6E880",
          "pattern": {
           "shape": ""
          }
         },
         "name": "VEHICLE/PEDESTRAIN",
         "offsetgroup": "VEHICLE/PEDESTRAIN",
         "orientation": "v",
         "showlegend": true,
         "text": [
          0.9527463651050081
         ],
         "textposition": "auto",
         "texttemplate": "%{text:.2f}",
         "type": "bar",
         "x": [
          "VEHICLE/PEDESTRAIN"
         ],
         "xaxis": "x",
         "y": [
          0.9527463651050081
         ],
         "yaxis": "y"
        }
       ],
       "layout": {
        "barmode": "relative",
        "legend": {
         "title": {
          "text": "Collision Type"
         },
         "tracegroupgap": 0
        },
        "showlegend": false,
        "template": {
         "data": {
          "bar": [
           {
            "error_x": {
             "color": "#2a3f5f"
            },
            "error_y": {
             "color": "#2a3f5f"
            },
            "marker": {
             "line": {
              "color": "#E5ECF6",
              "width": 0.5
             },
             "pattern": {
              "fillmode": "overlay",
              "size": 10,
              "solidity": 0.2
             }
            },
            "type": "bar"
           }
          ],
          "barpolar": [
           {
            "marker": {
             "line": {
              "color": "#E5ECF6",
              "width": 0.5
             },
             "pattern": {
              "fillmode": "overlay",
              "size": 10,
              "solidity": 0.2
             }
            },
            "type": "barpolar"
           }
          ],
          "carpet": [
           {
            "aaxis": {
             "endlinecolor": "#2a3f5f",
             "gridcolor": "white",
             "linecolor": "white",
             "minorgridcolor": "white",
             "startlinecolor": "#2a3f5f"
            },
            "baxis": {
             "endlinecolor": "#2a3f5f",
             "gridcolor": "white",
             "linecolor": "white",
             "minorgridcolor": "white",
             "startlinecolor": "#2a3f5f"
            },
            "type": "carpet"
           }
          ],
          "choropleth": [
           {
            "colorbar": {
             "outlinewidth": 0,
             "ticks": ""
            },
            "type": "choropleth"
           }
          ],
          "contour": [
           {
            "colorbar": {
             "outlinewidth": 0,
             "ticks": ""
            },
            "colorscale": [
             [
              0,
              "#0d0887"
             ],
             [
              0.1111111111111111,
              "#46039f"
             ],
             [
              0.2222222222222222,
              "#7201a8"
             ],
             [
              0.3333333333333333,
              "#9c179e"
             ],
             [
              0.4444444444444444,
              "#bd3786"
             ],
             [
              0.5555555555555556,
              "#d8576b"
             ],
             [
              0.6666666666666666,
              "#ed7953"
             ],
             [
              0.7777777777777778,
              "#fb9f3a"
             ],
             [
              0.8888888888888888,
              "#fdca26"
             ],
             [
              1,
              "#f0f921"
             ]
            ],
            "type": "contour"
           }
          ],
          "contourcarpet": [
           {
            "colorbar": {
             "outlinewidth": 0,
             "ticks": ""
            },
            "type": "contourcarpet"
           }
          ],
          "heatmap": [
           {
            "colorbar": {
             "outlinewidth": 0,
             "ticks": ""
            },
            "colorscale": [
             [
              0,
              "#0d0887"
             ],
             [
              0.1111111111111111,
              "#46039f"
             ],
             [
              0.2222222222222222,
              "#7201a8"
             ],
             [
              0.3333333333333333,
              "#9c179e"
             ],
             [
              0.4444444444444444,
              "#bd3786"
             ],
             [
              0.5555555555555556,
              "#d8576b"
             ],
             [
              0.6666666666666666,
              "#ed7953"
             ],
             [
              0.7777777777777778,
              "#fb9f3a"
             ],
             [
              0.8888888888888888,
              "#fdca26"
             ],
             [
              1,
              "#f0f921"
             ]
            ],
            "type": "heatmap"
           }
          ],
          "heatmapgl": [
           {
            "colorbar": {
             "outlinewidth": 0,
             "ticks": ""
            },
            "colorscale": [
             [
              0,
              "#0d0887"
             ],
             [
              0.1111111111111111,
              "#46039f"
             ],
             [
              0.2222222222222222,
              "#7201a8"
             ],
             [
              0.3333333333333333,
              "#9c179e"
             ],
             [
              0.4444444444444444,
              "#bd3786"
             ],
             [
              0.5555555555555556,
              "#d8576b"
             ],
             [
              0.6666666666666666,
              "#ed7953"
             ],
             [
              0.7777777777777778,
              "#fb9f3a"
             ],
             [
              0.8888888888888888,
              "#fdca26"
             ],
             [
              1,
              "#f0f921"
             ]
            ],
            "type": "heatmapgl"
           }
          ],
          "histogram": [
           {
            "marker": {
             "pattern": {
              "fillmode": "overlay",
              "size": 10,
              "solidity": 0.2
             }
            },
            "type": "histogram"
           }
          ],
          "histogram2d": [
           {
            "colorbar": {
             "outlinewidth": 0,
             "ticks": ""
            },
            "colorscale": [
             [
              0,
              "#0d0887"
             ],
             [
              0.1111111111111111,
              "#46039f"
             ],
             [
              0.2222222222222222,
              "#7201a8"
             ],
             [
              0.3333333333333333,
              "#9c179e"
             ],
             [
              0.4444444444444444,
              "#bd3786"
             ],
             [
              0.5555555555555556,
              "#d8576b"
             ],
             [
              0.6666666666666666,
              "#ed7953"
             ],
             [
              0.7777777777777778,
              "#fb9f3a"
             ],
             [
              0.8888888888888888,
              "#fdca26"
             ],
             [
              1,
              "#f0f921"
             ]
            ],
            "type": "histogram2d"
           }
          ],
          "histogram2dcontour": [
           {
            "colorbar": {
             "outlinewidth": 0,
             "ticks": ""
            },
            "colorscale": [
             [
              0,
              "#0d0887"
             ],
             [
              0.1111111111111111,
              "#46039f"
             ],
             [
              0.2222222222222222,
              "#7201a8"
             ],
             [
              0.3333333333333333,
              "#9c179e"
             ],
             [
              0.4444444444444444,
              "#bd3786"
             ],
             [
              0.5555555555555556,
              "#d8576b"
             ],
             [
              0.6666666666666666,
              "#ed7953"
             ],
             [
              0.7777777777777778,
              "#fb9f3a"
             ],
             [
              0.8888888888888888,
              "#fdca26"
             ],
             [
              1,
              "#f0f921"
             ]
            ],
            "type": "histogram2dcontour"
           }
          ],
          "mesh3d": [
           {
            "colorbar": {
             "outlinewidth": 0,
             "ticks": ""
            },
            "type": "mesh3d"
           }
          ],
          "parcoords": [
           {
            "line": {
             "colorbar": {
              "outlinewidth": 0,
              "ticks": ""
             }
            },
            "type": "parcoords"
           }
          ],
          "pie": [
           {
            "automargin": true,
            "type": "pie"
           }
          ],
          "scatter": [
           {
            "fillpattern": {
             "fillmode": "overlay",
             "size": 10,
             "solidity": 0.2
            },
            "type": "scatter"
           }
          ],
          "scatter3d": [
           {
            "line": {
             "colorbar": {
              "outlinewidth": 0,
              "ticks": ""
             }
            },
            "marker": {
             "colorbar": {
              "outlinewidth": 0,
              "ticks": ""
             }
            },
            "type": "scatter3d"
           }
          ],
          "scattercarpet": [
           {
            "marker": {
             "colorbar": {
              "outlinewidth": 0,
              "ticks": ""
             }
            },
            "type": "scattercarpet"
           }
          ],
          "scattergeo": [
           {
            "marker": {
             "colorbar": {
              "outlinewidth": 0,
              "ticks": ""
             }
            },
            "type": "scattergeo"
           }
          ],
          "scattergl": [
           {
            "marker": {
             "colorbar": {
              "outlinewidth": 0,
              "ticks": ""
             }
            },
            "type": "scattergl"
           }
          ],
          "scattermapbox": [
           {
            "marker": {
             "colorbar": {
              "outlinewidth": 0,
              "ticks": ""
             }
            },
            "type": "scattermapbox"
           }
          ],
          "scatterpolar": [
           {
            "marker": {
             "colorbar": {
              "outlinewidth": 0,
              "ticks": ""
             }
            },
            "type": "scatterpolar"
           }
          ],
          "scatterpolargl": [
           {
            "marker": {
             "colorbar": {
              "outlinewidth": 0,
              "ticks": ""
             }
            },
            "type": "scatterpolargl"
           }
          ],
          "scatterternary": [
           {
            "marker": {
             "colorbar": {
              "outlinewidth": 0,
              "ticks": ""
             }
            },
            "type": "scatterternary"
           }
          ],
          "surface": [
           {
            "colorbar": {
             "outlinewidth": 0,
             "ticks": ""
            },
            "colorscale": [
             [
              0,
              "#0d0887"
             ],
             [
              0.1111111111111111,
              "#46039f"
             ],
             [
              0.2222222222222222,
              "#7201a8"
             ],
             [
              0.3333333333333333,
              "#9c179e"
             ],
             [
              0.4444444444444444,
              "#bd3786"
             ],
             [
              0.5555555555555556,
              "#d8576b"
             ],
             [
              0.6666666666666666,
              "#ed7953"
             ],
             [
              0.7777777777777778,
              "#fb9f3a"
             ],
             [
              0.8888888888888888,
              "#fdca26"
             ],
             [
              1,
              "#f0f921"
             ]
            ],
            "type": "surface"
           }
          ],
          "table": [
           {
            "cells": {
             "fill": {
              "color": "#EBF0F8"
             },
             "line": {
              "color": "white"
             }
            },
            "header": {
             "fill": {
              "color": "#C8D4E3"
             },
             "line": {
              "color": "white"
             }
            },
            "type": "table"
           }
          ]
         },
         "layout": {
          "annotationdefaults": {
           "arrowcolor": "#2a3f5f",
           "arrowhead": 0,
           "arrowwidth": 1
          },
          "autotypenumbers": "strict",
          "coloraxis": {
           "colorbar": {
            "outlinewidth": 0,
            "ticks": ""
           }
          },
          "colorscale": {
           "diverging": [
            [
             0,
             "#8e0152"
            ],
            [
             0.1,
             "#c51b7d"
            ],
            [
             0.2,
             "#de77ae"
            ],
            [
             0.3,
             "#f1b6da"
            ],
            [
             0.4,
             "#fde0ef"
            ],
            [
             0.5,
             "#f7f7f7"
            ],
            [
             0.6,
             "#e6f5d0"
            ],
            [
             0.7,
             "#b8e186"
            ],
            [
             0.8,
             "#7fbc41"
            ],
            [
             0.9,
             "#4d9221"
            ],
            [
             1,
             "#276419"
            ]
           ],
           "sequential": [
            [
             0,
             "#0d0887"
            ],
            [
             0.1111111111111111,
             "#46039f"
            ],
            [
             0.2222222222222222,
             "#7201a8"
            ],
            [
             0.3333333333333333,
             "#9c179e"
            ],
            [
             0.4444444444444444,
             "#bd3786"
            ],
            [
             0.5555555555555556,
             "#d8576b"
            ],
            [
             0.6666666666666666,
             "#ed7953"
            ],
            [
             0.7777777777777778,
             "#fb9f3a"
            ],
            [
             0.8888888888888888,
             "#fdca26"
            ],
            [
             1,
             "#f0f921"
            ]
           ],
           "sequentialminus": [
            [
             0,
             "#0d0887"
            ],
            [
             0.1111111111111111,
             "#46039f"
            ],
            [
             0.2222222222222222,
             "#7201a8"
            ],
            [
             0.3333333333333333,
             "#9c179e"
            ],
            [
             0.4444444444444444,
             "#bd3786"
            ],
            [
             0.5555555555555556,
             "#d8576b"
            ],
            [
             0.6666666666666666,
             "#ed7953"
            ],
            [
             0.7777777777777778,
             "#fb9f3a"
            ],
            [
             0.8888888888888888,
             "#fdca26"
            ],
            [
             1,
             "#f0f921"
            ]
           ]
          },
          "colorway": [
           "#636efa",
           "#EF553B",
           "#00cc96",
           "#ab63fa",
           "#FFA15A",
           "#19d3f3",
           "#FF6692",
           "#B6E880",
           "#FF97FF",
           "#FECB52"
          ],
          "font": {
           "color": "#2a3f5f"
          },
          "geo": {
           "bgcolor": "white",
           "lakecolor": "white",
           "landcolor": "#E5ECF6",
           "showlakes": true,
           "showland": true,
           "subunitcolor": "white"
          },
          "hoverlabel": {
           "align": "left"
          },
          "hovermode": "closest",
          "mapbox": {
           "style": "light"
          },
          "paper_bgcolor": "white",
          "plot_bgcolor": "#E5ECF6",
          "polar": {
           "angularaxis": {
            "gridcolor": "white",
            "linecolor": "white",
            "ticks": ""
           },
           "bgcolor": "#E5ECF6",
           "radialaxis": {
            "gridcolor": "white",
            "linecolor": "white",
            "ticks": ""
           }
          },
          "scene": {
           "xaxis": {
            "backgroundcolor": "#E5ECF6",
            "gridcolor": "white",
            "gridwidth": 2,
            "linecolor": "white",
            "showbackground": true,
            "ticks": "",
            "zerolinecolor": "white"
           },
           "yaxis": {
            "backgroundcolor": "#E5ECF6",
            "gridcolor": "white",
            "gridwidth": 2,
            "linecolor": "white",
            "showbackground": true,
            "ticks": "",
            "zerolinecolor": "white"
           },
           "zaxis": {
            "backgroundcolor": "#E5ECF6",
            "gridcolor": "white",
            "gridwidth": 2,
            "linecolor": "white",
            "showbackground": true,
            "ticks": "",
            "zerolinecolor": "white"
           }
          },
          "shapedefaults": {
           "line": {
            "color": "#2a3f5f"
           }
          },
          "ternary": {
           "aaxis": {
            "gridcolor": "white",
            "linecolor": "white",
            "ticks": ""
           },
           "baxis": {
            "gridcolor": "white",
            "linecolor": "white",
            "ticks": ""
           },
           "bgcolor": "#E5ECF6",
           "caxis": {
            "gridcolor": "white",
            "linecolor": "white",
            "ticks": ""
           }
          },
          "title": {
           "x": 0.05
          },
          "xaxis": {
           "automargin": true,
           "gridcolor": "white",
           "linecolor": "white",
           "ticks": "",
           "title": {
            "standoff": 15
           },
           "zerolinecolor": "white",
           "zerolinewidth": 2
          },
          "yaxis": {
           "automargin": true,
           "gridcolor": "white",
           "linecolor": "white",
           "ticks": "",
           "title": {
            "standoff": 15
           },
           "zerolinecolor": "white",
           "zerolinewidth": 2
          }
         }
        },
        "title": {
         "text": "Average Number Injured by Collision Type"
        },
        "xaxis": {
         "anchor": "y",
         "categoryarray": [
          "VEHICLE/PEDESTRAIN",
          "BROADSIDE",
          "HEAD-ON",
          "OVERTURNED",
          "REAR END",
          "OTHER",
          "HIT OBJECT",
          "SIDE SWIPE"
         ],
         "categoryorder": "array",
         "domain": [
          0,
          1
         ],
         "title": {
          "text": "Collision Type"
         }
        },
        "yaxis": {
         "anchor": "x",
         "domain": [
          0,
          1
         ],
         "title": {
          "text": "Average Number Injured"
         }
        }
       }
      }
     },
     "metadata": {},
     "output_type": "display_data"
    }
   ],
   "source": [
    "# Average injuries by collision type\n",
    "avg_injured_collision_type = (\n",
    "    crashes_bx.groupby('Collision_type_description')['Numberinjured']\n",
    "    .mean()\n",
    "    .sort_values(ascending=False)\n",
    "    .reset_index()\n",
    "    .rename(columns={'Collision_type_description': 'Collision Type',\n",
    "                     'Numberinjured': 'Avg Injured'})\n",
    ")\n",
    "\n",
    "# Bar chart: average injuries per collision type\n",
    "fig = px.bar(\n",
    "    avg_injured_collision_type,\n",
    "    x = 'Collision Type',\n",
    "    y = 'Avg Injured',\n",
    "    title = 'Average Number Injured by Collision Type',\n",
    "    text = 'Avg Injured',\n",
    "    color = 'Collision Type',\n",
    "    category_orders={'Collision Type': col_order},\n",
    ")\n",
    "\n",
    "fig.update_traces(texttemplate='%{text:.2f}')\n",
    "fig.update_layout(\n",
    "    xaxis_title = 'Collision Type',\n",
    "    yaxis_title = 'Average Number Injured',\n",
    "    showlegend=False,\n",
    "    xaxis={'categoryorder': 'array', 'categoryarray': avg_injured_collision_type['Collision Type']}\n",
    "\n",
    ")\n",
    "\n",
    "fig.show()"
   ]
  },
  {
   "cell_type": "markdown",
   "id": "7b07f728",
   "metadata": {},
   "source": [
    "The data show that **vehicle–pedestrian collisions** have the highest average number of injuries per crash, making them the most dangerous type overall.  \n",
    "\n",
    "As expected, **broadsides (T-bone collisions)** also rank near the top, confirming their higher injury risk compared to most other types.  \n",
    "\n",
    "Additionally, **head on** and **overturned collisions** appear among the most severe."
   ]
  },
  {
   "cell_type": "code",
   "execution_count": 56,
   "id": "879747c3",
   "metadata": {},
   "outputs": [
    {
     "data": {
      "text/html": [
       "<div>\n",
       "<style scoped>\n",
       "    .dataframe tbody tr th:only-of-type {\n",
       "        vertical-align: middle;\n",
       "    }\n",
       "\n",
       "    .dataframe tbody tr th {\n",
       "        vertical-align: top;\n",
       "    }\n",
       "\n",
       "    .dataframe thead th {\n",
       "        text-align: right;\n",
       "    }\n",
       "</style>\n",
       "<table border=\"1\" class=\"dataframe\">\n",
       "  <thead>\n",
       "    <tr style=\"text-align: right;\">\n",
       "      <th></th>\n",
       "      <th>Collision Type</th>\n",
       "      <th>Avg Injured</th>\n",
       "      <th>Num Collisions</th>\n",
       "    </tr>\n",
       "  </thead>\n",
       "  <tbody>\n",
       "    <tr>\n",
       "      <th>4</th>\n",
       "      <td>REAR END</td>\n",
       "      <td>0.60</td>\n",
       "      <td>59476</td>\n",
       "    </tr>\n",
       "    <tr>\n",
       "      <th>7</th>\n",
       "      <td>SIDE SWIPE</td>\n",
       "      <td>0.28</td>\n",
       "      <td>44290</td>\n",
       "    </tr>\n",
       "    <tr>\n",
       "      <th>6</th>\n",
       "      <td>HIT OBJECT</td>\n",
       "      <td>0.36</td>\n",
       "      <td>35640</td>\n",
       "    </tr>\n",
       "    <tr>\n",
       "      <th>1</th>\n",
       "      <td>BROADSIDE</td>\n",
       "      <td>0.94</td>\n",
       "      <td>32670</td>\n",
       "    </tr>\n",
       "    <tr>\n",
       "      <th>2</th>\n",
       "      <td>HEAD-ON</td>\n",
       "      <td>0.93</td>\n",
       "      <td>8217</td>\n",
       "    </tr>\n",
       "  </tbody>\n",
       "</table>\n",
       "</div>"
      ],
      "text/plain": [
       "  Collision Type  Avg Injured  Num Collisions\n",
       "4       REAR END         0.60           59476\n",
       "7     SIDE SWIPE         0.28           44290\n",
       "6     HIT OBJECT         0.36           35640\n",
       "1      BROADSIDE         0.94           32670\n",
       "2        HEAD-ON         0.93            8217"
      ]
     },
     "execution_count": 56,
     "metadata": {},
     "output_type": "execute_result"
    }
   ],
   "source": [
    "# Combine frequency and severity for collision types\n",
    "\n",
    "# Count per collision type\n",
    "num_collision_type = (\n",
    "    crashes_bx['Collision_type_description']\n",
    "    .value_counts()\n",
    "    .reset_index(name='Num Collisions')\n",
    "    .rename(columns={\n",
    "        'Collision_type_description' : 'Collision Type'})\n",
    ")\n",
    "\n",
    "# Merge with average injuries per type\n",
    "collision_type = avg_injured_collision_type.merge(num_collision_type, on='Collision Type')\n",
    "\n",
    "# Show top 5 collision types by frequency\n",
    "collision_type.sort_values(ascending=False, by='Num Collisions').head()"
   ]
  },
  {
   "cell_type": "code",
   "execution_count": 57,
   "id": "6f5b8eb1",
   "metadata": {},
   "outputs": [
    {
     "data": {
      "application/vnd.plotly.v1+json": {
       "config": {
        "plotlyServerURL": "https://plot.ly"
       },
       "data": [
        {
         "hovertemplate": "<b>%{hovertext}</b><br><br>Collision Type=REAR END<br>Num Collisions=%{marker.size}<br>Avg Injured=%{y}<extra></extra>",
         "hovertext": [
          "REAR END"
         ],
         "legendgroup": "REAR END",
         "marker": {
          "color": "#636efa",
          "size": [
           59476
          ],
          "sizemode": "area",
          "sizeref": 37.1725,
          "symbol": "circle"
         },
         "mode": "markers",
         "name": "REAR END",
         "orientation": "v",
         "showlegend": true,
         "type": "scatter",
         "x": [
          59476
         ],
         "xaxis": "x",
         "y": [
          0.6038221489494138
         ],
         "yaxis": "y"
        },
        {
         "hovertemplate": "<b>%{hovertext}</b><br><br>Collision Type=SIDE SWIPE<br>Num Collisions=%{marker.size}<br>Avg Injured=%{y}<extra></extra>",
         "hovertext": [
          "SIDE SWIPE"
         ],
         "legendgroup": "SIDE SWIPE",
         "marker": {
          "color": "#EF553B",
          "size": [
           44290
          ],
          "sizemode": "area",
          "sizeref": 37.1725,
          "symbol": "circle"
         },
         "mode": "markers",
         "name": "SIDE SWIPE",
         "orientation": "v",
         "showlegend": true,
         "type": "scatter",
         "x": [
          44290
         ],
         "xaxis": "x",
         "y": [
          0.2814513394370973
         ],
         "yaxis": "y"
        },
        {
         "hovertemplate": "<b>%{hovertext}</b><br><br>Collision Type=HIT OBJECT<br>Num Collisions=%{marker.size}<br>Avg Injured=%{y}<extra></extra>",
         "hovertext": [
          "HIT OBJECT"
         ],
         "legendgroup": "HIT OBJECT",
         "marker": {
          "color": "#00cc96",
          "size": [
           35640
          ],
          "sizemode": "area",
          "sizeref": 37.1725,
          "symbol": "circle"
         },
         "mode": "markers",
         "name": "HIT OBJECT",
         "orientation": "v",
         "showlegend": true,
         "type": "scatter",
         "x": [
          35640
         ],
         "xaxis": "x",
         "y": [
          0.36149957877000843
         ],
         "yaxis": "y"
        },
        {
         "hovertemplate": "<b>%{hovertext}</b><br><br>Collision Type=BROADSIDE<br>Num Collisions=%{marker.size}<br>Avg Injured=%{y}<extra></extra>",
         "hovertext": [
          "BROADSIDE"
         ],
         "legendgroup": "BROADSIDE",
         "marker": {
          "color": "#ab63fa",
          "size": [
           32670
          ],
          "sizemode": "area",
          "sizeref": 37.1725,
          "symbol": "circle"
         },
         "mode": "markers",
         "name": "BROADSIDE",
         "orientation": "v",
         "showlegend": true,
         "type": "scatter",
         "x": [
          32670
         ],
         "xaxis": "x",
         "y": [
          0.93832909530958
         ],
         "yaxis": "y"
        },
        {
         "hovertemplate": "<b>%{hovertext}</b><br><br>Collision Type=OVERTURNED<br>Num Collisions=%{marker.size}<br>Avg Injured=%{y}<extra></extra>",
         "hovertext": [
          "OVERTURNED"
         ],
         "legendgroup": "OVERTURNED",
         "marker": {
          "color": "#FFA15A",
          "size": [
           4420
          ],
          "sizemode": "area",
          "sizeref": 37.1725,
          "symbol": "circle"
         },
         "mode": "markers",
         "name": "OVERTURNED",
         "orientation": "v",
         "showlegend": true,
         "type": "scatter",
         "x": [
          4420
         ],
         "xaxis": "x",
         "y": [
          0.8169683257918552
         ],
         "yaxis": "y"
        },
        {
         "hovertemplate": "<b>%{hovertext}</b><br><br>Collision Type=HEAD-ON<br>Num Collisions=%{marker.size}<br>Avg Injured=%{y}<extra></extra>",
         "hovertext": [
          "HEAD-ON"
         ],
         "legendgroup": "HEAD-ON",
         "marker": {
          "color": "#19d3f3",
          "size": [
           8217
          ],
          "sizemode": "area",
          "sizeref": 37.1725,
          "symbol": "circle"
         },
         "mode": "markers",
         "name": "HEAD-ON",
         "orientation": "v",
         "showlegend": true,
         "type": "scatter",
         "x": [
          8217
         ],
         "xaxis": "x",
         "y": [
          0.9278752436647173
         ],
         "yaxis": "y"
        },
        {
         "hovertemplate": "<b>%{hovertext}</b><br><br>Collision Type=OTHER<br>Num Collisions=%{marker.size}<br>Avg Injured=%{y}<extra></extra>",
         "hovertext": [
          "OTHER"
         ],
         "legendgroup": "OTHER",
         "marker": {
          "color": "#FF6692",
          "size": [
           5559
          ],
          "sizemode": "area",
          "sizeref": 37.1725,
          "symbol": "circle"
         },
         "mode": "markers",
         "name": "OTHER",
         "orientation": "v",
         "showlegend": true,
         "type": "scatter",
         "x": [
          5559
         ],
         "xaxis": "x",
         "y": [
          0.38551612322104123
         ],
         "yaxis": "y"
        },
        {
         "hovertemplate": "<b>%{hovertext}</b><br><br>Collision Type=VEHICLE/PEDESTRAIN<br>Num Collisions=%{marker.size}<br>Avg Injured=%{y}<extra></extra>",
         "hovertext": [
          "VEHICLE/PEDESTRAIN"
         ],
         "legendgroup": "VEHICLE/PEDESTRAIN",
         "marker": {
          "color": "#B6E880",
          "size": [
           4954
          ],
          "sizemode": "area",
          "sizeref": 37.1725,
          "symbol": "circle"
         },
         "mode": "markers",
         "name": "VEHICLE/PEDESTRAIN",
         "orientation": "v",
         "showlegend": true,
         "type": "scatter",
         "x": [
          4954
         ],
         "xaxis": "x",
         "y": [
          0.9527463651050081
         ],
         "yaxis": "y"
        }
       ],
       "layout": {
        "legend": {
         "itemsizing": "constant",
         "title": {
          "text": "Collision Type"
         },
         "tracegroupgap": 0
        },
        "template": {
         "data": {
          "bar": [
           {
            "error_x": {
             "color": "#2a3f5f"
            },
            "error_y": {
             "color": "#2a3f5f"
            },
            "marker": {
             "line": {
              "color": "#E5ECF6",
              "width": 0.5
             },
             "pattern": {
              "fillmode": "overlay",
              "size": 10,
              "solidity": 0.2
             }
            },
            "type": "bar"
           }
          ],
          "barpolar": [
           {
            "marker": {
             "line": {
              "color": "#E5ECF6",
              "width": 0.5
             },
             "pattern": {
              "fillmode": "overlay",
              "size": 10,
              "solidity": 0.2
             }
            },
            "type": "barpolar"
           }
          ],
          "carpet": [
           {
            "aaxis": {
             "endlinecolor": "#2a3f5f",
             "gridcolor": "white",
             "linecolor": "white",
             "minorgridcolor": "white",
             "startlinecolor": "#2a3f5f"
            },
            "baxis": {
             "endlinecolor": "#2a3f5f",
             "gridcolor": "white",
             "linecolor": "white",
             "minorgridcolor": "white",
             "startlinecolor": "#2a3f5f"
            },
            "type": "carpet"
           }
          ],
          "choropleth": [
           {
            "colorbar": {
             "outlinewidth": 0,
             "ticks": ""
            },
            "type": "choropleth"
           }
          ],
          "contour": [
           {
            "colorbar": {
             "outlinewidth": 0,
             "ticks": ""
            },
            "colorscale": [
             [
              0,
              "#0d0887"
             ],
             [
              0.1111111111111111,
              "#46039f"
             ],
             [
              0.2222222222222222,
              "#7201a8"
             ],
             [
              0.3333333333333333,
              "#9c179e"
             ],
             [
              0.4444444444444444,
              "#bd3786"
             ],
             [
              0.5555555555555556,
              "#d8576b"
             ],
             [
              0.6666666666666666,
              "#ed7953"
             ],
             [
              0.7777777777777778,
              "#fb9f3a"
             ],
             [
              0.8888888888888888,
              "#fdca26"
             ],
             [
              1,
              "#f0f921"
             ]
            ],
            "type": "contour"
           }
          ],
          "contourcarpet": [
           {
            "colorbar": {
             "outlinewidth": 0,
             "ticks": ""
            },
            "type": "contourcarpet"
           }
          ],
          "heatmap": [
           {
            "colorbar": {
             "outlinewidth": 0,
             "ticks": ""
            },
            "colorscale": [
             [
              0,
              "#0d0887"
             ],
             [
              0.1111111111111111,
              "#46039f"
             ],
             [
              0.2222222222222222,
              "#7201a8"
             ],
             [
              0.3333333333333333,
              "#9c179e"
             ],
             [
              0.4444444444444444,
              "#bd3786"
             ],
             [
              0.5555555555555556,
              "#d8576b"
             ],
             [
              0.6666666666666666,
              "#ed7953"
             ],
             [
              0.7777777777777778,
              "#fb9f3a"
             ],
             [
              0.8888888888888888,
              "#fdca26"
             ],
             [
              1,
              "#f0f921"
             ]
            ],
            "type": "heatmap"
           }
          ],
          "heatmapgl": [
           {
            "colorbar": {
             "outlinewidth": 0,
             "ticks": ""
            },
            "colorscale": [
             [
              0,
              "#0d0887"
             ],
             [
              0.1111111111111111,
              "#46039f"
             ],
             [
              0.2222222222222222,
              "#7201a8"
             ],
             [
              0.3333333333333333,
              "#9c179e"
             ],
             [
              0.4444444444444444,
              "#bd3786"
             ],
             [
              0.5555555555555556,
              "#d8576b"
             ],
             [
              0.6666666666666666,
              "#ed7953"
             ],
             [
              0.7777777777777778,
              "#fb9f3a"
             ],
             [
              0.8888888888888888,
              "#fdca26"
             ],
             [
              1,
              "#f0f921"
             ]
            ],
            "type": "heatmapgl"
           }
          ],
          "histogram": [
           {
            "marker": {
             "pattern": {
              "fillmode": "overlay",
              "size": 10,
              "solidity": 0.2
             }
            },
            "type": "histogram"
           }
          ],
          "histogram2d": [
           {
            "colorbar": {
             "outlinewidth": 0,
             "ticks": ""
            },
            "colorscale": [
             [
              0,
              "#0d0887"
             ],
             [
              0.1111111111111111,
              "#46039f"
             ],
             [
              0.2222222222222222,
              "#7201a8"
             ],
             [
              0.3333333333333333,
              "#9c179e"
             ],
             [
              0.4444444444444444,
              "#bd3786"
             ],
             [
              0.5555555555555556,
              "#d8576b"
             ],
             [
              0.6666666666666666,
              "#ed7953"
             ],
             [
              0.7777777777777778,
              "#fb9f3a"
             ],
             [
              0.8888888888888888,
              "#fdca26"
             ],
             [
              1,
              "#f0f921"
             ]
            ],
            "type": "histogram2d"
           }
          ],
          "histogram2dcontour": [
           {
            "colorbar": {
             "outlinewidth": 0,
             "ticks": ""
            },
            "colorscale": [
             [
              0,
              "#0d0887"
             ],
             [
              0.1111111111111111,
              "#46039f"
             ],
             [
              0.2222222222222222,
              "#7201a8"
             ],
             [
              0.3333333333333333,
              "#9c179e"
             ],
             [
              0.4444444444444444,
              "#bd3786"
             ],
             [
              0.5555555555555556,
              "#d8576b"
             ],
             [
              0.6666666666666666,
              "#ed7953"
             ],
             [
              0.7777777777777778,
              "#fb9f3a"
             ],
             [
              0.8888888888888888,
              "#fdca26"
             ],
             [
              1,
              "#f0f921"
             ]
            ],
            "type": "histogram2dcontour"
           }
          ],
          "mesh3d": [
           {
            "colorbar": {
             "outlinewidth": 0,
             "ticks": ""
            },
            "type": "mesh3d"
           }
          ],
          "parcoords": [
           {
            "line": {
             "colorbar": {
              "outlinewidth": 0,
              "ticks": ""
             }
            },
            "type": "parcoords"
           }
          ],
          "pie": [
           {
            "automargin": true,
            "type": "pie"
           }
          ],
          "scatter": [
           {
            "fillpattern": {
             "fillmode": "overlay",
             "size": 10,
             "solidity": 0.2
            },
            "type": "scatter"
           }
          ],
          "scatter3d": [
           {
            "line": {
             "colorbar": {
              "outlinewidth": 0,
              "ticks": ""
             }
            },
            "marker": {
             "colorbar": {
              "outlinewidth": 0,
              "ticks": ""
             }
            },
            "type": "scatter3d"
           }
          ],
          "scattercarpet": [
           {
            "marker": {
             "colorbar": {
              "outlinewidth": 0,
              "ticks": ""
             }
            },
            "type": "scattercarpet"
           }
          ],
          "scattergeo": [
           {
            "marker": {
             "colorbar": {
              "outlinewidth": 0,
              "ticks": ""
             }
            },
            "type": "scattergeo"
           }
          ],
          "scattergl": [
           {
            "marker": {
             "colorbar": {
              "outlinewidth": 0,
              "ticks": ""
             }
            },
            "type": "scattergl"
           }
          ],
          "scattermapbox": [
           {
            "marker": {
             "colorbar": {
              "outlinewidth": 0,
              "ticks": ""
             }
            },
            "type": "scattermapbox"
           }
          ],
          "scatterpolar": [
           {
            "marker": {
             "colorbar": {
              "outlinewidth": 0,
              "ticks": ""
             }
            },
            "type": "scatterpolar"
           }
          ],
          "scatterpolargl": [
           {
            "marker": {
             "colorbar": {
              "outlinewidth": 0,
              "ticks": ""
             }
            },
            "type": "scatterpolargl"
           }
          ],
          "scatterternary": [
           {
            "marker": {
             "colorbar": {
              "outlinewidth": 0,
              "ticks": ""
             }
            },
            "type": "scatterternary"
           }
          ],
          "surface": [
           {
            "colorbar": {
             "outlinewidth": 0,
             "ticks": ""
            },
            "colorscale": [
             [
              0,
              "#0d0887"
             ],
             [
              0.1111111111111111,
              "#46039f"
             ],
             [
              0.2222222222222222,
              "#7201a8"
             ],
             [
              0.3333333333333333,
              "#9c179e"
             ],
             [
              0.4444444444444444,
              "#bd3786"
             ],
             [
              0.5555555555555556,
              "#d8576b"
             ],
             [
              0.6666666666666666,
              "#ed7953"
             ],
             [
              0.7777777777777778,
              "#fb9f3a"
             ],
             [
              0.8888888888888888,
              "#fdca26"
             ],
             [
              1,
              "#f0f921"
             ]
            ],
            "type": "surface"
           }
          ],
          "table": [
           {
            "cells": {
             "fill": {
              "color": "#EBF0F8"
             },
             "line": {
              "color": "white"
             }
            },
            "header": {
             "fill": {
              "color": "#C8D4E3"
             },
             "line": {
              "color": "white"
             }
            },
            "type": "table"
           }
          ]
         },
         "layout": {
          "annotationdefaults": {
           "arrowcolor": "#2a3f5f",
           "arrowhead": 0,
           "arrowwidth": 1
          },
          "autotypenumbers": "strict",
          "coloraxis": {
           "colorbar": {
            "outlinewidth": 0,
            "ticks": ""
           }
          },
          "colorscale": {
           "diverging": [
            [
             0,
             "#8e0152"
            ],
            [
             0.1,
             "#c51b7d"
            ],
            [
             0.2,
             "#de77ae"
            ],
            [
             0.3,
             "#f1b6da"
            ],
            [
             0.4,
             "#fde0ef"
            ],
            [
             0.5,
             "#f7f7f7"
            ],
            [
             0.6,
             "#e6f5d0"
            ],
            [
             0.7,
             "#b8e186"
            ],
            [
             0.8,
             "#7fbc41"
            ],
            [
             0.9,
             "#4d9221"
            ],
            [
             1,
             "#276419"
            ]
           ],
           "sequential": [
            [
             0,
             "#0d0887"
            ],
            [
             0.1111111111111111,
             "#46039f"
            ],
            [
             0.2222222222222222,
             "#7201a8"
            ],
            [
             0.3333333333333333,
             "#9c179e"
            ],
            [
             0.4444444444444444,
             "#bd3786"
            ],
            [
             0.5555555555555556,
             "#d8576b"
            ],
            [
             0.6666666666666666,
             "#ed7953"
            ],
            [
             0.7777777777777778,
             "#fb9f3a"
            ],
            [
             0.8888888888888888,
             "#fdca26"
            ],
            [
             1,
             "#f0f921"
            ]
           ],
           "sequentialminus": [
            [
             0,
             "#0d0887"
            ],
            [
             0.1111111111111111,
             "#46039f"
            ],
            [
             0.2222222222222222,
             "#7201a8"
            ],
            [
             0.3333333333333333,
             "#9c179e"
            ],
            [
             0.4444444444444444,
             "#bd3786"
            ],
            [
             0.5555555555555556,
             "#d8576b"
            ],
            [
             0.6666666666666666,
             "#ed7953"
            ],
            [
             0.7777777777777778,
             "#fb9f3a"
            ],
            [
             0.8888888888888888,
             "#fdca26"
            ],
            [
             1,
             "#f0f921"
            ]
           ]
          },
          "colorway": [
           "#636efa",
           "#EF553B",
           "#00cc96",
           "#ab63fa",
           "#FFA15A",
           "#19d3f3",
           "#FF6692",
           "#B6E880",
           "#FF97FF",
           "#FECB52"
          ],
          "font": {
           "color": "#2a3f5f"
          },
          "geo": {
           "bgcolor": "white",
           "lakecolor": "white",
           "landcolor": "#E5ECF6",
           "showlakes": true,
           "showland": true,
           "subunitcolor": "white"
          },
          "hoverlabel": {
           "align": "left"
          },
          "hovermode": "closest",
          "mapbox": {
           "style": "light"
          },
          "paper_bgcolor": "white",
          "plot_bgcolor": "#E5ECF6",
          "polar": {
           "angularaxis": {
            "gridcolor": "white",
            "linecolor": "white",
            "ticks": ""
           },
           "bgcolor": "#E5ECF6",
           "radialaxis": {
            "gridcolor": "white",
            "linecolor": "white",
            "ticks": ""
           }
          },
          "scene": {
           "xaxis": {
            "backgroundcolor": "#E5ECF6",
            "gridcolor": "white",
            "gridwidth": 2,
            "linecolor": "white",
            "showbackground": true,
            "ticks": "",
            "zerolinecolor": "white"
           },
           "yaxis": {
            "backgroundcolor": "#E5ECF6",
            "gridcolor": "white",
            "gridwidth": 2,
            "linecolor": "white",
            "showbackground": true,
            "ticks": "",
            "zerolinecolor": "white"
           },
           "zaxis": {
            "backgroundcolor": "#E5ECF6",
            "gridcolor": "white",
            "gridwidth": 2,
            "linecolor": "white",
            "showbackground": true,
            "ticks": "",
            "zerolinecolor": "white"
           }
          },
          "shapedefaults": {
           "line": {
            "color": "#2a3f5f"
           }
          },
          "ternary": {
           "aaxis": {
            "gridcolor": "white",
            "linecolor": "white",
            "ticks": ""
           },
           "baxis": {
            "gridcolor": "white",
            "linecolor": "white",
            "ticks": ""
           },
           "bgcolor": "#E5ECF6",
           "caxis": {
            "gridcolor": "white",
            "linecolor": "white",
            "ticks": ""
           }
          },
          "title": {
           "x": 0.05
          },
          "xaxis": {
           "automargin": true,
           "gridcolor": "white",
           "linecolor": "white",
           "ticks": "",
           "title": {
            "standoff": 15
           },
           "zerolinecolor": "white",
           "zerolinewidth": 2
          },
          "yaxis": {
           "automargin": true,
           "gridcolor": "white",
           "linecolor": "white",
           "ticks": "",
           "title": {
            "standoff": 15
           },
           "zerolinecolor": "white",
           "zerolinewidth": 2
          }
         }
        },
        "title": {
         "text": "Average Injured vs Number of Collisions by Collision Type"
        },
        "xaxis": {
         "anchor": "y",
         "domain": [
          0,
          1
         ],
         "title": {
          "text": "Number of Collisions"
         }
        },
        "yaxis": {
         "anchor": "x",
         "domain": [
          0,
          1
         ],
         "title": {
          "text": "Average Number Injured"
         }
        }
       }
      }
     },
     "metadata": {},
     "output_type": "display_data"
    }
   ],
   "source": [
    "# Scatter plot: Collision type frequency vs average injuries\n",
    "fig = px.scatter(\n",
    "    collision_type,\n",
    "    x='Num Collisions',\n",
    "    y='Avg Injured',\n",
    "    color='Collision Type',\n",
    "    hover_name='Collision Type',\n",
    "    title = 'Average Injured vs Number of Collisions by Collision Type',\n",
    "    category_orders={'Collision Type': col_order},\n",
    "    size='Num Collisions',\n",
    "    size_max=40\n",
    ")\n",
    "\n",
    "fig.update_layout(\n",
    "    xaxis_title='Number of Collisions',\n",
    "    yaxis_title='Average Number Injured',\n",
    "    legend_title='Collision Type'\n",
    ")\n",
    "\n",
    "fig.show()"
   ]
  },
  {
   "cell_type": "markdown",
   "id": "96e8ba32",
   "metadata": {},
   "source": [
    "Previously, we examined collision types separately using two bar charts: one for **number of collisions** and another for **average injuries**.  \n",
    "This scatterplot combines both dimensions:  \n",
    "- **X-axis** = number of collisions  \n",
    "- **Y-axis** = average number of injuries  \n",
    "- **Dot size** = number of collisions (scaled)  \n",
    "\n",
    "Key takeaway: **Broadsides (T-bone collisions)** stand out with both a high average number of injuries and a high frequency (top four by count). Given this impact, we researched strategies to reduce the risks associated with broadside crashes.  \n",
    "\n",
    "**Prevention strategies**  \n",
    "- Practice defensive driving at intersections\n",
    "- Slow down and scan both directions, even with a green light  \n",
    "- Avoid accelerating immediately when the light turns green, reducing exposure to red-light runners\n",
    "- Follow traffic rules: avoid running red lights or rolling through stop signs\n",
    "\n",
    "**Impact reduction strategies**  \n",
    "- Vehicle design: side-curtain airbags, reinforced door beams, and strong side-impact safety ratings \n",
    "- Driver/rider behavior: maintain upright seating positions and reduce speed around busy intersections  \n",
    "- Further research opportunity: analyze whether certain makes/models with better side-impact protection correlate with lower injury rates in broadside collisions"
   ]
  },
  {
   "cell_type": "markdown",
   "id": "21c0b702",
   "metadata": {},
   "source": [
    "## Key Insights\n",
    "\n",
    "From the 2025 YTD California collision data, several patterns emerge:\n",
    "\n",
    "- **Passenger vehicles** dominate collision counts, but **pedestrian and bicycle crashes** stand out as the most dangerous, with the highest average number of injuries per collision.  \n",
    "- **Broadsides (T-bone collisions)** combine both high frequency and high injury severity, making them a critical target for prevention strategies.  \n",
    "- **Head-on and overturned collisions** are less frequent but remain among the most severe crash types.  \n",
    "- **Stationary object collisions** (fixed objects, parked vehicles) are common, but generally result in fewer injuries.  \n",
    "\n",
    "Together, these findings highlight the importance of focusing not just on *common* crash types, but also on those that are disproportionately severe. This has implications for **traffic safety policy, intersection design, and vehicle safety features** (e.g., side-impact protection)."
   ]
  },
  {
   "cell_type": "markdown",
   "id": "5c895c2c",
   "metadata": {},
   "source": []
  }
 ],
 "metadata": {
  "kernelspec": {
   "display_name": "base",
   "language": "python",
   "name": "python3"
  },
  "language_info": {
   "codemirror_mode": {
    "name": "ipython",
    "version": 3
   },
   "file_extension": ".py",
   "mimetype": "text/x-python",
   "name": "python",
   "nbconvert_exporter": "python",
   "pygments_lexer": "ipython3",
   "version": "3.12.7"
  }
 },
 "nbformat": 4,
 "nbformat_minor": 5
}
